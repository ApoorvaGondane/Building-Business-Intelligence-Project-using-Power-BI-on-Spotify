{
 "cells": [
  {
   "cell_type": "code",
   "execution_count": 5,
   "id": "cc7fcc19",
   "metadata": {},
   "outputs": [],
   "source": [
    "# Import spotipy and initialise\n",
    "import spotipy\n",
    "from spotipy.oauth2 import SpotifyClientCredentials\n",
    "client_id = '37969ca8df8a4809b9fce62dd478c7af'\n",
    "client_secret = '58a3e0aa94244934a6e7e8ddb335646d'\n",
    "client_credentials_manager = SpotifyClientCredentials(client_id, client_secret)\n",
    "sp = spotipy.Spotify(client_credentials_manager=client_credentials_manager)"
   ]
  },
  {
   "cell_type": "code",
   "execution_count": 103,
   "id": "f850572d",
   "metadata": {},
   "outputs": [
    {
     "data": {
      "text/html": [
       "        <script type=\"text/javascript\">\n",
       "        window.PlotlyConfig = {MathJaxConfig: 'local'};\n",
       "        if (window.MathJax && window.MathJax.Hub && window.MathJax.Hub.Config) {window.MathJax.Hub.Config({SVG: {font: \"STIX-Web\"}});}\n",
       "        if (typeof require !== 'undefined') {\n",
       "        require.undef(\"plotly\");\n",
       "        requirejs.config({\n",
       "            paths: {\n",
       "                'plotly': ['https://cdn.plot.ly/plotly-2.16.1.min']\n",
       "            }\n",
       "        });\n",
       "        require(['plotly'], function(Plotly) {\n",
       "            window._Plotly = Plotly;\n",
       "        });\n",
       "        }\n",
       "        </script>\n",
       "        "
      ]
     },
     "metadata": {},
     "output_type": "display_data"
    }
   ],
   "source": [
    "# Import necessary library\n",
    "import pandas as pd\n",
    "import os\n",
    "import glob\n",
    "import numpy as np\n",
    "import chart_studio.plotly as py\n",
    "import chart_studio.tools as tls\n",
    "import plotly.express as px\n",
    "from plotly.offline import init_notebook_mode, iplot\n",
    "init_notebook_mode(connected=True)\n",
    "import plotly.graph_objs as go\n",
    "import chart_studio"
   ]
  },
  {
   "cell_type": "code",
   "execution_count": 96,
   "id": "b93ee177",
   "metadata": {},
   "outputs": [],
   "source": [
    "# Creating an empty lists for track features\n",
    "def years(yr):\n",
    "    year = \"\"\n",
    "    artist = []\n",
    "    track = []\n",
    "    track_popularity = []\n",
    "    artist_id = []\n",
    "    track_id = []\n",
    "    length = []\n",
    "    #Quering Track features\n",
    "    for i in range(0,1000,50):\n",
    "\n",
    "    # Market = 'IN' -> IN is India\n",
    "        tracks = sp.search(q='year:'+str(yr), type = 'track', market = 'IN', limit = 50, offset = i)\n",
    "    for i, j in enumerate(tracks['tracks']['items']):\n",
    "        artist.append(j['artists'][0]['name'])\n",
    "        artist_id.append(j['artists'][0]['id'])\n",
    "        track.append(j['name'])\n",
    "        track_id.append(j['id'])\n",
    "        track_popularity.append(j['popularity'])\n",
    "        length.append(j['duration_ms'])\n",
    "    df = pd.DataFrame({'Artist' : artist, 'Track' : track, 'Track_id' : track_id, 'Track_popularity' : track_popularity, 'Artist_id' : artist_id, 'Length' : length})\n",
    "    # Store in the dataframe\n",
    "    #print(df.shape)\n",
    "    return df\n",
    "    \n",
    "#years(2022)"
   ]
  },
  {
   "cell_type": "code",
   "execution_count": 97,
   "id": "1baf38f5",
   "metadata": {},
   "outputs": [
    {
     "name": "stdout",
     "output_type": "stream",
     "text": [
      "(50, 6)\n"
     ]
    },
    {
     "data": {
      "text/html": [
       "<div>\n",
       "<style scoped>\n",
       "    .dataframe tbody tr th:only-of-type {\n",
       "        vertical-align: middle;\n",
       "    }\n",
       "\n",
       "    .dataframe tbody tr th {\n",
       "        vertical-align: top;\n",
       "    }\n",
       "\n",
       "    .dataframe thead th {\n",
       "        text-align: right;\n",
       "    }\n",
       "</style>\n",
       "<table border=\"1\" class=\"dataframe\">\n",
       "  <thead>\n",
       "    <tr style=\"text-align: right;\">\n",
       "      <th></th>\n",
       "      <th>Artist</th>\n",
       "      <th>Track</th>\n",
       "      <th>Track_id</th>\n",
       "      <th>Track_popularity</th>\n",
       "      <th>Artist_id</th>\n",
       "      <th>Length</th>\n",
       "    </tr>\n",
       "  </thead>\n",
       "  <tbody>\n",
       "    <tr>\n",
       "      <th>0</th>\n",
       "      <td>Bruno Mars</td>\n",
       "      <td>Just the Way You Are</td>\n",
       "      <td>27QQSJbO5w34WyZPVELygt</td>\n",
       "      <td>0</td>\n",
       "      <td>0du5cEVh5yTK9QJze8zA0C</td>\n",
       "      <td>220733</td>\n",
       "    </tr>\n",
       "    <tr>\n",
       "      <th>1</th>\n",
       "      <td>Bruno Mars</td>\n",
       "      <td>Talking to the Moon</td>\n",
       "      <td>6PAIBT51goao7IlFgfoLDJ</td>\n",
       "      <td>0</td>\n",
       "      <td>0du5cEVh5yTK9QJze8zA0C</td>\n",
       "      <td>217866</td>\n",
       "    </tr>\n",
       "    <tr>\n",
       "      <th>2</th>\n",
       "      <td>Bruno Mars</td>\n",
       "      <td>Skate</td>\n",
       "      <td>3UKvpxMCUKRwrLselgLQt9</td>\n",
       "      <td>0</td>\n",
       "      <td>0du5cEVh5yTK9QJze8zA0C</td>\n",
       "      <td>203122</td>\n",
       "    </tr>\n",
       "    <tr>\n",
       "      <th>3</th>\n",
       "      <td>Bruno Mars</td>\n",
       "      <td>After Last Night</td>\n",
       "      <td>45xxQo8wexX4p6DnFCyOMC</td>\n",
       "      <td>0</td>\n",
       "      <td>0du5cEVh5yTK9QJze8zA0C</td>\n",
       "      <td>249444</td>\n",
       "    </tr>\n",
       "    <tr>\n",
       "      <th>4</th>\n",
       "      <td>Bruno Mars</td>\n",
       "      <td>Leave the Door Open</td>\n",
       "      <td>3ZJND4wSYOi5DsSS1kt4tH</td>\n",
       "      <td>0</td>\n",
       "      <td>0du5cEVh5yTK9QJze8zA0C</td>\n",
       "      <td>242096</td>\n",
       "    </tr>\n",
       "    <tr>\n",
       "      <th>5</th>\n",
       "      <td>Bruno Mars</td>\n",
       "      <td>Skate</td>\n",
       "      <td>1Lhqq8EpmFaOXnsU0uh20d</td>\n",
       "      <td>0</td>\n",
       "      <td>0du5cEVh5yTK9QJze8zA0C</td>\n",
       "      <td>203122</td>\n",
       "    </tr>\n",
       "    <tr>\n",
       "      <th>6</th>\n",
       "      <td>Bruno Mars</td>\n",
       "      <td>That's What I Like</td>\n",
       "      <td>2RfStOTI2vjuMVbcN08G23</td>\n",
       "      <td>0</td>\n",
       "      <td>0du5cEVh5yTK9QJze8zA0C</td>\n",
       "      <td>205080</td>\n",
       "    </tr>\n",
       "    <tr>\n",
       "      <th>7</th>\n",
       "      <td>Bruno Mars</td>\n",
       "      <td>Just the Way You Are - Carl Louis &amp; Martin Dan...</td>\n",
       "      <td>4Q7pejOhpdIlBIVOCX74z7</td>\n",
       "      <td>0</td>\n",
       "      <td>0du5cEVh5yTK9QJze8zA0C</td>\n",
       "      <td>317887</td>\n",
       "    </tr>\n",
       "    <tr>\n",
       "      <th>8</th>\n",
       "      <td>Bruno Mars</td>\n",
       "      <td>Marry You</td>\n",
       "      <td>2MhxIByFz2l67nEvAAI2Zk</td>\n",
       "      <td>0</td>\n",
       "      <td>0du5cEVh5yTK9QJze8zA0C</td>\n",
       "      <td>230120</td>\n",
       "    </tr>\n",
       "    <tr>\n",
       "      <th>9</th>\n",
       "      <td>Bruno Mars</td>\n",
       "      <td>After Last Night</td>\n",
       "      <td>7sOamxM4WbJHCTSRptdxse</td>\n",
       "      <td>0</td>\n",
       "      <td>0du5cEVh5yTK9QJze8zA0C</td>\n",
       "      <td>249444</td>\n",
       "    </tr>\n",
       "    <tr>\n",
       "      <th>10</th>\n",
       "      <td>Bruno Mars</td>\n",
       "      <td>Grenade - Acoustic</td>\n",
       "      <td>1bWZPnFtUsPsHDD9KhldCU</td>\n",
       "      <td>0</td>\n",
       "      <td>0du5cEVh5yTK9QJze8zA0C</td>\n",
       "      <td>246640</td>\n",
       "    </tr>\n",
       "    <tr>\n",
       "      <th>11</th>\n",
       "      <td>Bruno Mars</td>\n",
       "      <td>Skate</td>\n",
       "      <td>576IrYxgSWj3dQ8a9zcM6w</td>\n",
       "      <td>0</td>\n",
       "      <td>0du5cEVh5yTK9QJze8zA0C</td>\n",
       "      <td>203122</td>\n",
       "    </tr>\n",
       "    <tr>\n",
       "      <th>12</th>\n",
       "      <td>Bruno Mars</td>\n",
       "      <td>When I Was Your Man</td>\n",
       "      <td>2cABcQoW6uThyXYI83E7po</td>\n",
       "      <td>0</td>\n",
       "      <td>0du5cEVh5yTK9QJze8zA0C</td>\n",
       "      <td>213826</td>\n",
       "    </tr>\n",
       "    <tr>\n",
       "      <th>13</th>\n",
       "      <td>Bruno Mars</td>\n",
       "      <td>Leave the Door Open</td>\n",
       "      <td>6BX8e5STQ3fBHTBsu6dDYO</td>\n",
       "      <td>0</td>\n",
       "      <td>0du5cEVh5yTK9QJze8zA0C</td>\n",
       "      <td>242096</td>\n",
       "    </tr>\n",
       "    <tr>\n",
       "      <th>14</th>\n",
       "      <td>Bruno Mars</td>\n",
       "      <td>Leave the Door Open</td>\n",
       "      <td>4GwYTPnlq3Ygkr3A6lbWxn</td>\n",
       "      <td>0</td>\n",
       "      <td>0du5cEVh5yTK9QJze8zA0C</td>\n",
       "      <td>242096</td>\n",
       "    </tr>\n",
       "    <tr>\n",
       "      <th>15</th>\n",
       "      <td>Bruno Mars</td>\n",
       "      <td>When I Was Your Man</td>\n",
       "      <td>0KX7I079JIb2ekmqO92A4y</td>\n",
       "      <td>0</td>\n",
       "      <td>0du5cEVh5yTK9QJze8zA0C</td>\n",
       "      <td>213826</td>\n",
       "    </tr>\n",
       "    <tr>\n",
       "      <th>16</th>\n",
       "      <td>Bruno Mars</td>\n",
       "      <td>Leave the Door Open</td>\n",
       "      <td>7oNAx1KRxEvhe585FFz0Vb</td>\n",
       "      <td>0</td>\n",
       "      <td>0du5cEVh5yTK9QJze8zA0C</td>\n",
       "      <td>242096</td>\n",
       "    </tr>\n",
       "    <tr>\n",
       "      <th>17</th>\n",
       "      <td>Bruno Mars</td>\n",
       "      <td>After Last Night</td>\n",
       "      <td>3CiC59KSmkohPPw5EFuL3s</td>\n",
       "      <td>0</td>\n",
       "      <td>0du5cEVh5yTK9QJze8zA0C</td>\n",
       "      <td>249444</td>\n",
       "    </tr>\n",
       "    <tr>\n",
       "      <th>18</th>\n",
       "      <td>Bruno Mars</td>\n",
       "      <td>Leave the Door Open</td>\n",
       "      <td>0zu8DaquGIUB1XhOiiRKQW</td>\n",
       "      <td>0</td>\n",
       "      <td>0du5cEVh5yTK9QJze8zA0C</td>\n",
       "      <td>242096</td>\n",
       "    </tr>\n",
       "    <tr>\n",
       "      <th>19</th>\n",
       "      <td>Bruno Mars</td>\n",
       "      <td>Leave the Door Open</td>\n",
       "      <td>2TmVhkBDkMRmfp3vCF632g</td>\n",
       "      <td>0</td>\n",
       "      <td>0du5cEVh5yTK9QJze8zA0C</td>\n",
       "      <td>242096</td>\n",
       "    </tr>\n",
       "    <tr>\n",
       "      <th>20</th>\n",
       "      <td>Bruno Mars</td>\n",
       "      <td>Talking to the Moon</td>\n",
       "      <td>2iEaLlj6HBhK8pof511vZf</td>\n",
       "      <td>0</td>\n",
       "      <td>0du5cEVh5yTK9QJze8zA0C</td>\n",
       "      <td>217866</td>\n",
       "    </tr>\n",
       "    <tr>\n",
       "      <th>21</th>\n",
       "      <td>Bruno Mars</td>\n",
       "      <td>Skate</td>\n",
       "      <td>6WHsC1ZFHsdsCzNsQumbCP</td>\n",
       "      <td>1</td>\n",
       "      <td>0du5cEVh5yTK9QJze8zA0C</td>\n",
       "      <td>203122</td>\n",
       "    </tr>\n",
       "    <tr>\n",
       "      <th>22</th>\n",
       "      <td>Bruno Mars</td>\n",
       "      <td>After Last Night</td>\n",
       "      <td>0bBHITOsdAdq5ykyH0amFX</td>\n",
       "      <td>0</td>\n",
       "      <td>0du5cEVh5yTK9QJze8zA0C</td>\n",
       "      <td>249444</td>\n",
       "    </tr>\n",
       "    <tr>\n",
       "      <th>23</th>\n",
       "      <td>Bruno Mars</td>\n",
       "      <td>Leave the Door Open</td>\n",
       "      <td>2pvRescv6Av6N5Dy75I4xE</td>\n",
       "      <td>0</td>\n",
       "      <td>0du5cEVh5yTK9QJze8zA0C</td>\n",
       "      <td>242096</td>\n",
       "    </tr>\n",
       "    <tr>\n",
       "      <th>24</th>\n",
       "      <td>Bruno Mars</td>\n",
       "      <td>Talking to the Moon</td>\n",
       "      <td>1cxG7sMMzRYAhimZSg5lab</td>\n",
       "      <td>0</td>\n",
       "      <td>0du5cEVh5yTK9QJze8zA0C</td>\n",
       "      <td>217866</td>\n",
       "    </tr>\n",
       "    <tr>\n",
       "      <th>25</th>\n",
       "      <td>Bruno Mars</td>\n",
       "      <td>Leave the Door Open</td>\n",
       "      <td>6Pk0Rcj7RkSZbAyKTAE3So</td>\n",
       "      <td>0</td>\n",
       "      <td>0du5cEVh5yTK9QJze8zA0C</td>\n",
       "      <td>242096</td>\n",
       "    </tr>\n",
       "    <tr>\n",
       "      <th>26</th>\n",
       "      <td>Bruno Mars</td>\n",
       "      <td>After Last Night</td>\n",
       "      <td>3SXHpfEV5Nqn2w5dPCC9zE</td>\n",
       "      <td>0</td>\n",
       "      <td>0du5cEVh5yTK9QJze8zA0C</td>\n",
       "      <td>249444</td>\n",
       "    </tr>\n",
       "    <tr>\n",
       "      <th>27</th>\n",
       "      <td>Bruno Mars</td>\n",
       "      <td>Leave the Door Open</td>\n",
       "      <td>6PNGArMfom4pimHkbCigqH</td>\n",
       "      <td>0</td>\n",
       "      <td>0du5cEVh5yTK9QJze8zA0C</td>\n",
       "      <td>242096</td>\n",
       "    </tr>\n",
       "    <tr>\n",
       "      <th>28</th>\n",
       "      <td>Bruno Mars</td>\n",
       "      <td>Smokin out the Window</td>\n",
       "      <td>63xgWgtgrakQm0f2z4Uvn4</td>\n",
       "      <td>0</td>\n",
       "      <td>0du5cEVh5yTK9QJze8zA0C</td>\n",
       "      <td>197442</td>\n",
       "    </tr>\n",
       "    <tr>\n",
       "      <th>29</th>\n",
       "      <td>Bruno Mars</td>\n",
       "      <td>Leave the Door Open</td>\n",
       "      <td>7FFnHFhgVjGLSk0prGYW35</td>\n",
       "      <td>0</td>\n",
       "      <td>0du5cEVh5yTK9QJze8zA0C</td>\n",
       "      <td>242096</td>\n",
       "    </tr>\n",
       "    <tr>\n",
       "      <th>30</th>\n",
       "      <td>Bruno Mars</td>\n",
       "      <td>Leave the Door Open</td>\n",
       "      <td>1A6Nsavkymw5Gjp2msckYY</td>\n",
       "      <td>0</td>\n",
       "      <td>0du5cEVh5yTK9QJze8zA0C</td>\n",
       "      <td>242096</td>\n",
       "    </tr>\n",
       "    <tr>\n",
       "      <th>31</th>\n",
       "      <td>Bruno Mars</td>\n",
       "      <td>Treasure</td>\n",
       "      <td>4FSGGAbUvvpXuwFic0SyQc</td>\n",
       "      <td>0</td>\n",
       "      <td>0du5cEVh5yTK9QJze8zA0C</td>\n",
       "      <td>176093</td>\n",
       "    </tr>\n",
       "    <tr>\n",
       "      <th>32</th>\n",
       "      <td>Bruno Mars</td>\n",
       "      <td>Leave the Door Open</td>\n",
       "      <td>6tmyhRPCIYUimJ9PTNNu6Z</td>\n",
       "      <td>0</td>\n",
       "      <td>0du5cEVh5yTK9QJze8zA0C</td>\n",
       "      <td>242096</td>\n",
       "    </tr>\n",
       "    <tr>\n",
       "      <th>33</th>\n",
       "      <td>Bruno Mars</td>\n",
       "      <td>Marry You</td>\n",
       "      <td>3PvqisPIIW6PDcPbGxERJl</td>\n",
       "      <td>0</td>\n",
       "      <td>0du5cEVh5yTK9QJze8zA0C</td>\n",
       "      <td>230120</td>\n",
       "    </tr>\n",
       "    <tr>\n",
       "      <th>34</th>\n",
       "      <td>Bruno Mars</td>\n",
       "      <td>Smokin out the Window</td>\n",
       "      <td>3vWiOENgN9vfEiut9g8dRY</td>\n",
       "      <td>0</td>\n",
       "      <td>0du5cEVh5yTK9QJze8zA0C</td>\n",
       "      <td>197442</td>\n",
       "    </tr>\n",
       "    <tr>\n",
       "      <th>35</th>\n",
       "      <td>Bruno Mars</td>\n",
       "      <td>Talking to the Moon</td>\n",
       "      <td>3iTNvukX0MmLnrlwIi14CZ</td>\n",
       "      <td>0</td>\n",
       "      <td>0du5cEVh5yTK9QJze8zA0C</td>\n",
       "      <td>217866</td>\n",
       "    </tr>\n",
       "    <tr>\n",
       "      <th>36</th>\n",
       "      <td>Bruno Mars</td>\n",
       "      <td>Grenade - Passion Pit Remix</td>\n",
       "      <td>2P4yq1p9PaKhUA4NwxVuGE</td>\n",
       "      <td>0</td>\n",
       "      <td>0du5cEVh5yTK9QJze8zA0C</td>\n",
       "      <td>370811</td>\n",
       "    </tr>\n",
       "    <tr>\n",
       "      <th>37</th>\n",
       "      <td>Bruno Mars</td>\n",
       "      <td>24K Magic</td>\n",
       "      <td>2h4WzFQwC5aS7Trdtsn6lV</td>\n",
       "      <td>0</td>\n",
       "      <td>0du5cEVh5yTK9QJze8zA0C</td>\n",
       "      <td>225983</td>\n",
       "    </tr>\n",
       "    <tr>\n",
       "      <th>38</th>\n",
       "      <td>Bruno Mars</td>\n",
       "      <td>After Last Night</td>\n",
       "      <td>5unWdlkyZWGiknxZpZOWhn</td>\n",
       "      <td>0</td>\n",
       "      <td>0du5cEVh5yTK9QJze8zA0C</td>\n",
       "      <td>249444</td>\n",
       "    </tr>\n",
       "    <tr>\n",
       "      <th>39</th>\n",
       "      <td>Bruno Mars</td>\n",
       "      <td>Skate</td>\n",
       "      <td>2XvGrcNbXZ4FTCL5sDZKYV</td>\n",
       "      <td>0</td>\n",
       "      <td>0du5cEVh5yTK9QJze8zA0C</td>\n",
       "      <td>203122</td>\n",
       "    </tr>\n",
       "    <tr>\n",
       "      <th>40</th>\n",
       "      <td>Bruno Mars</td>\n",
       "      <td>Calling All My Lovelies</td>\n",
       "      <td>096GSGkyj73NLrKB0JXisM</td>\n",
       "      <td>0</td>\n",
       "      <td>0du5cEVh5yTK9QJze8zA0C</td>\n",
       "      <td>250080</td>\n",
       "    </tr>\n",
       "    <tr>\n",
       "      <th>41</th>\n",
       "      <td>Bruno Mars</td>\n",
       "      <td>24K Magic - R3hab Remix</td>\n",
       "      <td>17WoColcCmytlb4AJNCA3B</td>\n",
       "      <td>0</td>\n",
       "      <td>0du5cEVh5yTK9QJze8zA0C</td>\n",
       "      <td>158678</td>\n",
       "    </tr>\n",
       "    <tr>\n",
       "      <th>42</th>\n",
       "      <td>Bruno Mars</td>\n",
       "      <td>Just the Way You Are</td>\n",
       "      <td>6ptRBUsJWYzd9OxGuK3xYD</td>\n",
       "      <td>1</td>\n",
       "      <td>0du5cEVh5yTK9QJze8zA0C</td>\n",
       "      <td>220733</td>\n",
       "    </tr>\n",
       "    <tr>\n",
       "      <th>43</th>\n",
       "      <td>Bruno Mars</td>\n",
       "      <td>Skate</td>\n",
       "      <td>2a2kp7oDRifHhup1dpzAtl</td>\n",
       "      <td>0</td>\n",
       "      <td>0du5cEVh5yTK9QJze8zA0C</td>\n",
       "      <td>203122</td>\n",
       "    </tr>\n",
       "    <tr>\n",
       "      <th>44</th>\n",
       "      <td>Bruno Mars</td>\n",
       "      <td>Leave the Door Open</td>\n",
       "      <td>545a8Ddjhp1ldQdq1499lF</td>\n",
       "      <td>0</td>\n",
       "      <td>0du5cEVh5yTK9QJze8zA0C</td>\n",
       "      <td>242096</td>\n",
       "    </tr>\n",
       "    <tr>\n",
       "      <th>45</th>\n",
       "      <td>Bruno Mars</td>\n",
       "      <td>Leave the Door Open</td>\n",
       "      <td>4XgtHNWdDYshPIzK37cvGC</td>\n",
       "      <td>0</td>\n",
       "      <td>0du5cEVh5yTK9QJze8zA0C</td>\n",
       "      <td>242096</td>\n",
       "    </tr>\n",
       "    <tr>\n",
       "      <th>46</th>\n",
       "      <td>Bruno Mars</td>\n",
       "      <td>Leave the Door Open</td>\n",
       "      <td>2uBYxTaJan4vR9z0ckwBc5</td>\n",
       "      <td>0</td>\n",
       "      <td>0du5cEVh5yTK9QJze8zA0C</td>\n",
       "      <td>242096</td>\n",
       "    </tr>\n",
       "    <tr>\n",
       "      <th>47</th>\n",
       "      <td>Crush</td>\n",
       "      <td>Rush Hour (Feat. j-hope of BTS)</td>\n",
       "      <td>5aucVLKiumD89mxVCB4zvS</td>\n",
       "      <td>79</td>\n",
       "      <td>6aLdhHUqgdKE86xbtNmY8g</td>\n",
       "      <td>177302</td>\n",
       "    </tr>\n",
       "    <tr>\n",
       "      <th>48</th>\n",
       "      <td>J Balvin</td>\n",
       "      <td>Ay Vamos</td>\n",
       "      <td>1mqondFAiCUQ7i5iS8CAej</td>\n",
       "      <td>6</td>\n",
       "      <td>1vyhD5VmyZ7KMfW5gqLgo5</td>\n",
       "      <td>226413</td>\n",
       "    </tr>\n",
       "    <tr>\n",
       "      <th>49</th>\n",
       "      <td>J Balvin</td>\n",
       "      <td>Ahora</td>\n",
       "      <td>7EHmIBSyFLRm9Ocm3QAJZu</td>\n",
       "      <td>5</td>\n",
       "      <td>1vyhD5VmyZ7KMfW5gqLgo5</td>\n",
       "      <td>254906</td>\n",
       "    </tr>\n",
       "  </tbody>\n",
       "</table>\n",
       "</div>"
      ],
      "text/plain": [
       "        Artist                                              Track  \\\n",
       "0   Bruno Mars                               Just the Way You Are   \n",
       "1   Bruno Mars                                Talking to the Moon   \n",
       "2   Bruno Mars                                              Skate   \n",
       "3   Bruno Mars                                   After Last Night   \n",
       "4   Bruno Mars                                Leave the Door Open   \n",
       "5   Bruno Mars                                              Skate   \n",
       "6   Bruno Mars                                 That's What I Like   \n",
       "7   Bruno Mars  Just the Way You Are - Carl Louis & Martin Dan...   \n",
       "8   Bruno Mars                                          Marry You   \n",
       "9   Bruno Mars                                   After Last Night   \n",
       "10  Bruno Mars                                 Grenade - Acoustic   \n",
       "11  Bruno Mars                                              Skate   \n",
       "12  Bruno Mars                                When I Was Your Man   \n",
       "13  Bruno Mars                                Leave the Door Open   \n",
       "14  Bruno Mars                                Leave the Door Open   \n",
       "15  Bruno Mars                                When I Was Your Man   \n",
       "16  Bruno Mars                                Leave the Door Open   \n",
       "17  Bruno Mars                                   After Last Night   \n",
       "18  Bruno Mars                                Leave the Door Open   \n",
       "19  Bruno Mars                                Leave the Door Open   \n",
       "20  Bruno Mars                                Talking to the Moon   \n",
       "21  Bruno Mars                                              Skate   \n",
       "22  Bruno Mars                                   After Last Night   \n",
       "23  Bruno Mars                                Leave the Door Open   \n",
       "24  Bruno Mars                                Talking to the Moon   \n",
       "25  Bruno Mars                                Leave the Door Open   \n",
       "26  Bruno Mars                                   After Last Night   \n",
       "27  Bruno Mars                                Leave the Door Open   \n",
       "28  Bruno Mars                              Smokin out the Window   \n",
       "29  Bruno Mars                                Leave the Door Open   \n",
       "30  Bruno Mars                                Leave the Door Open   \n",
       "31  Bruno Mars                                           Treasure   \n",
       "32  Bruno Mars                                Leave the Door Open   \n",
       "33  Bruno Mars                                          Marry You   \n",
       "34  Bruno Mars                              Smokin out the Window   \n",
       "35  Bruno Mars                                Talking to the Moon   \n",
       "36  Bruno Mars                        Grenade - Passion Pit Remix   \n",
       "37  Bruno Mars                                          24K Magic   \n",
       "38  Bruno Mars                                   After Last Night   \n",
       "39  Bruno Mars                                              Skate   \n",
       "40  Bruno Mars                            Calling All My Lovelies   \n",
       "41  Bruno Mars                            24K Magic - R3hab Remix   \n",
       "42  Bruno Mars                               Just the Way You Are   \n",
       "43  Bruno Mars                                              Skate   \n",
       "44  Bruno Mars                                Leave the Door Open   \n",
       "45  Bruno Mars                                Leave the Door Open   \n",
       "46  Bruno Mars                                Leave the Door Open   \n",
       "47       Crush                    Rush Hour (Feat. j-hope of BTS)   \n",
       "48    J Balvin                                           Ay Vamos   \n",
       "49    J Balvin                                              Ahora   \n",
       "\n",
       "                  Track_id  Track_popularity               Artist_id  Length  \n",
       "0   27QQSJbO5w34WyZPVELygt                 0  0du5cEVh5yTK9QJze8zA0C  220733  \n",
       "1   6PAIBT51goao7IlFgfoLDJ                 0  0du5cEVh5yTK9QJze8zA0C  217866  \n",
       "2   3UKvpxMCUKRwrLselgLQt9                 0  0du5cEVh5yTK9QJze8zA0C  203122  \n",
       "3   45xxQo8wexX4p6DnFCyOMC                 0  0du5cEVh5yTK9QJze8zA0C  249444  \n",
       "4   3ZJND4wSYOi5DsSS1kt4tH                 0  0du5cEVh5yTK9QJze8zA0C  242096  \n",
       "5   1Lhqq8EpmFaOXnsU0uh20d                 0  0du5cEVh5yTK9QJze8zA0C  203122  \n",
       "6   2RfStOTI2vjuMVbcN08G23                 0  0du5cEVh5yTK9QJze8zA0C  205080  \n",
       "7   4Q7pejOhpdIlBIVOCX74z7                 0  0du5cEVh5yTK9QJze8zA0C  317887  \n",
       "8   2MhxIByFz2l67nEvAAI2Zk                 0  0du5cEVh5yTK9QJze8zA0C  230120  \n",
       "9   7sOamxM4WbJHCTSRptdxse                 0  0du5cEVh5yTK9QJze8zA0C  249444  \n",
       "10  1bWZPnFtUsPsHDD9KhldCU                 0  0du5cEVh5yTK9QJze8zA0C  246640  \n",
       "11  576IrYxgSWj3dQ8a9zcM6w                 0  0du5cEVh5yTK9QJze8zA0C  203122  \n",
       "12  2cABcQoW6uThyXYI83E7po                 0  0du5cEVh5yTK9QJze8zA0C  213826  \n",
       "13  6BX8e5STQ3fBHTBsu6dDYO                 0  0du5cEVh5yTK9QJze8zA0C  242096  \n",
       "14  4GwYTPnlq3Ygkr3A6lbWxn                 0  0du5cEVh5yTK9QJze8zA0C  242096  \n",
       "15  0KX7I079JIb2ekmqO92A4y                 0  0du5cEVh5yTK9QJze8zA0C  213826  \n",
       "16  7oNAx1KRxEvhe585FFz0Vb                 0  0du5cEVh5yTK9QJze8zA0C  242096  \n",
       "17  3CiC59KSmkohPPw5EFuL3s                 0  0du5cEVh5yTK9QJze8zA0C  249444  \n",
       "18  0zu8DaquGIUB1XhOiiRKQW                 0  0du5cEVh5yTK9QJze8zA0C  242096  \n",
       "19  2TmVhkBDkMRmfp3vCF632g                 0  0du5cEVh5yTK9QJze8zA0C  242096  \n",
       "20  2iEaLlj6HBhK8pof511vZf                 0  0du5cEVh5yTK9QJze8zA0C  217866  \n",
       "21  6WHsC1ZFHsdsCzNsQumbCP                 1  0du5cEVh5yTK9QJze8zA0C  203122  \n",
       "22  0bBHITOsdAdq5ykyH0amFX                 0  0du5cEVh5yTK9QJze8zA0C  249444  \n",
       "23  2pvRescv6Av6N5Dy75I4xE                 0  0du5cEVh5yTK9QJze8zA0C  242096  \n",
       "24  1cxG7sMMzRYAhimZSg5lab                 0  0du5cEVh5yTK9QJze8zA0C  217866  \n",
       "25  6Pk0Rcj7RkSZbAyKTAE3So                 0  0du5cEVh5yTK9QJze8zA0C  242096  \n",
       "26  3SXHpfEV5Nqn2w5dPCC9zE                 0  0du5cEVh5yTK9QJze8zA0C  249444  \n",
       "27  6PNGArMfom4pimHkbCigqH                 0  0du5cEVh5yTK9QJze8zA0C  242096  \n",
       "28  63xgWgtgrakQm0f2z4Uvn4                 0  0du5cEVh5yTK9QJze8zA0C  197442  \n",
       "29  7FFnHFhgVjGLSk0prGYW35                 0  0du5cEVh5yTK9QJze8zA0C  242096  \n",
       "30  1A6Nsavkymw5Gjp2msckYY                 0  0du5cEVh5yTK9QJze8zA0C  242096  \n",
       "31  4FSGGAbUvvpXuwFic0SyQc                 0  0du5cEVh5yTK9QJze8zA0C  176093  \n",
       "32  6tmyhRPCIYUimJ9PTNNu6Z                 0  0du5cEVh5yTK9QJze8zA0C  242096  \n",
       "33  3PvqisPIIW6PDcPbGxERJl                 0  0du5cEVh5yTK9QJze8zA0C  230120  \n",
       "34  3vWiOENgN9vfEiut9g8dRY                 0  0du5cEVh5yTK9QJze8zA0C  197442  \n",
       "35  3iTNvukX0MmLnrlwIi14CZ                 0  0du5cEVh5yTK9QJze8zA0C  217866  \n",
       "36  2P4yq1p9PaKhUA4NwxVuGE                 0  0du5cEVh5yTK9QJze8zA0C  370811  \n",
       "37  2h4WzFQwC5aS7Trdtsn6lV                 0  0du5cEVh5yTK9QJze8zA0C  225983  \n",
       "38  5unWdlkyZWGiknxZpZOWhn                 0  0du5cEVh5yTK9QJze8zA0C  249444  \n",
       "39  2XvGrcNbXZ4FTCL5sDZKYV                 0  0du5cEVh5yTK9QJze8zA0C  203122  \n",
       "40  096GSGkyj73NLrKB0JXisM                 0  0du5cEVh5yTK9QJze8zA0C  250080  \n",
       "41  17WoColcCmytlb4AJNCA3B                 0  0du5cEVh5yTK9QJze8zA0C  158678  \n",
       "42  6ptRBUsJWYzd9OxGuK3xYD                 1  0du5cEVh5yTK9QJze8zA0C  220733  \n",
       "43  2a2kp7oDRifHhup1dpzAtl                 0  0du5cEVh5yTK9QJze8zA0C  203122  \n",
       "44  545a8Ddjhp1ldQdq1499lF                 0  0du5cEVh5yTK9QJze8zA0C  242096  \n",
       "45  4XgtHNWdDYshPIzK37cvGC                 0  0du5cEVh5yTK9QJze8zA0C  242096  \n",
       "46  2uBYxTaJan4vR9z0ckwBc5                 0  0du5cEVh5yTK9QJze8zA0C  242096  \n",
       "47  5aucVLKiumD89mxVCB4zvS                79  6aLdhHUqgdKE86xbtNmY8g  177302  \n",
       "48  1mqondFAiCUQ7i5iS8CAej                 6  1vyhD5VmyZ7KMfW5gqLgo5  226413  \n",
       "49  7EHmIBSyFLRm9Ocm3QAJZu                 5  1vyhD5VmyZ7KMfW5gqLgo5  254906  "
      ]
     },
     "execution_count": 97,
     "metadata": {},
     "output_type": "execute_result"
    }
   ],
   "source": [
    "# Store in the dataframe\n",
    "\n",
    "df = years(2022)\n",
    "print(df.shape)\n",
    "df"
   ]
  },
  {
   "cell_type": "code",
   "execution_count": 98,
   "id": "0a293e5d",
   "metadata": {},
   "outputs": [
    {
     "data": {
      "text/html": [
       "<div>\n",
       "<style scoped>\n",
       "    .dataframe tbody tr th:only-of-type {\n",
       "        vertical-align: middle;\n",
       "    }\n",
       "\n",
       "    .dataframe tbody tr th {\n",
       "        vertical-align: top;\n",
       "    }\n",
       "\n",
       "    .dataframe thead th {\n",
       "        text-align: right;\n",
       "    }\n",
       "</style>\n",
       "<table border=\"1\" class=\"dataframe\">\n",
       "  <thead>\n",
       "    <tr style=\"text-align: right;\">\n",
       "      <th></th>\n",
       "      <th>Artist</th>\n",
       "      <th>Track</th>\n",
       "      <th>Track_id</th>\n",
       "      <th>Track_popularity</th>\n",
       "      <th>Artist_id</th>\n",
       "      <th>Length</th>\n",
       "      <th>Artist_Popularity</th>\n",
       "      <th>Genres</th>\n",
       "      <th>Followers</th>\n",
       "    </tr>\n",
       "  </thead>\n",
       "  <tbody>\n",
       "    <tr>\n",
       "      <th>0</th>\n",
       "      <td>Bruno Mars</td>\n",
       "      <td>Just the Way You Are</td>\n",
       "      <td>27QQSJbO5w34WyZPVELygt</td>\n",
       "      <td>0</td>\n",
       "      <td>0du5cEVh5yTK9QJze8zA0C</td>\n",
       "      <td>220733</td>\n",
       "      <td>65</td>\n",
       "      <td>[desi pop, modern bollywood]</td>\n",
       "      <td>58394</td>\n",
       "    </tr>\n",
       "    <tr>\n",
       "      <th>1</th>\n",
       "      <td>Bruno Mars</td>\n",
       "      <td>Talking to the Moon</td>\n",
       "      <td>6PAIBT51goao7IlFgfoLDJ</td>\n",
       "      <td>0</td>\n",
       "      <td>0du5cEVh5yTK9QJze8zA0C</td>\n",
       "      <td>217866</td>\n",
       "      <td>74</td>\n",
       "      <td>[desi hip hop, desi pop, desi trap, haryanvi p...</td>\n",
       "      <td>22364346</td>\n",
       "    </tr>\n",
       "    <tr>\n",
       "      <th>2</th>\n",
       "      <td>Bruno Mars</td>\n",
       "      <td>Skate</td>\n",
       "      <td>3UKvpxMCUKRwrLselgLQt9</td>\n",
       "      <td>0</td>\n",
       "      <td>0du5cEVh5yTK9QJze8zA0C</td>\n",
       "      <td>203122</td>\n",
       "      <td>64</td>\n",
       "      <td>[desi hip hop, desi pop, punjabi pop]</td>\n",
       "      <td>654802</td>\n",
       "    </tr>\n",
       "    <tr>\n",
       "      <th>3</th>\n",
       "      <td>Bruno Mars</td>\n",
       "      <td>After Last Night</td>\n",
       "      <td>45xxQo8wexX4p6DnFCyOMC</td>\n",
       "      <td>0</td>\n",
       "      <td>0du5cEVh5yTK9QJze8zA0C</td>\n",
       "      <td>249444</td>\n",
       "      <td>53</td>\n",
       "      <td>[k-pop]</td>\n",
       "      <td>508570</td>\n",
       "    </tr>\n",
       "    <tr>\n",
       "      <th>4</th>\n",
       "      <td>Bruno Mars</td>\n",
       "      <td>Leave the Door Open</td>\n",
       "      <td>3ZJND4wSYOi5DsSS1kt4tH</td>\n",
       "      <td>0</td>\n",
       "      <td>0du5cEVh5yTK9QJze8zA0C</td>\n",
       "      <td>242096</td>\n",
       "      <td>48</td>\n",
       "      <td>[punjabi pop]</td>\n",
       "      <td>51375</td>\n",
       "    </tr>\n",
       "    <tr>\n",
       "      <th>5</th>\n",
       "      <td>Bruno Mars</td>\n",
       "      <td>Skate</td>\n",
       "      <td>1Lhqq8EpmFaOXnsU0uh20d</td>\n",
       "      <td>0</td>\n",
       "      <td>0du5cEVh5yTK9QJze8zA0C</td>\n",
       "      <td>203122</td>\n",
       "      <td>66</td>\n",
       "      <td>[]</td>\n",
       "      <td>155214</td>\n",
       "    </tr>\n",
       "    <tr>\n",
       "      <th>6</th>\n",
       "      <td>Bruno Mars</td>\n",
       "      <td>That's What I Like</td>\n",
       "      <td>2RfStOTI2vjuMVbcN08G23</td>\n",
       "      <td>0</td>\n",
       "      <td>0du5cEVh5yTK9QJze8zA0C</td>\n",
       "      <td>205080</td>\n",
       "      <td>48</td>\n",
       "      <td>[punjabi pop]</td>\n",
       "      <td>51375</td>\n",
       "    </tr>\n",
       "    <tr>\n",
       "      <th>7</th>\n",
       "      <td>Bruno Mars</td>\n",
       "      <td>Just the Way You Are - Carl Louis &amp; Martin Dan...</td>\n",
       "      <td>4Q7pejOhpdIlBIVOCX74z7</td>\n",
       "      <td>0</td>\n",
       "      <td>0du5cEVh5yTK9QJze8zA0C</td>\n",
       "      <td>317887</td>\n",
       "      <td>54</td>\n",
       "      <td>[desi hip hop, punjabi hip hop]</td>\n",
       "      <td>60814</td>\n",
       "    </tr>\n",
       "    <tr>\n",
       "      <th>8</th>\n",
       "      <td>Bruno Mars</td>\n",
       "      <td>Marry You</td>\n",
       "      <td>2MhxIByFz2l67nEvAAI2Zk</td>\n",
       "      <td>0</td>\n",
       "      <td>0du5cEVh5yTK9QJze8zA0C</td>\n",
       "      <td>230120</td>\n",
       "      <td>79</td>\n",
       "      <td>[pluggnb]</td>\n",
       "      <td>1386202</td>\n",
       "    </tr>\n",
       "    <tr>\n",
       "      <th>9</th>\n",
       "      <td>Bruno Mars</td>\n",
       "      <td>After Last Night</td>\n",
       "      <td>7sOamxM4WbJHCTSRptdxse</td>\n",
       "      <td>0</td>\n",
       "      <td>0du5cEVh5yTK9QJze8zA0C</td>\n",
       "      <td>249444</td>\n",
       "      <td>82</td>\n",
       "      <td>[big room, brostep, dance pop, dutch edm, edm,...</td>\n",
       "      <td>6594306</td>\n",
       "    </tr>\n",
       "    <tr>\n",
       "      <th>10</th>\n",
       "      <td>Bruno Mars</td>\n",
       "      <td>Grenade - Acoustic</td>\n",
       "      <td>1bWZPnFtUsPsHDD9KhldCU</td>\n",
       "      <td>0</td>\n",
       "      <td>0du5cEVh5yTK9QJze8zA0C</td>\n",
       "      <td>246640</td>\n",
       "      <td>49</td>\n",
       "      <td>[koligeet]</td>\n",
       "      <td>64824</td>\n",
       "    </tr>\n",
       "    <tr>\n",
       "      <th>11</th>\n",
       "      <td>Bruno Mars</td>\n",
       "      <td>Skate</td>\n",
       "      <td>576IrYxgSWj3dQ8a9zcM6w</td>\n",
       "      <td>0</td>\n",
       "      <td>0du5cEVh5yTK9QJze8zA0C</td>\n",
       "      <td>203122</td>\n",
       "      <td>89</td>\n",
       "      <td>[canadian pop, pop]</td>\n",
       "      <td>67609711</td>\n",
       "    </tr>\n",
       "    <tr>\n",
       "      <th>12</th>\n",
       "      <td>Bruno Mars</td>\n",
       "      <td>When I Was Your Man</td>\n",
       "      <td>2cABcQoW6uThyXYI83E7po</td>\n",
       "      <td>0</td>\n",
       "      <td>0du5cEVh5yTK9QJze8zA0C</td>\n",
       "      <td>213826</td>\n",
       "      <td>59</td>\n",
       "      <td>[drift phonk]</td>\n",
       "      <td>18587</td>\n",
       "    </tr>\n",
       "    <tr>\n",
       "      <th>13</th>\n",
       "      <td>Bruno Mars</td>\n",
       "      <td>Leave the Door Open</td>\n",
       "      <td>6BX8e5STQ3fBHTBsu6dDYO</td>\n",
       "      <td>0</td>\n",
       "      <td>0du5cEVh5yTK9QJze8zA0C</td>\n",
       "      <td>242096</td>\n",
       "      <td>64</td>\n",
       "      <td>[desi hip hop, desi pop, punjabi pop]</td>\n",
       "      <td>3594505</td>\n",
       "    </tr>\n",
       "    <tr>\n",
       "      <th>14</th>\n",
       "      <td>Bruno Mars</td>\n",
       "      <td>Leave the Door Open</td>\n",
       "      <td>4GwYTPnlq3Ygkr3A6lbWxn</td>\n",
       "      <td>0</td>\n",
       "      <td>0du5cEVh5yTK9QJze8zA0C</td>\n",
       "      <td>242096</td>\n",
       "      <td>60</td>\n",
       "      <td>[k-pop, pop]</td>\n",
       "      <td>1706634</td>\n",
       "    </tr>\n",
       "    <tr>\n",
       "      <th>15</th>\n",
       "      <td>Bruno Mars</td>\n",
       "      <td>When I Was Your Man</td>\n",
       "      <td>0KX7I079JIb2ekmqO92A4y</td>\n",
       "      <td>0</td>\n",
       "      <td>0du5cEVh5yTK9QJze8zA0C</td>\n",
       "      <td>213826</td>\n",
       "      <td>48</td>\n",
       "      <td>[desi pop]</td>\n",
       "      <td>95855</td>\n",
       "    </tr>\n",
       "    <tr>\n",
       "      <th>16</th>\n",
       "      <td>Bruno Mars</td>\n",
       "      <td>Leave the Door Open</td>\n",
       "      <td>7oNAx1KRxEvhe585FFz0Vb</td>\n",
       "      <td>0</td>\n",
       "      <td>0du5cEVh5yTK9QJze8zA0C</td>\n",
       "      <td>242096</td>\n",
       "      <td>51</td>\n",
       "      <td>[haryanvi hip hop, haryanvi pop]</td>\n",
       "      <td>341692</td>\n",
       "    </tr>\n",
       "    <tr>\n",
       "      <th>17</th>\n",
       "      <td>Bruno Mars</td>\n",
       "      <td>After Last Night</td>\n",
       "      <td>3CiC59KSmkohPPw5EFuL3s</td>\n",
       "      <td>0</td>\n",
       "      <td>0du5cEVh5yTK9QJze8zA0C</td>\n",
       "      <td>249444</td>\n",
       "      <td>66</td>\n",
       "      <td>[desi pop, punjabi pop]</td>\n",
       "      <td>5897201</td>\n",
       "    </tr>\n",
       "    <tr>\n",
       "      <th>18</th>\n",
       "      <td>Bruno Mars</td>\n",
       "      <td>Leave the Door Open</td>\n",
       "      <td>0zu8DaquGIUB1XhOiiRKQW</td>\n",
       "      <td>0</td>\n",
       "      <td>0du5cEVh5yTK9QJze8zA0C</td>\n",
       "      <td>242096</td>\n",
       "      <td>76</td>\n",
       "      <td>[classic bollywood, desi pop, filmi, hare kris...</td>\n",
       "      <td>7302949</td>\n",
       "    </tr>\n",
       "    <tr>\n",
       "      <th>19</th>\n",
       "      <td>Bruno Mars</td>\n",
       "      <td>Leave the Door Open</td>\n",
       "      <td>2TmVhkBDkMRmfp3vCF632g</td>\n",
       "      <td>0</td>\n",
       "      <td>0du5cEVh5yTK9QJze8zA0C</td>\n",
       "      <td>242096</td>\n",
       "      <td>55</td>\n",
       "      <td>[desi pop, haryanvi pop]</td>\n",
       "      <td>96957</td>\n",
       "    </tr>\n",
       "    <tr>\n",
       "      <th>20</th>\n",
       "      <td>Bruno Mars</td>\n",
       "      <td>Talking to the Moon</td>\n",
       "      <td>2iEaLlj6HBhK8pof511vZf</td>\n",
       "      <td>0</td>\n",
       "      <td>0du5cEVh5yTK9QJze8zA0C</td>\n",
       "      <td>217866</td>\n",
       "      <td>81</td>\n",
       "      <td>[k-pop, k-pop boy group]</td>\n",
       "      <td>9592459</td>\n",
       "    </tr>\n",
       "    <tr>\n",
       "      <th>21</th>\n",
       "      <td>Bruno Mars</td>\n",
       "      <td>Skate</td>\n",
       "      <td>6WHsC1ZFHsdsCzNsQumbCP</td>\n",
       "      <td>1</td>\n",
       "      <td>0du5cEVh5yTK9QJze8zA0C</td>\n",
       "      <td>203122</td>\n",
       "      <td>53</td>\n",
       "      <td>[bhojpuri pop]</td>\n",
       "      <td>97327</td>\n",
       "    </tr>\n",
       "    <tr>\n",
       "      <th>22</th>\n",
       "      <td>Bruno Mars</td>\n",
       "      <td>After Last Night</td>\n",
       "      <td>0bBHITOsdAdq5ykyH0amFX</td>\n",
       "      <td>0</td>\n",
       "      <td>0du5cEVh5yTK9QJze8zA0C</td>\n",
       "      <td>249444</td>\n",
       "      <td>51</td>\n",
       "      <td>[desi hip hop, indian underground rap]</td>\n",
       "      <td>43428</td>\n",
       "    </tr>\n",
       "    <tr>\n",
       "      <th>23</th>\n",
       "      <td>Bruno Mars</td>\n",
       "      <td>Leave the Door Open</td>\n",
       "      <td>2pvRescv6Av6N5Dy75I4xE</td>\n",
       "      <td>0</td>\n",
       "      <td>0du5cEVh5yTK9QJze8zA0C</td>\n",
       "      <td>242096</td>\n",
       "      <td>71</td>\n",
       "      <td>[punjabi pop]</td>\n",
       "      <td>485167</td>\n",
       "    </tr>\n",
       "    <tr>\n",
       "      <th>24</th>\n",
       "      <td>Bruno Mars</td>\n",
       "      <td>Talking to the Moon</td>\n",
       "      <td>1cxG7sMMzRYAhimZSg5lab</td>\n",
       "      <td>0</td>\n",
       "      <td>0du5cEVh5yTK9QJze8zA0C</td>\n",
       "      <td>217866</td>\n",
       "      <td>60</td>\n",
       "      <td>[k-pop, pop]</td>\n",
       "      <td>1706634</td>\n",
       "    </tr>\n",
       "    <tr>\n",
       "      <th>25</th>\n",
       "      <td>Bruno Mars</td>\n",
       "      <td>Leave the Door Open</td>\n",
       "      <td>6Pk0Rcj7RkSZbAyKTAE3So</td>\n",
       "      <td>0</td>\n",
       "      <td>0du5cEVh5yTK9QJze8zA0C</td>\n",
       "      <td>242096</td>\n",
       "      <td>61</td>\n",
       "      <td>[gen z singer-songwriter]</td>\n",
       "      <td>171826</td>\n",
       "    </tr>\n",
       "    <tr>\n",
       "      <th>26</th>\n",
       "      <td>Bruno Mars</td>\n",
       "      <td>After Last Night</td>\n",
       "      <td>3SXHpfEV5Nqn2w5dPCC9zE</td>\n",
       "      <td>0</td>\n",
       "      <td>0du5cEVh5yTK9QJze8zA0C</td>\n",
       "      <td>249444</td>\n",
       "      <td>71</td>\n",
       "      <td>[comic]</td>\n",
       "      <td>1616655</td>\n",
       "    </tr>\n",
       "    <tr>\n",
       "      <th>27</th>\n",
       "      <td>Bruno Mars</td>\n",
       "      <td>Leave the Door Open</td>\n",
       "      <td>6PNGArMfom4pimHkbCigqH</td>\n",
       "      <td>0</td>\n",
       "      <td>0du5cEVh5yTK9QJze8zA0C</td>\n",
       "      <td>242096</td>\n",
       "      <td>32</td>\n",
       "      <td>[]</td>\n",
       "      <td>426</td>\n",
       "    </tr>\n",
       "    <tr>\n",
       "      <th>28</th>\n",
       "      <td>Bruno Mars</td>\n",
       "      <td>Smokin out the Window</td>\n",
       "      <td>63xgWgtgrakQm0f2z4Uvn4</td>\n",
       "      <td>0</td>\n",
       "      <td>0du5cEVh5yTK9QJze8zA0C</td>\n",
       "      <td>197442</td>\n",
       "      <td>33</td>\n",
       "      <td>[]</td>\n",
       "      <td>1012</td>\n",
       "    </tr>\n",
       "    <tr>\n",
       "      <th>29</th>\n",
       "      <td>Bruno Mars</td>\n",
       "      <td>Leave the Door Open</td>\n",
       "      <td>7FFnHFhgVjGLSk0prGYW35</td>\n",
       "      <td>0</td>\n",
       "      <td>0du5cEVh5yTK9QJze8zA0C</td>\n",
       "      <td>242096</td>\n",
       "      <td>69</td>\n",
       "      <td>[filmi, tamil pop]</td>\n",
       "      <td>5021964</td>\n",
       "    </tr>\n",
       "    <tr>\n",
       "      <th>30</th>\n",
       "      <td>Bruno Mars</td>\n",
       "      <td>Leave the Door Open</td>\n",
       "      <td>1A6Nsavkymw5Gjp2msckYY</td>\n",
       "      <td>0</td>\n",
       "      <td>0du5cEVh5yTK9QJze8zA0C</td>\n",
       "      <td>242096</td>\n",
       "      <td>59</td>\n",
       "      <td>[punjabi pop]</td>\n",
       "      <td>107703</td>\n",
       "    </tr>\n",
       "    <tr>\n",
       "      <th>31</th>\n",
       "      <td>Bruno Mars</td>\n",
       "      <td>Treasure</td>\n",
       "      <td>4FSGGAbUvvpXuwFic0SyQc</td>\n",
       "      <td>0</td>\n",
       "      <td>0du5cEVh5yTK9QJze8zA0C</td>\n",
       "      <td>176093</td>\n",
       "      <td>47</td>\n",
       "      <td>[desi pop, filmi, modern bollywood]</td>\n",
       "      <td>194870</td>\n",
       "    </tr>\n",
       "    <tr>\n",
       "      <th>32</th>\n",
       "      <td>Bruno Mars</td>\n",
       "      <td>Leave the Door Open</td>\n",
       "      <td>6tmyhRPCIYUimJ9PTNNu6Z</td>\n",
       "      <td>0</td>\n",
       "      <td>0du5cEVh5yTK9QJze8zA0C</td>\n",
       "      <td>242096</td>\n",
       "      <td>63</td>\n",
       "      <td>[desi pop, filmi, modern bollywood]</td>\n",
       "      <td>569392</td>\n",
       "    </tr>\n",
       "    <tr>\n",
       "      <th>33</th>\n",
       "      <td>Bruno Mars</td>\n",
       "      <td>Marry You</td>\n",
       "      <td>3PvqisPIIW6PDcPbGxERJl</td>\n",
       "      <td>0</td>\n",
       "      <td>0du5cEVh5yTK9QJze8zA0C</td>\n",
       "      <td>230120</td>\n",
       "      <td>53</td>\n",
       "      <td>[bhojpuri pop]</td>\n",
       "      <td>97327</td>\n",
       "    </tr>\n",
       "    <tr>\n",
       "      <th>34</th>\n",
       "      <td>Bruno Mars</td>\n",
       "      <td>Smokin out the Window</td>\n",
       "      <td>3vWiOENgN9vfEiut9g8dRY</td>\n",
       "      <td>0</td>\n",
       "      <td>0du5cEVh5yTK9QJze8zA0C</td>\n",
       "      <td>197442</td>\n",
       "      <td>51</td>\n",
       "      <td>[desi hip hop, indian underground rap]</td>\n",
       "      <td>43428</td>\n",
       "    </tr>\n",
       "    <tr>\n",
       "      <th>35</th>\n",
       "      <td>Bruno Mars</td>\n",
       "      <td>Talking to the Moon</td>\n",
       "      <td>3iTNvukX0MmLnrlwIi14CZ</td>\n",
       "      <td>0</td>\n",
       "      <td>0du5cEVh5yTK9QJze8zA0C</td>\n",
       "      <td>217866</td>\n",
       "      <td>79</td>\n",
       "      <td>[filmi, modern bollywood]</td>\n",
       "      <td>26660301</td>\n",
       "    </tr>\n",
       "    <tr>\n",
       "      <th>36</th>\n",
       "      <td>Bruno Mars</td>\n",
       "      <td>Grenade - Passion Pit Remix</td>\n",
       "      <td>2P4yq1p9PaKhUA4NwxVuGE</td>\n",
       "      <td>0</td>\n",
       "      <td>0du5cEVh5yTK9QJze8zA0C</td>\n",
       "      <td>370811</td>\n",
       "      <td>80</td>\n",
       "      <td>[dance pop, pop, post-teen pop]</td>\n",
       "      <td>28564011</td>\n",
       "    </tr>\n",
       "    <tr>\n",
       "      <th>37</th>\n",
       "      <td>Bruno Mars</td>\n",
       "      <td>24K Magic</td>\n",
       "      <td>2h4WzFQwC5aS7Trdtsn6lV</td>\n",
       "      <td>0</td>\n",
       "      <td>0du5cEVh5yTK9QJze8zA0C</td>\n",
       "      <td>225983</td>\n",
       "      <td>32</td>\n",
       "      <td>[indian lo-fi]</td>\n",
       "      <td>442</td>\n",
       "    </tr>\n",
       "    <tr>\n",
       "      <th>38</th>\n",
       "      <td>Bruno Mars</td>\n",
       "      <td>After Last Night</td>\n",
       "      <td>5unWdlkyZWGiknxZpZOWhn</td>\n",
       "      <td>0</td>\n",
       "      <td>0du5cEVh5yTK9QJze8zA0C</td>\n",
       "      <td>249444</td>\n",
       "      <td>39</td>\n",
       "      <td>[punjabi pop]</td>\n",
       "      <td>8296</td>\n",
       "    </tr>\n",
       "    <tr>\n",
       "      <th>39</th>\n",
       "      <td>Bruno Mars</td>\n",
       "      <td>Skate</td>\n",
       "      <td>2XvGrcNbXZ4FTCL5sDZKYV</td>\n",
       "      <td>0</td>\n",
       "      <td>0du5cEVh5yTK9QJze8zA0C</td>\n",
       "      <td>203122</td>\n",
       "      <td>79</td>\n",
       "      <td>[melodic drill]</td>\n",
       "      <td>1895651</td>\n",
       "    </tr>\n",
       "    <tr>\n",
       "      <th>40</th>\n",
       "      <td>Bruno Mars</td>\n",
       "      <td>Calling All My Lovelies</td>\n",
       "      <td>096GSGkyj73NLrKB0JXisM</td>\n",
       "      <td>0</td>\n",
       "      <td>0du5cEVh5yTK9QJze8zA0C</td>\n",
       "      <td>250080</td>\n",
       "      <td>76</td>\n",
       "      <td>[desi pop, filmi, hare krishna, modern bollywood]</td>\n",
       "      <td>7124265</td>\n",
       "    </tr>\n",
       "    <tr>\n",
       "      <th>41</th>\n",
       "      <td>Bruno Mars</td>\n",
       "      <td>24K Magic - R3hab Remix</td>\n",
       "      <td>17WoColcCmytlb4AJNCA3B</td>\n",
       "      <td>0</td>\n",
       "      <td>0du5cEVh5yTK9QJze8zA0C</td>\n",
       "      <td>158678</td>\n",
       "      <td>76</td>\n",
       "      <td>[desi pop, filmi, hare krishna, modern bollywood]</td>\n",
       "      <td>7124265</td>\n",
       "    </tr>\n",
       "    <tr>\n",
       "      <th>42</th>\n",
       "      <td>Bruno Mars</td>\n",
       "      <td>Just the Way You Are</td>\n",
       "      <td>6ptRBUsJWYzd9OxGuK3xYD</td>\n",
       "      <td>1</td>\n",
       "      <td>0du5cEVh5yTK9QJze8zA0C</td>\n",
       "      <td>220733</td>\n",
       "      <td>59</td>\n",
       "      <td>[bhojpuri pop]</td>\n",
       "      <td>212719</td>\n",
       "    </tr>\n",
       "    <tr>\n",
       "      <th>43</th>\n",
       "      <td>Bruno Mars</td>\n",
       "      <td>Skate</td>\n",
       "      <td>2a2kp7oDRifHhup1dpzAtl</td>\n",
       "      <td>0</td>\n",
       "      <td>0du5cEVh5yTK9QJze8zA0C</td>\n",
       "      <td>203122</td>\n",
       "      <td>54</td>\n",
       "      <td>[desi hip hop, hindi hip hop, indian indie]</td>\n",
       "      <td>234764</td>\n",
       "    </tr>\n",
       "    <tr>\n",
       "      <th>44</th>\n",
       "      <td>Bruno Mars</td>\n",
       "      <td>Leave the Door Open</td>\n",
       "      <td>545a8Ddjhp1ldQdq1499lF</td>\n",
       "      <td>0</td>\n",
       "      <td>0du5cEVh5yTK9QJze8zA0C</td>\n",
       "      <td>242096</td>\n",
       "      <td>76</td>\n",
       "      <td>[dance pop, edm, pop, pop dance, pop house, tr...</td>\n",
       "      <td>562332</td>\n",
       "    </tr>\n",
       "    <tr>\n",
       "      <th>45</th>\n",
       "      <td>Bruno Mars</td>\n",
       "      <td>Leave the Door Open</td>\n",
       "      <td>4XgtHNWdDYshPIzK37cvGC</td>\n",
       "      <td>0</td>\n",
       "      <td>0du5cEVh5yTK9QJze8zA0C</td>\n",
       "      <td>242096</td>\n",
       "      <td>68</td>\n",
       "      <td>[uk hip hop]</td>\n",
       "      <td>2495731</td>\n",
       "    </tr>\n",
       "    <tr>\n",
       "      <th>46</th>\n",
       "      <td>Bruno Mars</td>\n",
       "      <td>Leave the Door Open</td>\n",
       "      <td>2uBYxTaJan4vR9z0ckwBc5</td>\n",
       "      <td>0</td>\n",
       "      <td>0du5cEVh5yTK9QJze8zA0C</td>\n",
       "      <td>242096</td>\n",
       "      <td>79</td>\n",
       "      <td>[hip hop, rap]</td>\n",
       "      <td>1176728</td>\n",
       "    </tr>\n",
       "    <tr>\n",
       "      <th>47</th>\n",
       "      <td>Crush</td>\n",
       "      <td>Rush Hour (Feat. j-hope of BTS)</td>\n",
       "      <td>5aucVLKiumD89mxVCB4zvS</td>\n",
       "      <td>79</td>\n",
       "      <td>6aLdhHUqgdKE86xbtNmY8g</td>\n",
       "      <td>177302</td>\n",
       "      <td>33</td>\n",
       "      <td>[]</td>\n",
       "      <td>2844</td>\n",
       "    </tr>\n",
       "    <tr>\n",
       "      <th>48</th>\n",
       "      <td>J Balvin</td>\n",
       "      <td>Ay Vamos</td>\n",
       "      <td>1mqondFAiCUQ7i5iS8CAej</td>\n",
       "      <td>6</td>\n",
       "      <td>1vyhD5VmyZ7KMfW5gqLgo5</td>\n",
       "      <td>226413</td>\n",
       "      <td>71</td>\n",
       "      <td>[punjabi pop]</td>\n",
       "      <td>485167</td>\n",
       "    </tr>\n",
       "    <tr>\n",
       "      <th>49</th>\n",
       "      <td>J Balvin</td>\n",
       "      <td>Ahora</td>\n",
       "      <td>7EHmIBSyFLRm9Ocm3QAJZu</td>\n",
       "      <td>5</td>\n",
       "      <td>1vyhD5VmyZ7KMfW5gqLgo5</td>\n",
       "      <td>254906</td>\n",
       "      <td>72</td>\n",
       "      <td>[k-pop girl group]</td>\n",
       "      <td>4889429</td>\n",
       "    </tr>\n",
       "  </tbody>\n",
       "</table>\n",
       "</div>"
      ],
      "text/plain": [
       "        Artist                                              Track  \\\n",
       "0   Bruno Mars                               Just the Way You Are   \n",
       "1   Bruno Mars                                Talking to the Moon   \n",
       "2   Bruno Mars                                              Skate   \n",
       "3   Bruno Mars                                   After Last Night   \n",
       "4   Bruno Mars                                Leave the Door Open   \n",
       "5   Bruno Mars                                              Skate   \n",
       "6   Bruno Mars                                 That's What I Like   \n",
       "7   Bruno Mars  Just the Way You Are - Carl Louis & Martin Dan...   \n",
       "8   Bruno Mars                                          Marry You   \n",
       "9   Bruno Mars                                   After Last Night   \n",
       "10  Bruno Mars                                 Grenade - Acoustic   \n",
       "11  Bruno Mars                                              Skate   \n",
       "12  Bruno Mars                                When I Was Your Man   \n",
       "13  Bruno Mars                                Leave the Door Open   \n",
       "14  Bruno Mars                                Leave the Door Open   \n",
       "15  Bruno Mars                                When I Was Your Man   \n",
       "16  Bruno Mars                                Leave the Door Open   \n",
       "17  Bruno Mars                                   After Last Night   \n",
       "18  Bruno Mars                                Leave the Door Open   \n",
       "19  Bruno Mars                                Leave the Door Open   \n",
       "20  Bruno Mars                                Talking to the Moon   \n",
       "21  Bruno Mars                                              Skate   \n",
       "22  Bruno Mars                                   After Last Night   \n",
       "23  Bruno Mars                                Leave the Door Open   \n",
       "24  Bruno Mars                                Talking to the Moon   \n",
       "25  Bruno Mars                                Leave the Door Open   \n",
       "26  Bruno Mars                                   After Last Night   \n",
       "27  Bruno Mars                                Leave the Door Open   \n",
       "28  Bruno Mars                              Smokin out the Window   \n",
       "29  Bruno Mars                                Leave the Door Open   \n",
       "30  Bruno Mars                                Leave the Door Open   \n",
       "31  Bruno Mars                                           Treasure   \n",
       "32  Bruno Mars                                Leave the Door Open   \n",
       "33  Bruno Mars                                          Marry You   \n",
       "34  Bruno Mars                              Smokin out the Window   \n",
       "35  Bruno Mars                                Talking to the Moon   \n",
       "36  Bruno Mars                        Grenade - Passion Pit Remix   \n",
       "37  Bruno Mars                                          24K Magic   \n",
       "38  Bruno Mars                                   After Last Night   \n",
       "39  Bruno Mars                                              Skate   \n",
       "40  Bruno Mars                            Calling All My Lovelies   \n",
       "41  Bruno Mars                            24K Magic - R3hab Remix   \n",
       "42  Bruno Mars                               Just the Way You Are   \n",
       "43  Bruno Mars                                              Skate   \n",
       "44  Bruno Mars                                Leave the Door Open   \n",
       "45  Bruno Mars                                Leave the Door Open   \n",
       "46  Bruno Mars                                Leave the Door Open   \n",
       "47       Crush                    Rush Hour (Feat. j-hope of BTS)   \n",
       "48    J Balvin                                           Ay Vamos   \n",
       "49    J Balvin                                              Ahora   \n",
       "\n",
       "                  Track_id  Track_popularity               Artist_id  Length  \\\n",
       "0   27QQSJbO5w34WyZPVELygt                 0  0du5cEVh5yTK9QJze8zA0C  220733   \n",
       "1   6PAIBT51goao7IlFgfoLDJ                 0  0du5cEVh5yTK9QJze8zA0C  217866   \n",
       "2   3UKvpxMCUKRwrLselgLQt9                 0  0du5cEVh5yTK9QJze8zA0C  203122   \n",
       "3   45xxQo8wexX4p6DnFCyOMC                 0  0du5cEVh5yTK9QJze8zA0C  249444   \n",
       "4   3ZJND4wSYOi5DsSS1kt4tH                 0  0du5cEVh5yTK9QJze8zA0C  242096   \n",
       "5   1Lhqq8EpmFaOXnsU0uh20d                 0  0du5cEVh5yTK9QJze8zA0C  203122   \n",
       "6   2RfStOTI2vjuMVbcN08G23                 0  0du5cEVh5yTK9QJze8zA0C  205080   \n",
       "7   4Q7pejOhpdIlBIVOCX74z7                 0  0du5cEVh5yTK9QJze8zA0C  317887   \n",
       "8   2MhxIByFz2l67nEvAAI2Zk                 0  0du5cEVh5yTK9QJze8zA0C  230120   \n",
       "9   7sOamxM4WbJHCTSRptdxse                 0  0du5cEVh5yTK9QJze8zA0C  249444   \n",
       "10  1bWZPnFtUsPsHDD9KhldCU                 0  0du5cEVh5yTK9QJze8zA0C  246640   \n",
       "11  576IrYxgSWj3dQ8a9zcM6w                 0  0du5cEVh5yTK9QJze8zA0C  203122   \n",
       "12  2cABcQoW6uThyXYI83E7po                 0  0du5cEVh5yTK9QJze8zA0C  213826   \n",
       "13  6BX8e5STQ3fBHTBsu6dDYO                 0  0du5cEVh5yTK9QJze8zA0C  242096   \n",
       "14  4GwYTPnlq3Ygkr3A6lbWxn                 0  0du5cEVh5yTK9QJze8zA0C  242096   \n",
       "15  0KX7I079JIb2ekmqO92A4y                 0  0du5cEVh5yTK9QJze8zA0C  213826   \n",
       "16  7oNAx1KRxEvhe585FFz0Vb                 0  0du5cEVh5yTK9QJze8zA0C  242096   \n",
       "17  3CiC59KSmkohPPw5EFuL3s                 0  0du5cEVh5yTK9QJze8zA0C  249444   \n",
       "18  0zu8DaquGIUB1XhOiiRKQW                 0  0du5cEVh5yTK9QJze8zA0C  242096   \n",
       "19  2TmVhkBDkMRmfp3vCF632g                 0  0du5cEVh5yTK9QJze8zA0C  242096   \n",
       "20  2iEaLlj6HBhK8pof511vZf                 0  0du5cEVh5yTK9QJze8zA0C  217866   \n",
       "21  6WHsC1ZFHsdsCzNsQumbCP                 1  0du5cEVh5yTK9QJze8zA0C  203122   \n",
       "22  0bBHITOsdAdq5ykyH0amFX                 0  0du5cEVh5yTK9QJze8zA0C  249444   \n",
       "23  2pvRescv6Av6N5Dy75I4xE                 0  0du5cEVh5yTK9QJze8zA0C  242096   \n",
       "24  1cxG7sMMzRYAhimZSg5lab                 0  0du5cEVh5yTK9QJze8zA0C  217866   \n",
       "25  6Pk0Rcj7RkSZbAyKTAE3So                 0  0du5cEVh5yTK9QJze8zA0C  242096   \n",
       "26  3SXHpfEV5Nqn2w5dPCC9zE                 0  0du5cEVh5yTK9QJze8zA0C  249444   \n",
       "27  6PNGArMfom4pimHkbCigqH                 0  0du5cEVh5yTK9QJze8zA0C  242096   \n",
       "28  63xgWgtgrakQm0f2z4Uvn4                 0  0du5cEVh5yTK9QJze8zA0C  197442   \n",
       "29  7FFnHFhgVjGLSk0prGYW35                 0  0du5cEVh5yTK9QJze8zA0C  242096   \n",
       "30  1A6Nsavkymw5Gjp2msckYY                 0  0du5cEVh5yTK9QJze8zA0C  242096   \n",
       "31  4FSGGAbUvvpXuwFic0SyQc                 0  0du5cEVh5yTK9QJze8zA0C  176093   \n",
       "32  6tmyhRPCIYUimJ9PTNNu6Z                 0  0du5cEVh5yTK9QJze8zA0C  242096   \n",
       "33  3PvqisPIIW6PDcPbGxERJl                 0  0du5cEVh5yTK9QJze8zA0C  230120   \n",
       "34  3vWiOENgN9vfEiut9g8dRY                 0  0du5cEVh5yTK9QJze8zA0C  197442   \n",
       "35  3iTNvukX0MmLnrlwIi14CZ                 0  0du5cEVh5yTK9QJze8zA0C  217866   \n",
       "36  2P4yq1p9PaKhUA4NwxVuGE                 0  0du5cEVh5yTK9QJze8zA0C  370811   \n",
       "37  2h4WzFQwC5aS7Trdtsn6lV                 0  0du5cEVh5yTK9QJze8zA0C  225983   \n",
       "38  5unWdlkyZWGiknxZpZOWhn                 0  0du5cEVh5yTK9QJze8zA0C  249444   \n",
       "39  2XvGrcNbXZ4FTCL5sDZKYV                 0  0du5cEVh5yTK9QJze8zA0C  203122   \n",
       "40  096GSGkyj73NLrKB0JXisM                 0  0du5cEVh5yTK9QJze8zA0C  250080   \n",
       "41  17WoColcCmytlb4AJNCA3B                 0  0du5cEVh5yTK9QJze8zA0C  158678   \n",
       "42  6ptRBUsJWYzd9OxGuK3xYD                 1  0du5cEVh5yTK9QJze8zA0C  220733   \n",
       "43  2a2kp7oDRifHhup1dpzAtl                 0  0du5cEVh5yTK9QJze8zA0C  203122   \n",
       "44  545a8Ddjhp1ldQdq1499lF                 0  0du5cEVh5yTK9QJze8zA0C  242096   \n",
       "45  4XgtHNWdDYshPIzK37cvGC                 0  0du5cEVh5yTK9QJze8zA0C  242096   \n",
       "46  2uBYxTaJan4vR9z0ckwBc5                 0  0du5cEVh5yTK9QJze8zA0C  242096   \n",
       "47  5aucVLKiumD89mxVCB4zvS                79  6aLdhHUqgdKE86xbtNmY8g  177302   \n",
       "48  1mqondFAiCUQ7i5iS8CAej                 6  1vyhD5VmyZ7KMfW5gqLgo5  226413   \n",
       "49  7EHmIBSyFLRm9Ocm3QAJZu                 5  1vyhD5VmyZ7KMfW5gqLgo5  254906   \n",
       "\n",
       "    Artist_Popularity                                             Genres  \\\n",
       "0                  65                       [desi pop, modern bollywood]   \n",
       "1                  74  [desi hip hop, desi pop, desi trap, haryanvi p...   \n",
       "2                  64              [desi hip hop, desi pop, punjabi pop]   \n",
       "3                  53                                            [k-pop]   \n",
       "4                  48                                      [punjabi pop]   \n",
       "5                  66                                                 []   \n",
       "6                  48                                      [punjabi pop]   \n",
       "7                  54                    [desi hip hop, punjabi hip hop]   \n",
       "8                  79                                          [pluggnb]   \n",
       "9                  82  [big room, brostep, dance pop, dutch edm, edm,...   \n",
       "10                 49                                         [koligeet]   \n",
       "11                 89                                [canadian pop, pop]   \n",
       "12                 59                                      [drift phonk]   \n",
       "13                 64              [desi hip hop, desi pop, punjabi pop]   \n",
       "14                 60                                       [k-pop, pop]   \n",
       "15                 48                                         [desi pop]   \n",
       "16                 51                   [haryanvi hip hop, haryanvi pop]   \n",
       "17                 66                            [desi pop, punjabi pop]   \n",
       "18                 76  [classic bollywood, desi pop, filmi, hare kris...   \n",
       "19                 55                           [desi pop, haryanvi pop]   \n",
       "20                 81                           [k-pop, k-pop boy group]   \n",
       "21                 53                                     [bhojpuri pop]   \n",
       "22                 51             [desi hip hop, indian underground rap]   \n",
       "23                 71                                      [punjabi pop]   \n",
       "24                 60                                       [k-pop, pop]   \n",
       "25                 61                          [gen z singer-songwriter]   \n",
       "26                 71                                            [comic]   \n",
       "27                 32                                                 []   \n",
       "28                 33                                                 []   \n",
       "29                 69                                 [filmi, tamil pop]   \n",
       "30                 59                                      [punjabi pop]   \n",
       "31                 47                [desi pop, filmi, modern bollywood]   \n",
       "32                 63                [desi pop, filmi, modern bollywood]   \n",
       "33                 53                                     [bhojpuri pop]   \n",
       "34                 51             [desi hip hop, indian underground rap]   \n",
       "35                 79                          [filmi, modern bollywood]   \n",
       "36                 80                    [dance pop, pop, post-teen pop]   \n",
       "37                 32                                     [indian lo-fi]   \n",
       "38                 39                                      [punjabi pop]   \n",
       "39                 79                                    [melodic drill]   \n",
       "40                 76  [desi pop, filmi, hare krishna, modern bollywood]   \n",
       "41                 76  [desi pop, filmi, hare krishna, modern bollywood]   \n",
       "42                 59                                     [bhojpuri pop]   \n",
       "43                 54        [desi hip hop, hindi hip hop, indian indie]   \n",
       "44                 76  [dance pop, edm, pop, pop dance, pop house, tr...   \n",
       "45                 68                                       [uk hip hop]   \n",
       "46                 79                                     [hip hop, rap]   \n",
       "47                 33                                                 []   \n",
       "48                 71                                      [punjabi pop]   \n",
       "49                 72                                 [k-pop girl group]   \n",
       "\n",
       "    Followers  \n",
       "0       58394  \n",
       "1    22364346  \n",
       "2      654802  \n",
       "3      508570  \n",
       "4       51375  \n",
       "5      155214  \n",
       "6       51375  \n",
       "7       60814  \n",
       "8     1386202  \n",
       "9     6594306  \n",
       "10      64824  \n",
       "11   67609711  \n",
       "12      18587  \n",
       "13    3594505  \n",
       "14    1706634  \n",
       "15      95855  \n",
       "16     341692  \n",
       "17    5897201  \n",
       "18    7302949  \n",
       "19      96957  \n",
       "20    9592459  \n",
       "21      97327  \n",
       "22      43428  \n",
       "23     485167  \n",
       "24    1706634  \n",
       "25     171826  \n",
       "26    1616655  \n",
       "27        426  \n",
       "28       1012  \n",
       "29    5021964  \n",
       "30     107703  \n",
       "31     194870  \n",
       "32     569392  \n",
       "33      97327  \n",
       "34      43428  \n",
       "35   26660301  \n",
       "36   28564011  \n",
       "37        442  \n",
       "38       8296  \n",
       "39    1895651  \n",
       "40    7124265  \n",
       "41    7124265  \n",
       "42     212719  \n",
       "43     234764  \n",
       "44     562332  \n",
       "45    2495731  \n",
       "46    1176728  \n",
       "47       2844  \n",
       "48     485167  \n",
       "49    4889429  "
      ]
     },
     "execution_count": 98,
     "metadata": {},
     "output_type": "execute_result"
    }
   ],
   "source": [
    "# Creating an empty list for artist features\n",
    "artist_popularity = []\n",
    "genres = []\n",
    "followers = []\n",
    "for i in artist_id:\n",
    "    artist = sp.artist(i)\n",
    "    artist_popularity.append(artist['popularity'])\n",
    "    genres.append(artist['genres'])\n",
    "    followers.append(artist['followers']['total'])\n",
    "#Assigning the above features into dataframe 'df'\n",
    "df = df.assign(Artist_Popularity = artist_popularity, Genres = genres, Followers= followers)\n",
    "df"
   ]
  },
  {
   "cell_type": "code",
   "execution_count": 99,
   "id": "467d0d71",
   "metadata": {},
   "outputs": [
    {
     "data": {
      "text/html": [
       "<div>\n",
       "<style scoped>\n",
       "    .dataframe tbody tr th:only-of-type {\n",
       "        vertical-align: middle;\n",
       "    }\n",
       "\n",
       "    .dataframe tbody tr th {\n",
       "        vertical-align: top;\n",
       "    }\n",
       "\n",
       "    .dataframe thead th {\n",
       "        text-align: right;\n",
       "    }\n",
       "</style>\n",
       "<table border=\"1\" class=\"dataframe\">\n",
       "  <thead>\n",
       "    <tr style=\"text-align: right;\">\n",
       "      <th></th>\n",
       "      <th>danceability</th>\n",
       "      <th>energy</th>\n",
       "      <th>key</th>\n",
       "      <th>loudness</th>\n",
       "      <th>mode</th>\n",
       "      <th>speechiness</th>\n",
       "      <th>acousticness</th>\n",
       "      <th>instrumentalness</th>\n",
       "      <th>liveness</th>\n",
       "      <th>valence</th>\n",
       "      <th>tempo</th>\n",
       "      <th>type</th>\n",
       "      <th>id</th>\n",
       "      <th>uri</th>\n",
       "      <th>track_href</th>\n",
       "      <th>analysis_url</th>\n",
       "      <th>duration_ms</th>\n",
       "      <th>time_signature</th>\n",
       "    </tr>\n",
       "  </thead>\n",
       "  <tbody>\n",
       "    <tr>\n",
       "      <th>0</th>\n",
       "      <td>0.635</td>\n",
       "      <td>0.843</td>\n",
       "      <td>5</td>\n",
       "      <td>-5.413</td>\n",
       "      <td>1</td>\n",
       "      <td>0.0432</td>\n",
       "      <td>0.0151</td>\n",
       "      <td>0</td>\n",
       "      <td>0.0876</td>\n",
       "      <td>0.4340</td>\n",
       "      <td>109.014</td>\n",
       "      <td>audio_features</td>\n",
       "      <td>27QQSJbO5w34WyZPVELygt</td>\n",
       "      <td>spotify:track:27QQSJbO5w34WyZPVELygt</td>\n",
       "      <td>https://api.spotify.com/v1/tracks/27QQSJbO5w34...</td>\n",
       "      <td>https://api.spotify.com/v1/audio-analysis/27QQ...</td>\n",
       "      <td>220733</td>\n",
       "      <td>4</td>\n",
       "    </tr>\n",
       "    <tr>\n",
       "      <th>1</th>\n",
       "      <td>0.523</td>\n",
       "      <td>0.607</td>\n",
       "      <td>1</td>\n",
       "      <td>-4.754</td>\n",
       "      <td>0</td>\n",
       "      <td>0.0300</td>\n",
       "      <td>0.5120</td>\n",
       "      <td>0</td>\n",
       "      <td>0.1060</td>\n",
       "      <td>0.0651</td>\n",
       "      <td>145.837</td>\n",
       "      <td>audio_features</td>\n",
       "      <td>6PAIBT51goao7IlFgfoLDJ</td>\n",
       "      <td>spotify:track:6PAIBT51goao7IlFgfoLDJ</td>\n",
       "      <td>https://api.spotify.com/v1/tracks/6PAIBT51goao...</td>\n",
       "      <td>https://api.spotify.com/v1/audio-analysis/6PAI...</td>\n",
       "      <td>217867</td>\n",
       "      <td>4</td>\n",
       "    </tr>\n",
       "    <tr>\n",
       "      <th>2</th>\n",
       "      <td>0.708</td>\n",
       "      <td>0.598</td>\n",
       "      <td>5</td>\n",
       "      <td>-8.365</td>\n",
       "      <td>1</td>\n",
       "      <td>0.0291</td>\n",
       "      <td>0.0370</td>\n",
       "      <td>0</td>\n",
       "      <td>0.1700</td>\n",
       "      <td>0.6980</td>\n",
       "      <td>112.027</td>\n",
       "      <td>audio_features</td>\n",
       "      <td>3UKvpxMCUKRwrLselgLQt9</td>\n",
       "      <td>spotify:track:3UKvpxMCUKRwrLselgLQt9</td>\n",
       "      <td>https://api.spotify.com/v1/tracks/3UKvpxMCUKRw...</td>\n",
       "      <td>https://api.spotify.com/v1/audio-analysis/3UKv...</td>\n",
       "      <td>203123</td>\n",
       "      <td>4</td>\n",
       "    </tr>\n",
       "    <tr>\n",
       "      <th>3</th>\n",
       "      <td>0.651</td>\n",
       "      <td>0.703</td>\n",
       "      <td>0</td>\n",
       "      <td>-8.958</td>\n",
       "      <td>0</td>\n",
       "      <td>0.0816</td>\n",
       "      <td>0.0297</td>\n",
       "      <td>0</td>\n",
       "      <td>0.0608</td>\n",
       "      <td>0.6470</td>\n",
       "      <td>140.051</td>\n",
       "      <td>audio_features</td>\n",
       "      <td>45xxQo8wexX4p6DnFCyOMC</td>\n",
       "      <td>spotify:track:45xxQo8wexX4p6DnFCyOMC</td>\n",
       "      <td>https://api.spotify.com/v1/tracks/45xxQo8wexX4...</td>\n",
       "      <td>https://api.spotify.com/v1/audio-analysis/45xx...</td>\n",
       "      <td>249444</td>\n",
       "      <td>4</td>\n",
       "    </tr>\n",
       "    <tr>\n",
       "      <th>4</th>\n",
       "      <td>0.586</td>\n",
       "      <td>0.616</td>\n",
       "      <td>5</td>\n",
       "      <td>-7.964</td>\n",
       "      <td>1</td>\n",
       "      <td>0.0324</td>\n",
       "      <td>0.1820</td>\n",
       "      <td>0</td>\n",
       "      <td>0.0927</td>\n",
       "      <td>0.7190</td>\n",
       "      <td>148.088</td>\n",
       "      <td>audio_features</td>\n",
       "      <td>3ZJND4wSYOi5DsSS1kt4tH</td>\n",
       "      <td>spotify:track:3ZJND4wSYOi5DsSS1kt4tH</td>\n",
       "      <td>https://api.spotify.com/v1/tracks/3ZJND4wSYOi5...</td>\n",
       "      <td>https://api.spotify.com/v1/audio-analysis/3ZJN...</td>\n",
       "      <td>242096</td>\n",
       "      <td>4</td>\n",
       "    </tr>\n",
       "  </tbody>\n",
       "</table>\n",
       "</div>"
      ],
      "text/plain": [
       "   danceability  energy key  loudness mode  speechiness  acousticness  \\\n",
       "0         0.635   0.843   5    -5.413    1       0.0432        0.0151   \n",
       "1         0.523   0.607   1    -4.754    0       0.0300        0.5120   \n",
       "2         0.708   0.598   5    -8.365    1       0.0291        0.0370   \n",
       "3         0.651   0.703   0    -8.958    0       0.0816        0.0297   \n",
       "4         0.586   0.616   5    -7.964    1       0.0324        0.1820   \n",
       "\n",
       "  instrumentalness  liveness  valence    tempo            type  \\\n",
       "0                0    0.0876   0.4340  109.014  audio_features   \n",
       "1                0    0.1060   0.0651  145.837  audio_features   \n",
       "2                0    0.1700   0.6980  112.027  audio_features   \n",
       "3                0    0.0608   0.6470  140.051  audio_features   \n",
       "4                0    0.0927   0.7190  148.088  audio_features   \n",
       "\n",
       "                       id                                   uri  \\\n",
       "0  27QQSJbO5w34WyZPVELygt  spotify:track:27QQSJbO5w34WyZPVELygt   \n",
       "1  6PAIBT51goao7IlFgfoLDJ  spotify:track:6PAIBT51goao7IlFgfoLDJ   \n",
       "2  3UKvpxMCUKRwrLselgLQt9  spotify:track:3UKvpxMCUKRwrLselgLQt9   \n",
       "3  45xxQo8wexX4p6DnFCyOMC  spotify:track:45xxQo8wexX4p6DnFCyOMC   \n",
       "4  3ZJND4wSYOi5DsSS1kt4tH  spotify:track:3ZJND4wSYOi5DsSS1kt4tH   \n",
       "\n",
       "                                          track_href  \\\n",
       "0  https://api.spotify.com/v1/tracks/27QQSJbO5w34...   \n",
       "1  https://api.spotify.com/v1/tracks/6PAIBT51goao...   \n",
       "2  https://api.spotify.com/v1/tracks/3UKvpxMCUKRw...   \n",
       "3  https://api.spotify.com/v1/tracks/45xxQo8wexX4...   \n",
       "4  https://api.spotify.com/v1/tracks/3ZJND4wSYOi5...   \n",
       "\n",
       "                                        analysis_url duration_ms  \\\n",
       "0  https://api.spotify.com/v1/audio-analysis/27QQ...      220733   \n",
       "1  https://api.spotify.com/v1/audio-analysis/6PAI...      217867   \n",
       "2  https://api.spotify.com/v1/audio-analysis/3UKv...      203123   \n",
       "3  https://api.spotify.com/v1/audio-analysis/45xx...      249444   \n",
       "4  https://api.spotify.com/v1/audio-analysis/3ZJN...      242096   \n",
       "\n",
       "  time_signature  \n",
       "0              4  \n",
       "1              4  \n",
       "2              4  \n",
       "3              4  \n",
       "4              4  "
      ]
     },
     "execution_count": 99,
     "metadata": {},
     "output_type": "execute_result"
    }
   ],
   "source": [
    "#Creating a empty list\n",
    "track_features = []\n",
    "#Extracting the track features by looping into track id and creating a new dataframe called \"tfeatures\"\n",
    "for i in df['Track_id']:\n",
    "    feature = sp.audio_features(i)\n",
    "    track_features.append(feature)\n",
    "tfeatures = pd.DataFrame(columns = ['danceability', 'energy', 'key', 'loudness', 'mode', 'speechiness', 'acousticness', 'instrumentalness', 'liveness', 'valence', 'tempo', 'type', 'id', 'uri', 'track_href', 'analysis_url', 'duration_ms', 'time_signature'])\n",
    "for j in track_features:\n",
    "    for k in j:\n",
    "        tfeatures = tfeatures.append(k, ignore_index=True)\n",
    "tfeatures.head()"
   ]
  },
  {
   "cell_type": "code",
   "execution_count": 100,
   "id": "06b72d0e",
   "metadata": {},
   "outputs": [],
   "source": [
    "# Merging Track and Audio Features and stored in 'df1'\n",
    "df1 = pd.merge(df, tfeatures, how = 'inner', left_on = 'Track_id', right_on = 'id')\n",
    "# Dropping the unwanted features\n",
    "df1 = df1[['Artist', 'Track', 'Track_id', 'Track_popularity', 'Artist_id','Artist_Popularity', 'Genres', 'Followers', 'danceability','energy', 'key', 'loudness', 'mode', 'speechiness', 'acousticness','instrumentalness', 'liveness', 'valence', 'tempo', 'duration_ms']]\n",
    "#Capitalizing the Artist and Track\n",
    "df1['Artist'] = df1['Artist'].str.capitalize()\n",
    "df1['Track'] = df1['Track'].str.capitalize()\n",
    "# Changing the data type\n",
    "df1['key'] = df1['key'].astype(int)\n",
    "df1['mode'] = df1['mode'].astype(int)\n",
    "df1['instrumentalness'] = df1['instrumentalness'].astype(float)\n",
    "df1['duration_ms'] = df1['duration_ms'].astype(int)\n",
    "# Duration_ms in milliseconds. Convert into minutes\n",
    "df1['duration_ms'] = df1.apply(lambda x: round(x['duration_ms']/60000,2), axis=1)"
   ]
  },
  {
   "cell_type": "code",
   "execution_count": 101,
   "id": "26b310e6",
   "metadata": {},
   "outputs": [],
   "source": [
    "# Saving the Spotify.csv into the data lake.\n",
    "df1.to_csv('C:/Users/Shubham/Desktop/Spotify/spotify2022.csv', sep=',', encoding='utf-8', index=False)"
   ]
  },
  {
   "cell_type": "code",
   "execution_count": 102,
   "id": "608b6457",
   "metadata": {},
   "outputs": [],
   "source": [
    "df1 = pd.read_csv('C:/Users/Shubham/Desktop/Spotify/spotify2022.csv')"
   ]
  },
  {
   "cell_type": "code",
   "execution_count": 105,
   "id": "65d4fb73",
   "metadata": {},
   "outputs": [
    {
     "data": {
      "text/plain": [
       "['spotify2019.csv', 'spotify2020.csv', 'spotify2021.csv', 'spotify2022.csv']"
      ]
     },
     "execution_count": 105,
     "metadata": {},
     "output_type": "execute_result"
    }
   ],
   "source": [
    "#list all csv files only\n",
    "csv_files = glob.glob('*.{}'.format('csv'))\n",
    "csv_files"
   ]
  },
  {
   "cell_type": "code",
   "execution_count": 106,
   "id": "ac31431f",
   "metadata": {},
   "outputs": [
    {
     "data": {
      "text/html": [
       "<div>\n",
       "<style scoped>\n",
       "    .dataframe tbody tr th:only-of-type {\n",
       "        vertical-align: middle;\n",
       "    }\n",
       "\n",
       "    .dataframe tbody tr th {\n",
       "        vertical-align: top;\n",
       "    }\n",
       "\n",
       "    .dataframe thead th {\n",
       "        text-align: right;\n",
       "    }\n",
       "</style>\n",
       "<table border=\"1\" class=\"dataframe\">\n",
       "  <thead>\n",
       "    <tr style=\"text-align: right;\">\n",
       "      <th></th>\n",
       "      <th>Artist</th>\n",
       "      <th>Track</th>\n",
       "      <th>Track_id</th>\n",
       "      <th>Track_popularity</th>\n",
       "      <th>Artist_id</th>\n",
       "      <th>Artist_Popularity</th>\n",
       "      <th>Genres</th>\n",
       "      <th>Followers</th>\n",
       "      <th>danceability</th>\n",
       "      <th>energy</th>\n",
       "      <th>key</th>\n",
       "      <th>loudness</th>\n",
       "      <th>mode</th>\n",
       "      <th>speechiness</th>\n",
       "      <th>acousticness</th>\n",
       "      <th>instrumentalness</th>\n",
       "      <th>liveness</th>\n",
       "      <th>valence</th>\n",
       "      <th>tempo</th>\n",
       "      <th>duration_ms</th>\n",
       "    </tr>\n",
       "  </thead>\n",
       "  <tbody>\n",
       "    <tr>\n",
       "      <th>0</th>\n",
       "      <td>Akhil sachdeva</td>\n",
       "      <td>Tera ban jaunga reprise (from \"t-series acoust...</td>\n",
       "      <td>2I7LHHFgXku7VAVRkWdJAU</td>\n",
       "      <td>46</td>\n",
       "      <td>3TOhzLRYnkkul71yRBxIoM</td>\n",
       "      <td>65</td>\n",
       "      <td>['desi pop', 'modern bollywood']</td>\n",
       "      <td>58394</td>\n",
       "      <td>0.510</td>\n",
       "      <td>0.479</td>\n",
       "      <td>8</td>\n",
       "      <td>-7.520</td>\n",
       "      <td>0</td>\n",
       "      <td>0.0257</td>\n",
       "      <td>0.7860</td>\n",
       "      <td>0.001400</td>\n",
       "      <td>0.1590</td>\n",
       "      <td>0.285</td>\n",
       "      <td>93.992</td>\n",
       "      <td>3.73</td>\n",
       "    </tr>\n",
       "    <tr>\n",
       "      <th>1</th>\n",
       "      <td>Arijit singh</td>\n",
       "      <td>Chhod diya</td>\n",
       "      <td>0NnaDlYvjuE6lpnGynSxTm</td>\n",
       "      <td>46</td>\n",
       "      <td>4YRxDV8wJFPHPTeXepOstw</td>\n",
       "      <td>74</td>\n",
       "      <td>['desi hip hop', 'desi pop', 'desi trap', 'har...</td>\n",
       "      <td>22364346</td>\n",
       "      <td>0.498</td>\n",
       "      <td>0.666</td>\n",
       "      <td>10</td>\n",
       "      <td>-6.176</td>\n",
       "      <td>0</td>\n",
       "      <td>0.0483</td>\n",
       "      <td>0.6160</td>\n",
       "      <td>0.000000</td>\n",
       "      <td>0.1220</td>\n",
       "      <td>0.394</td>\n",
       "      <td>88.969</td>\n",
       "      <td>5.33</td>\n",
       "    </tr>\n",
       "    <tr>\n",
       "      <th>2</th>\n",
       "      <td>Kala bhairava</td>\n",
       "      <td>Spirit of jersey</td>\n",
       "      <td>2Nt4dVdc1dgUluBRt3RMon</td>\n",
       "      <td>46</td>\n",
       "      <td>4tejKImNVmDcORNBuZ1l14</td>\n",
       "      <td>64</td>\n",
       "      <td>['desi hip hop', 'desi pop', 'punjabi pop']</td>\n",
       "      <td>654802</td>\n",
       "      <td>0.696</td>\n",
       "      <td>0.940</td>\n",
       "      <td>8</td>\n",
       "      <td>-3.225</td>\n",
       "      <td>1</td>\n",
       "      <td>0.2150</td>\n",
       "      <td>0.2730</td>\n",
       "      <td>0.000000</td>\n",
       "      <td>0.3480</td>\n",
       "      <td>0.416</td>\n",
       "      <td>98.970</td>\n",
       "      <td>4.46</td>\n",
       "    </tr>\n",
       "    <tr>\n",
       "      <th>3</th>\n",
       "      <td>Meet bros.</td>\n",
       "      <td>Dil ka telephone</td>\n",
       "      <td>0i4r9oQAjxUlSVVp0ibNkx</td>\n",
       "      <td>47</td>\n",
       "      <td>0qpsFfOT3SmdGmnyV6rOhS</td>\n",
       "      <td>53</td>\n",
       "      <td>['k-pop']</td>\n",
       "      <td>508570</td>\n",
       "      <td>0.812</td>\n",
       "      <td>0.859</td>\n",
       "      <td>5</td>\n",
       "      <td>-3.367</td>\n",
       "      <td>0</td>\n",
       "      <td>0.1650</td>\n",
       "      <td>0.5130</td>\n",
       "      <td>0.000000</td>\n",
       "      <td>0.1740</td>\n",
       "      <td>0.793</td>\n",
       "      <td>102.022</td>\n",
       "      <td>3.49</td>\n",
       "    </tr>\n",
       "    <tr>\n",
       "      <th>4</th>\n",
       "      <td>Chandan shetty</td>\n",
       "      <td>Chocolate girl</td>\n",
       "      <td>5VkLIgGZN83ZnPPTnKkBM3</td>\n",
       "      <td>46</td>\n",
       "      <td>2b4BOEtTbGchL0K53fvpgk</td>\n",
       "      <td>48</td>\n",
       "      <td>['punjabi pop']</td>\n",
       "      <td>51375</td>\n",
       "      <td>0.796</td>\n",
       "      <td>0.606</td>\n",
       "      <td>4</td>\n",
       "      <td>-10.899</td>\n",
       "      <td>1</td>\n",
       "      <td>0.0866</td>\n",
       "      <td>0.0874</td>\n",
       "      <td>0.000000</td>\n",
       "      <td>0.1030</td>\n",
       "      <td>0.604</td>\n",
       "      <td>99.996</td>\n",
       "      <td>3.36</td>\n",
       "    </tr>\n",
       "    <tr>\n",
       "      <th>...</th>\n",
       "      <td>...</td>\n",
       "      <td>...</td>\n",
       "      <td>...</td>\n",
       "      <td>...</td>\n",
       "      <td>...</td>\n",
       "      <td>...</td>\n",
       "      <td>...</td>\n",
       "      <td>...</td>\n",
       "      <td>...</td>\n",
       "      <td>...</td>\n",
       "      <td>...</td>\n",
       "      <td>...</td>\n",
       "      <td>...</td>\n",
       "      <td>...</td>\n",
       "      <td>...</td>\n",
       "      <td>...</td>\n",
       "      <td>...</td>\n",
       "      <td>...</td>\n",
       "      <td>...</td>\n",
       "      <td>...</td>\n",
       "    </tr>\n",
       "    <tr>\n",
       "      <th>195</th>\n",
       "      <td>Bruno mars</td>\n",
       "      <td>Leave the door open</td>\n",
       "      <td>4XgtHNWdDYshPIzK37cvGC</td>\n",
       "      <td>0</td>\n",
       "      <td>0du5cEVh5yTK9QJze8zA0C</td>\n",
       "      <td>68</td>\n",
       "      <td>['uk hip hop']</td>\n",
       "      <td>2495731</td>\n",
       "      <td>0.586</td>\n",
       "      <td>0.616</td>\n",
       "      <td>5</td>\n",
       "      <td>-7.964</td>\n",
       "      <td>1</td>\n",
       "      <td>0.0324</td>\n",
       "      <td>0.1820</td>\n",
       "      <td>0.000000</td>\n",
       "      <td>0.0927</td>\n",
       "      <td>0.719</td>\n",
       "      <td>148.088</td>\n",
       "      <td>4.03</td>\n",
       "    </tr>\n",
       "    <tr>\n",
       "      <th>196</th>\n",
       "      <td>Bruno mars</td>\n",
       "      <td>Leave the door open</td>\n",
       "      <td>2uBYxTaJan4vR9z0ckwBc5</td>\n",
       "      <td>0</td>\n",
       "      <td>0du5cEVh5yTK9QJze8zA0C</td>\n",
       "      <td>79</td>\n",
       "      <td>['hip hop', 'rap']</td>\n",
       "      <td>1176728</td>\n",
       "      <td>0.586</td>\n",
       "      <td>0.616</td>\n",
       "      <td>5</td>\n",
       "      <td>-7.964</td>\n",
       "      <td>1</td>\n",
       "      <td>0.0324</td>\n",
       "      <td>0.1820</td>\n",
       "      <td>0.000000</td>\n",
       "      <td>0.0927</td>\n",
       "      <td>0.719</td>\n",
       "      <td>148.088</td>\n",
       "      <td>4.03</td>\n",
       "    </tr>\n",
       "    <tr>\n",
       "      <th>197</th>\n",
       "      <td>Crush</td>\n",
       "      <td>Rush hour (feat. j-hope of bts)</td>\n",
       "      <td>5aucVLKiumD89mxVCB4zvS</td>\n",
       "      <td>79</td>\n",
       "      <td>6aLdhHUqgdKE86xbtNmY8g</td>\n",
       "      <td>33</td>\n",
       "      <td>[]</td>\n",
       "      <td>2844</td>\n",
       "      <td>0.738</td>\n",
       "      <td>0.714</td>\n",
       "      <td>0</td>\n",
       "      <td>-5.235</td>\n",
       "      <td>1</td>\n",
       "      <td>0.2490</td>\n",
       "      <td>0.1570</td>\n",
       "      <td>0.000000</td>\n",
       "      <td>0.3100</td>\n",
       "      <td>0.740</td>\n",
       "      <td>95.035</td>\n",
       "      <td>2.96</td>\n",
       "    </tr>\n",
       "    <tr>\n",
       "      <th>198</th>\n",
       "      <td>J balvin</td>\n",
       "      <td>Ay vamos</td>\n",
       "      <td>1mqondFAiCUQ7i5iS8CAej</td>\n",
       "      <td>6</td>\n",
       "      <td>1vyhD5VmyZ7KMfW5gqLgo5</td>\n",
       "      <td>71</td>\n",
       "      <td>['punjabi pop']</td>\n",
       "      <td>485167</td>\n",
       "      <td>0.718</td>\n",
       "      <td>0.711</td>\n",
       "      <td>8</td>\n",
       "      <td>-5.746</td>\n",
       "      <td>0</td>\n",
       "      <td>0.1100</td>\n",
       "      <td>0.1570</td>\n",
       "      <td>0.000055</td>\n",
       "      <td>0.1000</td>\n",
       "      <td>0.920</td>\n",
       "      <td>173.916</td>\n",
       "      <td>3.77</td>\n",
       "    </tr>\n",
       "    <tr>\n",
       "      <th>199</th>\n",
       "      <td>J balvin</td>\n",
       "      <td>Ahora</td>\n",
       "      <td>7EHmIBSyFLRm9Ocm3QAJZu</td>\n",
       "      <td>5</td>\n",
       "      <td>1vyhD5VmyZ7KMfW5gqLgo5</td>\n",
       "      <td>72</td>\n",
       "      <td>['k-pop girl group']</td>\n",
       "      <td>4889429</td>\n",
       "      <td>0.810</td>\n",
       "      <td>0.784</td>\n",
       "      <td>3</td>\n",
       "      <td>-3.223</td>\n",
       "      <td>0</td>\n",
       "      <td>0.0622</td>\n",
       "      <td>0.0874</td>\n",
       "      <td>0.000166</td>\n",
       "      <td>0.0830</td>\n",
       "      <td>0.817</td>\n",
       "      <td>88.001</td>\n",
       "      <td>4.25</td>\n",
       "    </tr>\n",
       "  </tbody>\n",
       "</table>\n",
       "<p>200 rows × 20 columns</p>\n",
       "</div>"
      ],
      "text/plain": [
       "             Artist                                              Track  \\\n",
       "0    Akhil sachdeva  Tera ban jaunga reprise (from \"t-series acoust...   \n",
       "1      Arijit singh                                         Chhod diya   \n",
       "2     Kala bhairava                                   Spirit of jersey   \n",
       "3        Meet bros.                                   Dil ka telephone   \n",
       "4    Chandan shetty                                     Chocolate girl   \n",
       "..              ...                                                ...   \n",
       "195      Bruno mars                                Leave the door open   \n",
       "196      Bruno mars                                Leave the door open   \n",
       "197           Crush                    Rush hour (feat. j-hope of bts)   \n",
       "198        J balvin                                           Ay vamos   \n",
       "199        J balvin                                              Ahora   \n",
       "\n",
       "                   Track_id  Track_popularity               Artist_id  \\\n",
       "0    2I7LHHFgXku7VAVRkWdJAU                46  3TOhzLRYnkkul71yRBxIoM   \n",
       "1    0NnaDlYvjuE6lpnGynSxTm                46  4YRxDV8wJFPHPTeXepOstw   \n",
       "2    2Nt4dVdc1dgUluBRt3RMon                46  4tejKImNVmDcORNBuZ1l14   \n",
       "3    0i4r9oQAjxUlSVVp0ibNkx                47  0qpsFfOT3SmdGmnyV6rOhS   \n",
       "4    5VkLIgGZN83ZnPPTnKkBM3                46  2b4BOEtTbGchL0K53fvpgk   \n",
       "..                      ...               ...                     ...   \n",
       "195  4XgtHNWdDYshPIzK37cvGC                 0  0du5cEVh5yTK9QJze8zA0C   \n",
       "196  2uBYxTaJan4vR9z0ckwBc5                 0  0du5cEVh5yTK9QJze8zA0C   \n",
       "197  5aucVLKiumD89mxVCB4zvS                79  6aLdhHUqgdKE86xbtNmY8g   \n",
       "198  1mqondFAiCUQ7i5iS8CAej                 6  1vyhD5VmyZ7KMfW5gqLgo5   \n",
       "199  7EHmIBSyFLRm9Ocm3QAJZu                 5  1vyhD5VmyZ7KMfW5gqLgo5   \n",
       "\n",
       "     Artist_Popularity                                             Genres  \\\n",
       "0                   65                   ['desi pop', 'modern bollywood']   \n",
       "1                   74  ['desi hip hop', 'desi pop', 'desi trap', 'har...   \n",
       "2                   64        ['desi hip hop', 'desi pop', 'punjabi pop']   \n",
       "3                   53                                          ['k-pop']   \n",
       "4                   48                                    ['punjabi pop']   \n",
       "..                 ...                                                ...   \n",
       "195                 68                                     ['uk hip hop']   \n",
       "196                 79                                 ['hip hop', 'rap']   \n",
       "197                 33                                                 []   \n",
       "198                 71                                    ['punjabi pop']   \n",
       "199                 72                               ['k-pop girl group']   \n",
       "\n",
       "     Followers  danceability  energy  key  loudness  mode  speechiness  \\\n",
       "0        58394         0.510   0.479    8    -7.520     0       0.0257   \n",
       "1     22364346         0.498   0.666   10    -6.176     0       0.0483   \n",
       "2       654802         0.696   0.940    8    -3.225     1       0.2150   \n",
       "3       508570         0.812   0.859    5    -3.367     0       0.1650   \n",
       "4        51375         0.796   0.606    4   -10.899     1       0.0866   \n",
       "..         ...           ...     ...  ...       ...   ...          ...   \n",
       "195    2495731         0.586   0.616    5    -7.964     1       0.0324   \n",
       "196    1176728         0.586   0.616    5    -7.964     1       0.0324   \n",
       "197       2844         0.738   0.714    0    -5.235     1       0.2490   \n",
       "198     485167         0.718   0.711    8    -5.746     0       0.1100   \n",
       "199    4889429         0.810   0.784    3    -3.223     0       0.0622   \n",
       "\n",
       "     acousticness  instrumentalness  liveness  valence    tempo  duration_ms  \n",
       "0          0.7860          0.001400    0.1590    0.285   93.992         3.73  \n",
       "1          0.6160          0.000000    0.1220    0.394   88.969         5.33  \n",
       "2          0.2730          0.000000    0.3480    0.416   98.970         4.46  \n",
       "3          0.5130          0.000000    0.1740    0.793  102.022         3.49  \n",
       "4          0.0874          0.000000    0.1030    0.604   99.996         3.36  \n",
       "..            ...               ...       ...      ...      ...          ...  \n",
       "195        0.1820          0.000000    0.0927    0.719  148.088         4.03  \n",
       "196        0.1820          0.000000    0.0927    0.719  148.088         4.03  \n",
       "197        0.1570          0.000000    0.3100    0.740   95.035         2.96  \n",
       "198        0.1570          0.000055    0.1000    0.920  173.916         3.77  \n",
       "199        0.0874          0.000166    0.0830    0.817   88.001         4.25  \n",
       "\n",
       "[200 rows x 20 columns]"
      ]
     },
     "execution_count": 106,
     "metadata": {},
     "output_type": "execute_result"
    }
   ],
   "source": [
    "df_append = pd.DataFrame()\n",
    "#append all files together\n",
    "for file in csv_files:\n",
    "            df_temp = pd.read_csv(file)\n",
    "            df_append = df_append.append(df_temp, ignore_index=True)\n",
    "df_append"
   ]
  },
  {
   "cell_type": "code",
   "execution_count": 109,
   "id": "a00ee5f7",
   "metadata": {},
   "outputs": [
    {
     "data": {
      "text/html": [
       "<div>\n",
       "<style scoped>\n",
       "    .dataframe tbody tr th:only-of-type {\n",
       "        vertical-align: middle;\n",
       "    }\n",
       "\n",
       "    .dataframe tbody tr th {\n",
       "        vertical-align: top;\n",
       "    }\n",
       "\n",
       "    .dataframe thead th {\n",
       "        text-align: right;\n",
       "    }\n",
       "</style>\n",
       "<table border=\"1\" class=\"dataframe\">\n",
       "  <thead>\n",
       "    <tr style=\"text-align: right;\">\n",
       "      <th></th>\n",
       "      <th>Genres</th>\n",
       "    </tr>\n",
       "  </thead>\n",
       "  <tbody>\n",
       "    <tr>\n",
       "      <th>0</th>\n",
       "      <td>desi pop</td>\n",
       "    </tr>\n",
       "    <tr>\n",
       "      <th>1</th>\n",
       "      <td>desi hip hop</td>\n",
       "    </tr>\n",
       "    <tr>\n",
       "      <th>2</th>\n",
       "      <td>desi hip hop</td>\n",
       "    </tr>\n",
       "    <tr>\n",
       "      <th>3</th>\n",
       "      <td>k-pop</td>\n",
       "    </tr>\n",
       "    <tr>\n",
       "      <th>4</th>\n",
       "      <td>punjabi pop</td>\n",
       "    </tr>\n",
       "    <tr>\n",
       "      <th>...</th>\n",
       "      <td>...</td>\n",
       "    </tr>\n",
       "    <tr>\n",
       "      <th>195</th>\n",
       "      <td>NaN</td>\n",
       "    </tr>\n",
       "    <tr>\n",
       "      <th>196</th>\n",
       "      <td>NaN</td>\n",
       "    </tr>\n",
       "    <tr>\n",
       "      <th>197</th>\n",
       "      <td>NaN</td>\n",
       "    </tr>\n",
       "    <tr>\n",
       "      <th>198</th>\n",
       "      <td>NaN</td>\n",
       "    </tr>\n",
       "    <tr>\n",
       "      <th>199</th>\n",
       "      <td>NaN</td>\n",
       "    </tr>\n",
       "  </tbody>\n",
       "</table>\n",
       "<p>200 rows × 1 columns</p>\n",
       "</div>"
      ],
      "text/plain": [
       "           Genres\n",
       "0        desi pop\n",
       "1    desi hip hop\n",
       "2    desi hip hop\n",
       "3           k-pop\n",
       "4     punjabi pop\n",
       "..            ...\n",
       "195           NaN\n",
       "196           NaN\n",
       "197           NaN\n",
       "198           NaN\n",
       "199           NaN\n",
       "\n",
       "[200 rows x 1 columns]"
      ]
     },
     "execution_count": 109,
     "metadata": {},
     "output_type": "execute_result"
    }
   ],
   "source": [
    "\n",
    "df_append['Genres'] = df['Genres'].str[0]\n",
    "df_append[[\"Genres\"]]"
   ]
  },
  {
   "cell_type": "code",
   "execution_count": 114,
   "id": "1bc2f053",
   "metadata": {},
   "outputs": [
    {
     "data": {
      "text/html": [
       "<div>\n",
       "<style scoped>\n",
       "    .dataframe tbody tr th:only-of-type {\n",
       "        vertical-align: middle;\n",
       "    }\n",
       "\n",
       "    .dataframe tbody tr th {\n",
       "        vertical-align: top;\n",
       "    }\n",
       "\n",
       "    .dataframe thead th {\n",
       "        text-align: right;\n",
       "    }\n",
       "</style>\n",
       "<table border=\"1\" class=\"dataframe\">\n",
       "  <thead>\n",
       "    <tr style=\"text-align: right;\">\n",
       "      <th></th>\n",
       "      <th>Artist</th>\n",
       "      <th>Track</th>\n",
       "      <th>Track_id</th>\n",
       "      <th>Track_popularity</th>\n",
       "      <th>Artist_id</th>\n",
       "      <th>Artist_Popularity</th>\n",
       "      <th>Genres</th>\n",
       "      <th>Followers</th>\n",
       "      <th>danceability</th>\n",
       "      <th>energy</th>\n",
       "      <th>key</th>\n",
       "      <th>loudness</th>\n",
       "      <th>mode</th>\n",
       "      <th>speechiness</th>\n",
       "      <th>acousticness</th>\n",
       "      <th>instrumentalness</th>\n",
       "      <th>liveness</th>\n",
       "      <th>valence</th>\n",
       "      <th>tempo</th>\n",
       "      <th>duration_ms</th>\n",
       "    </tr>\n",
       "  </thead>\n",
       "  <tbody>\n",
       "    <tr>\n",
       "      <th>0</th>\n",
       "      <td>False</td>\n",
       "      <td>False</td>\n",
       "      <td>False</td>\n",
       "      <td>False</td>\n",
       "      <td>False</td>\n",
       "      <td>False</td>\n",
       "      <td>False</td>\n",
       "      <td>False</td>\n",
       "      <td>False</td>\n",
       "      <td>False</td>\n",
       "      <td>False</td>\n",
       "      <td>False</td>\n",
       "      <td>False</td>\n",
       "      <td>False</td>\n",
       "      <td>False</td>\n",
       "      <td>False</td>\n",
       "      <td>False</td>\n",
       "      <td>False</td>\n",
       "      <td>False</td>\n",
       "      <td>False</td>\n",
       "    </tr>\n",
       "    <tr>\n",
       "      <th>1</th>\n",
       "      <td>False</td>\n",
       "      <td>False</td>\n",
       "      <td>False</td>\n",
       "      <td>False</td>\n",
       "      <td>False</td>\n",
       "      <td>False</td>\n",
       "      <td>False</td>\n",
       "      <td>False</td>\n",
       "      <td>False</td>\n",
       "      <td>False</td>\n",
       "      <td>False</td>\n",
       "      <td>False</td>\n",
       "      <td>False</td>\n",
       "      <td>False</td>\n",
       "      <td>False</td>\n",
       "      <td>False</td>\n",
       "      <td>False</td>\n",
       "      <td>False</td>\n",
       "      <td>False</td>\n",
       "      <td>False</td>\n",
       "    </tr>\n",
       "    <tr>\n",
       "      <th>2</th>\n",
       "      <td>False</td>\n",
       "      <td>False</td>\n",
       "      <td>False</td>\n",
       "      <td>False</td>\n",
       "      <td>False</td>\n",
       "      <td>False</td>\n",
       "      <td>False</td>\n",
       "      <td>False</td>\n",
       "      <td>False</td>\n",
       "      <td>False</td>\n",
       "      <td>False</td>\n",
       "      <td>False</td>\n",
       "      <td>False</td>\n",
       "      <td>False</td>\n",
       "      <td>False</td>\n",
       "      <td>False</td>\n",
       "      <td>False</td>\n",
       "      <td>False</td>\n",
       "      <td>False</td>\n",
       "      <td>False</td>\n",
       "    </tr>\n",
       "    <tr>\n",
       "      <th>3</th>\n",
       "      <td>False</td>\n",
       "      <td>False</td>\n",
       "      <td>False</td>\n",
       "      <td>False</td>\n",
       "      <td>False</td>\n",
       "      <td>False</td>\n",
       "      <td>False</td>\n",
       "      <td>False</td>\n",
       "      <td>False</td>\n",
       "      <td>False</td>\n",
       "      <td>False</td>\n",
       "      <td>False</td>\n",
       "      <td>False</td>\n",
       "      <td>False</td>\n",
       "      <td>False</td>\n",
       "      <td>False</td>\n",
       "      <td>False</td>\n",
       "      <td>False</td>\n",
       "      <td>False</td>\n",
       "      <td>False</td>\n",
       "    </tr>\n",
       "    <tr>\n",
       "      <th>4</th>\n",
       "      <td>False</td>\n",
       "      <td>False</td>\n",
       "      <td>False</td>\n",
       "      <td>False</td>\n",
       "      <td>False</td>\n",
       "      <td>False</td>\n",
       "      <td>False</td>\n",
       "      <td>False</td>\n",
       "      <td>False</td>\n",
       "      <td>False</td>\n",
       "      <td>False</td>\n",
       "      <td>False</td>\n",
       "      <td>False</td>\n",
       "      <td>False</td>\n",
       "      <td>False</td>\n",
       "      <td>False</td>\n",
       "      <td>False</td>\n",
       "      <td>False</td>\n",
       "      <td>False</td>\n",
       "      <td>False</td>\n",
       "    </tr>\n",
       "    <tr>\n",
       "      <th>...</th>\n",
       "      <td>...</td>\n",
       "      <td>...</td>\n",
       "      <td>...</td>\n",
       "      <td>...</td>\n",
       "      <td>...</td>\n",
       "      <td>...</td>\n",
       "      <td>...</td>\n",
       "      <td>...</td>\n",
       "      <td>...</td>\n",
       "      <td>...</td>\n",
       "      <td>...</td>\n",
       "      <td>...</td>\n",
       "      <td>...</td>\n",
       "      <td>...</td>\n",
       "      <td>...</td>\n",
       "      <td>...</td>\n",
       "      <td>...</td>\n",
       "      <td>...</td>\n",
       "      <td>...</td>\n",
       "      <td>...</td>\n",
       "    </tr>\n",
       "    <tr>\n",
       "      <th>195</th>\n",
       "      <td>False</td>\n",
       "      <td>False</td>\n",
       "      <td>False</td>\n",
       "      <td>False</td>\n",
       "      <td>False</td>\n",
       "      <td>False</td>\n",
       "      <td>True</td>\n",
       "      <td>False</td>\n",
       "      <td>False</td>\n",
       "      <td>False</td>\n",
       "      <td>False</td>\n",
       "      <td>False</td>\n",
       "      <td>False</td>\n",
       "      <td>False</td>\n",
       "      <td>False</td>\n",
       "      <td>False</td>\n",
       "      <td>False</td>\n",
       "      <td>False</td>\n",
       "      <td>False</td>\n",
       "      <td>False</td>\n",
       "    </tr>\n",
       "    <tr>\n",
       "      <th>196</th>\n",
       "      <td>False</td>\n",
       "      <td>False</td>\n",
       "      <td>False</td>\n",
       "      <td>False</td>\n",
       "      <td>False</td>\n",
       "      <td>False</td>\n",
       "      <td>True</td>\n",
       "      <td>False</td>\n",
       "      <td>False</td>\n",
       "      <td>False</td>\n",
       "      <td>False</td>\n",
       "      <td>False</td>\n",
       "      <td>False</td>\n",
       "      <td>False</td>\n",
       "      <td>False</td>\n",
       "      <td>False</td>\n",
       "      <td>False</td>\n",
       "      <td>False</td>\n",
       "      <td>False</td>\n",
       "      <td>False</td>\n",
       "    </tr>\n",
       "    <tr>\n",
       "      <th>197</th>\n",
       "      <td>False</td>\n",
       "      <td>False</td>\n",
       "      <td>False</td>\n",
       "      <td>False</td>\n",
       "      <td>False</td>\n",
       "      <td>False</td>\n",
       "      <td>True</td>\n",
       "      <td>False</td>\n",
       "      <td>False</td>\n",
       "      <td>False</td>\n",
       "      <td>False</td>\n",
       "      <td>False</td>\n",
       "      <td>False</td>\n",
       "      <td>False</td>\n",
       "      <td>False</td>\n",
       "      <td>False</td>\n",
       "      <td>False</td>\n",
       "      <td>False</td>\n",
       "      <td>False</td>\n",
       "      <td>False</td>\n",
       "    </tr>\n",
       "    <tr>\n",
       "      <th>198</th>\n",
       "      <td>False</td>\n",
       "      <td>False</td>\n",
       "      <td>False</td>\n",
       "      <td>False</td>\n",
       "      <td>False</td>\n",
       "      <td>False</td>\n",
       "      <td>True</td>\n",
       "      <td>False</td>\n",
       "      <td>False</td>\n",
       "      <td>False</td>\n",
       "      <td>False</td>\n",
       "      <td>False</td>\n",
       "      <td>False</td>\n",
       "      <td>False</td>\n",
       "      <td>False</td>\n",
       "      <td>False</td>\n",
       "      <td>False</td>\n",
       "      <td>False</td>\n",
       "      <td>False</td>\n",
       "      <td>False</td>\n",
       "    </tr>\n",
       "    <tr>\n",
       "      <th>199</th>\n",
       "      <td>False</td>\n",
       "      <td>False</td>\n",
       "      <td>False</td>\n",
       "      <td>False</td>\n",
       "      <td>False</td>\n",
       "      <td>False</td>\n",
       "      <td>True</td>\n",
       "      <td>False</td>\n",
       "      <td>False</td>\n",
       "      <td>False</td>\n",
       "      <td>False</td>\n",
       "      <td>False</td>\n",
       "      <td>False</td>\n",
       "      <td>False</td>\n",
       "      <td>False</td>\n",
       "      <td>False</td>\n",
       "      <td>False</td>\n",
       "      <td>False</td>\n",
       "      <td>False</td>\n",
       "      <td>False</td>\n",
       "    </tr>\n",
       "  </tbody>\n",
       "</table>\n",
       "<p>200 rows × 20 columns</p>\n",
       "</div>"
      ],
      "text/plain": [
       "     Artist  Track  Track_id  Track_popularity  Artist_id  Artist_Popularity  \\\n",
       "0     False  False     False             False      False              False   \n",
       "1     False  False     False             False      False              False   \n",
       "2     False  False     False             False      False              False   \n",
       "3     False  False     False             False      False              False   \n",
       "4     False  False     False             False      False              False   \n",
       "..      ...    ...       ...               ...        ...                ...   \n",
       "195   False  False     False             False      False              False   \n",
       "196   False  False     False             False      False              False   \n",
       "197   False  False     False             False      False              False   \n",
       "198   False  False     False             False      False              False   \n",
       "199   False  False     False             False      False              False   \n",
       "\n",
       "     Genres  Followers  danceability  energy    key  loudness   mode  \\\n",
       "0     False      False         False   False  False     False  False   \n",
       "1     False      False         False   False  False     False  False   \n",
       "2     False      False         False   False  False     False  False   \n",
       "3     False      False         False   False  False     False  False   \n",
       "4     False      False         False   False  False     False  False   \n",
       "..      ...        ...           ...     ...    ...       ...    ...   \n",
       "195    True      False         False   False  False     False  False   \n",
       "196    True      False         False   False  False     False  False   \n",
       "197    True      False         False   False  False     False  False   \n",
       "198    True      False         False   False  False     False  False   \n",
       "199    True      False         False   False  False     False  False   \n",
       "\n",
       "     speechiness  acousticness  instrumentalness  liveness  valence  tempo  \\\n",
       "0          False         False             False     False    False  False   \n",
       "1          False         False             False     False    False  False   \n",
       "2          False         False             False     False    False  False   \n",
       "3          False         False             False     False    False  False   \n",
       "4          False         False             False     False    False  False   \n",
       "..           ...           ...               ...       ...      ...    ...   \n",
       "195        False         False             False     False    False  False   \n",
       "196        False         False             False     False    False  False   \n",
       "197        False         False             False     False    False  False   \n",
       "198        False         False             False     False    False  False   \n",
       "199        False         False             False     False    False  False   \n",
       "\n",
       "     duration_ms  \n",
       "0          False  \n",
       "1          False  \n",
       "2          False  \n",
       "3          False  \n",
       "4          False  \n",
       "..           ...  \n",
       "195        False  \n",
       "196        False  \n",
       "197        False  \n",
       "198        False  \n",
       "199        False  \n",
       "\n",
       "[200 rows x 20 columns]"
      ]
     },
     "execution_count": 114,
     "metadata": {},
     "output_type": "execute_result"
    }
   ],
   "source": [
    "df_append.isnull()\n"
   ]
  },
  {
   "cell_type": "code",
   "execution_count": 116,
   "id": "9b649822",
   "metadata": {},
   "outputs": [
    {
     "data": {
      "text/html": [
       "<div>\n",
       "<style scoped>\n",
       "    .dataframe tbody tr th:only-of-type {\n",
       "        vertical-align: middle;\n",
       "    }\n",
       "\n",
       "    .dataframe tbody tr th {\n",
       "        vertical-align: top;\n",
       "    }\n",
       "\n",
       "    .dataframe thead th {\n",
       "        text-align: right;\n",
       "    }\n",
       "</style>\n",
       "<table border=\"1\" class=\"dataframe\">\n",
       "  <thead>\n",
       "    <tr style=\"text-align: right;\">\n",
       "      <th></th>\n",
       "      <th>Artist</th>\n",
       "      <th>Track</th>\n",
       "      <th>Track_id</th>\n",
       "      <th>Track_popularity</th>\n",
       "      <th>Artist_id</th>\n",
       "      <th>Artist_Popularity</th>\n",
       "      <th>Genres</th>\n",
       "      <th>Followers</th>\n",
       "      <th>danceability</th>\n",
       "      <th>energy</th>\n",
       "      <th>key</th>\n",
       "      <th>loudness</th>\n",
       "      <th>mode</th>\n",
       "      <th>speechiness</th>\n",
       "      <th>acousticness</th>\n",
       "      <th>instrumentalness</th>\n",
       "      <th>liveness</th>\n",
       "      <th>valence</th>\n",
       "      <th>tempo</th>\n",
       "      <th>duration_ms</th>\n",
       "    </tr>\n",
       "  </thead>\n",
       "  <tbody>\n",
       "    <tr>\n",
       "      <th>0</th>\n",
       "      <td>Akhil sachdeva</td>\n",
       "      <td>Tera ban jaunga reprise (from \"t-series acoust...</td>\n",
       "      <td>2I7LHHFgXku7VAVRkWdJAU</td>\n",
       "      <td>46</td>\n",
       "      <td>3TOhzLRYnkkul71yRBxIoM</td>\n",
       "      <td>65</td>\n",
       "      <td>desi pop</td>\n",
       "      <td>58394</td>\n",
       "      <td>0.510</td>\n",
       "      <td>0.479</td>\n",
       "      <td>8</td>\n",
       "      <td>-7.520</td>\n",
       "      <td>0</td>\n",
       "      <td>0.0257</td>\n",
       "      <td>0.7860</td>\n",
       "      <td>0.001400</td>\n",
       "      <td>0.1590</td>\n",
       "      <td>0.285</td>\n",
       "      <td>93.992</td>\n",
       "      <td>3.73</td>\n",
       "    </tr>\n",
       "    <tr>\n",
       "      <th>1</th>\n",
       "      <td>Arijit singh</td>\n",
       "      <td>Chhod diya</td>\n",
       "      <td>0NnaDlYvjuE6lpnGynSxTm</td>\n",
       "      <td>46</td>\n",
       "      <td>4YRxDV8wJFPHPTeXepOstw</td>\n",
       "      <td>74</td>\n",
       "      <td>desi hip hop</td>\n",
       "      <td>22364346</td>\n",
       "      <td>0.498</td>\n",
       "      <td>0.666</td>\n",
       "      <td>10</td>\n",
       "      <td>-6.176</td>\n",
       "      <td>0</td>\n",
       "      <td>0.0483</td>\n",
       "      <td>0.6160</td>\n",
       "      <td>0.000000</td>\n",
       "      <td>0.1220</td>\n",
       "      <td>0.394</td>\n",
       "      <td>88.969</td>\n",
       "      <td>5.33</td>\n",
       "    </tr>\n",
       "    <tr>\n",
       "      <th>2</th>\n",
       "      <td>Kala bhairava</td>\n",
       "      <td>Spirit of jersey</td>\n",
       "      <td>2Nt4dVdc1dgUluBRt3RMon</td>\n",
       "      <td>46</td>\n",
       "      <td>4tejKImNVmDcORNBuZ1l14</td>\n",
       "      <td>64</td>\n",
       "      <td>desi hip hop</td>\n",
       "      <td>654802</td>\n",
       "      <td>0.696</td>\n",
       "      <td>0.940</td>\n",
       "      <td>8</td>\n",
       "      <td>-3.225</td>\n",
       "      <td>1</td>\n",
       "      <td>0.2150</td>\n",
       "      <td>0.2730</td>\n",
       "      <td>0.000000</td>\n",
       "      <td>0.3480</td>\n",
       "      <td>0.416</td>\n",
       "      <td>98.970</td>\n",
       "      <td>4.46</td>\n",
       "    </tr>\n",
       "    <tr>\n",
       "      <th>3</th>\n",
       "      <td>Meet bros.</td>\n",
       "      <td>Dil ka telephone</td>\n",
       "      <td>0i4r9oQAjxUlSVVp0ibNkx</td>\n",
       "      <td>47</td>\n",
       "      <td>0qpsFfOT3SmdGmnyV6rOhS</td>\n",
       "      <td>53</td>\n",
       "      <td>k-pop</td>\n",
       "      <td>508570</td>\n",
       "      <td>0.812</td>\n",
       "      <td>0.859</td>\n",
       "      <td>5</td>\n",
       "      <td>-3.367</td>\n",
       "      <td>0</td>\n",
       "      <td>0.1650</td>\n",
       "      <td>0.5130</td>\n",
       "      <td>0.000000</td>\n",
       "      <td>0.1740</td>\n",
       "      <td>0.793</td>\n",
       "      <td>102.022</td>\n",
       "      <td>3.49</td>\n",
       "    </tr>\n",
       "    <tr>\n",
       "      <th>4</th>\n",
       "      <td>Chandan shetty</td>\n",
       "      <td>Chocolate girl</td>\n",
       "      <td>5VkLIgGZN83ZnPPTnKkBM3</td>\n",
       "      <td>46</td>\n",
       "      <td>2b4BOEtTbGchL0K53fvpgk</td>\n",
       "      <td>48</td>\n",
       "      <td>punjabi pop</td>\n",
       "      <td>51375</td>\n",
       "      <td>0.796</td>\n",
       "      <td>0.606</td>\n",
       "      <td>4</td>\n",
       "      <td>-10.899</td>\n",
       "      <td>1</td>\n",
       "      <td>0.0866</td>\n",
       "      <td>0.0874</td>\n",
       "      <td>0.000000</td>\n",
       "      <td>0.1030</td>\n",
       "      <td>0.604</td>\n",
       "      <td>99.996</td>\n",
       "      <td>3.36</td>\n",
       "    </tr>\n",
       "    <tr>\n",
       "      <th>...</th>\n",
       "      <td>...</td>\n",
       "      <td>...</td>\n",
       "      <td>...</td>\n",
       "      <td>...</td>\n",
       "      <td>...</td>\n",
       "      <td>...</td>\n",
       "      <td>...</td>\n",
       "      <td>...</td>\n",
       "      <td>...</td>\n",
       "      <td>...</td>\n",
       "      <td>...</td>\n",
       "      <td>...</td>\n",
       "      <td>...</td>\n",
       "      <td>...</td>\n",
       "      <td>...</td>\n",
       "      <td>...</td>\n",
       "      <td>...</td>\n",
       "      <td>...</td>\n",
       "      <td>...</td>\n",
       "      <td>...</td>\n",
       "    </tr>\n",
       "    <tr>\n",
       "      <th>195</th>\n",
       "      <td>Bruno mars</td>\n",
       "      <td>Leave the door open</td>\n",
       "      <td>4XgtHNWdDYshPIzK37cvGC</td>\n",
       "      <td>0</td>\n",
       "      <td>0du5cEVh5yTK9QJze8zA0C</td>\n",
       "      <td>68</td>\n",
       "      <td>no specific genre</td>\n",
       "      <td>2495731</td>\n",
       "      <td>0.586</td>\n",
       "      <td>0.616</td>\n",
       "      <td>5</td>\n",
       "      <td>-7.964</td>\n",
       "      <td>1</td>\n",
       "      <td>0.0324</td>\n",
       "      <td>0.1820</td>\n",
       "      <td>0.000000</td>\n",
       "      <td>0.0927</td>\n",
       "      <td>0.719</td>\n",
       "      <td>148.088</td>\n",
       "      <td>4.03</td>\n",
       "    </tr>\n",
       "    <tr>\n",
       "      <th>196</th>\n",
       "      <td>Bruno mars</td>\n",
       "      <td>Leave the door open</td>\n",
       "      <td>2uBYxTaJan4vR9z0ckwBc5</td>\n",
       "      <td>0</td>\n",
       "      <td>0du5cEVh5yTK9QJze8zA0C</td>\n",
       "      <td>79</td>\n",
       "      <td>no specific genre</td>\n",
       "      <td>1176728</td>\n",
       "      <td>0.586</td>\n",
       "      <td>0.616</td>\n",
       "      <td>5</td>\n",
       "      <td>-7.964</td>\n",
       "      <td>1</td>\n",
       "      <td>0.0324</td>\n",
       "      <td>0.1820</td>\n",
       "      <td>0.000000</td>\n",
       "      <td>0.0927</td>\n",
       "      <td>0.719</td>\n",
       "      <td>148.088</td>\n",
       "      <td>4.03</td>\n",
       "    </tr>\n",
       "    <tr>\n",
       "      <th>197</th>\n",
       "      <td>Crush</td>\n",
       "      <td>Rush hour (feat. j-hope of bts)</td>\n",
       "      <td>5aucVLKiumD89mxVCB4zvS</td>\n",
       "      <td>79</td>\n",
       "      <td>6aLdhHUqgdKE86xbtNmY8g</td>\n",
       "      <td>33</td>\n",
       "      <td>no specific genre</td>\n",
       "      <td>2844</td>\n",
       "      <td>0.738</td>\n",
       "      <td>0.714</td>\n",
       "      <td>0</td>\n",
       "      <td>-5.235</td>\n",
       "      <td>1</td>\n",
       "      <td>0.2490</td>\n",
       "      <td>0.1570</td>\n",
       "      <td>0.000000</td>\n",
       "      <td>0.3100</td>\n",
       "      <td>0.740</td>\n",
       "      <td>95.035</td>\n",
       "      <td>2.96</td>\n",
       "    </tr>\n",
       "    <tr>\n",
       "      <th>198</th>\n",
       "      <td>J balvin</td>\n",
       "      <td>Ay vamos</td>\n",
       "      <td>1mqondFAiCUQ7i5iS8CAej</td>\n",
       "      <td>6</td>\n",
       "      <td>1vyhD5VmyZ7KMfW5gqLgo5</td>\n",
       "      <td>71</td>\n",
       "      <td>no specific genre</td>\n",
       "      <td>485167</td>\n",
       "      <td>0.718</td>\n",
       "      <td>0.711</td>\n",
       "      <td>8</td>\n",
       "      <td>-5.746</td>\n",
       "      <td>0</td>\n",
       "      <td>0.1100</td>\n",
       "      <td>0.1570</td>\n",
       "      <td>0.000055</td>\n",
       "      <td>0.1000</td>\n",
       "      <td>0.920</td>\n",
       "      <td>173.916</td>\n",
       "      <td>3.77</td>\n",
       "    </tr>\n",
       "    <tr>\n",
       "      <th>199</th>\n",
       "      <td>J balvin</td>\n",
       "      <td>Ahora</td>\n",
       "      <td>7EHmIBSyFLRm9Ocm3QAJZu</td>\n",
       "      <td>5</td>\n",
       "      <td>1vyhD5VmyZ7KMfW5gqLgo5</td>\n",
       "      <td>72</td>\n",
       "      <td>no specific genre</td>\n",
       "      <td>4889429</td>\n",
       "      <td>0.810</td>\n",
       "      <td>0.784</td>\n",
       "      <td>3</td>\n",
       "      <td>-3.223</td>\n",
       "      <td>0</td>\n",
       "      <td>0.0622</td>\n",
       "      <td>0.0874</td>\n",
       "      <td>0.000166</td>\n",
       "      <td>0.0830</td>\n",
       "      <td>0.817</td>\n",
       "      <td>88.001</td>\n",
       "      <td>4.25</td>\n",
       "    </tr>\n",
       "  </tbody>\n",
       "</table>\n",
       "<p>200 rows × 20 columns</p>\n",
       "</div>"
      ],
      "text/plain": [
       "             Artist                                              Track  \\\n",
       "0    Akhil sachdeva  Tera ban jaunga reprise (from \"t-series acoust...   \n",
       "1      Arijit singh                                         Chhod diya   \n",
       "2     Kala bhairava                                   Spirit of jersey   \n",
       "3        Meet bros.                                   Dil ka telephone   \n",
       "4    Chandan shetty                                     Chocolate girl   \n",
       "..              ...                                                ...   \n",
       "195      Bruno mars                                Leave the door open   \n",
       "196      Bruno mars                                Leave the door open   \n",
       "197           Crush                    Rush hour (feat. j-hope of bts)   \n",
       "198        J balvin                                           Ay vamos   \n",
       "199        J balvin                                              Ahora   \n",
       "\n",
       "                   Track_id  Track_popularity               Artist_id  \\\n",
       "0    2I7LHHFgXku7VAVRkWdJAU                46  3TOhzLRYnkkul71yRBxIoM   \n",
       "1    0NnaDlYvjuE6lpnGynSxTm                46  4YRxDV8wJFPHPTeXepOstw   \n",
       "2    2Nt4dVdc1dgUluBRt3RMon                46  4tejKImNVmDcORNBuZ1l14   \n",
       "3    0i4r9oQAjxUlSVVp0ibNkx                47  0qpsFfOT3SmdGmnyV6rOhS   \n",
       "4    5VkLIgGZN83ZnPPTnKkBM3                46  2b4BOEtTbGchL0K53fvpgk   \n",
       "..                      ...               ...                     ...   \n",
       "195  4XgtHNWdDYshPIzK37cvGC                 0  0du5cEVh5yTK9QJze8zA0C   \n",
       "196  2uBYxTaJan4vR9z0ckwBc5                 0  0du5cEVh5yTK9QJze8zA0C   \n",
       "197  5aucVLKiumD89mxVCB4zvS                79  6aLdhHUqgdKE86xbtNmY8g   \n",
       "198  1mqondFAiCUQ7i5iS8CAej                 6  1vyhD5VmyZ7KMfW5gqLgo5   \n",
       "199  7EHmIBSyFLRm9Ocm3QAJZu                 5  1vyhD5VmyZ7KMfW5gqLgo5   \n",
       "\n",
       "     Artist_Popularity             Genres  Followers  danceability  energy  \\\n",
       "0                   65           desi pop      58394         0.510   0.479   \n",
       "1                   74       desi hip hop   22364346         0.498   0.666   \n",
       "2                   64       desi hip hop     654802         0.696   0.940   \n",
       "3                   53              k-pop     508570         0.812   0.859   \n",
       "4                   48        punjabi pop      51375         0.796   0.606   \n",
       "..                 ...                ...        ...           ...     ...   \n",
       "195                 68  no specific genre    2495731         0.586   0.616   \n",
       "196                 79  no specific genre    1176728         0.586   0.616   \n",
       "197                 33  no specific genre       2844         0.738   0.714   \n",
       "198                 71  no specific genre     485167         0.718   0.711   \n",
       "199                 72  no specific genre    4889429         0.810   0.784   \n",
       "\n",
       "     key  loudness  mode  speechiness  acousticness  instrumentalness  \\\n",
       "0      8    -7.520     0       0.0257        0.7860          0.001400   \n",
       "1     10    -6.176     0       0.0483        0.6160          0.000000   \n",
       "2      8    -3.225     1       0.2150        0.2730          0.000000   \n",
       "3      5    -3.367     0       0.1650        0.5130          0.000000   \n",
       "4      4   -10.899     1       0.0866        0.0874          0.000000   \n",
       "..   ...       ...   ...          ...           ...               ...   \n",
       "195    5    -7.964     1       0.0324        0.1820          0.000000   \n",
       "196    5    -7.964     1       0.0324        0.1820          0.000000   \n",
       "197    0    -5.235     1       0.2490        0.1570          0.000000   \n",
       "198    8    -5.746     0       0.1100        0.1570          0.000055   \n",
       "199    3    -3.223     0       0.0622        0.0874          0.000166   \n",
       "\n",
       "     liveness  valence    tempo  duration_ms  \n",
       "0      0.1590    0.285   93.992         3.73  \n",
       "1      0.1220    0.394   88.969         5.33  \n",
       "2      0.3480    0.416   98.970         4.46  \n",
       "3      0.1740    0.793  102.022         3.49  \n",
       "4      0.1030    0.604   99.996         3.36  \n",
       "..        ...      ...      ...          ...  \n",
       "195    0.0927    0.719  148.088         4.03  \n",
       "196    0.0927    0.719  148.088         4.03  \n",
       "197    0.3100    0.740   95.035         2.96  \n",
       "198    0.1000    0.920  173.916         3.77  \n",
       "199    0.0830    0.817   88.001         4.25  \n",
       "\n",
       "[200 rows x 20 columns]"
      ]
     },
     "execution_count": 116,
     "metadata": {},
     "output_type": "execute_result"
    }
   ],
   "source": [
    "df_append.fillna(value = \"no specific genre\",\n",
    "          inplace = True)\n",
    "df_append"
   ]
  },
  {
   "cell_type": "code",
   "execution_count": 117,
   "id": "60851780",
   "metadata": {},
   "outputs": [],
   "source": [
    "df_append.to_csv('C:/Users/Shubham/Desktop/Spotify/Spotify.csv')"
   ]
  },
  {
   "cell_type": "markdown",
   "id": "831fa48f",
   "metadata": {},
   "source": [
    "### How many Indian songs are on the Top 10 list?"
   ]
  },
  {
   "cell_type": "code",
   "execution_count": 16,
   "id": "9b949667",
   "metadata": {},
   "outputs": [
    {
     "data": {
      "application/vnd.plotly.v1+json": {
       "config": {
        "plotlyServerURL": "https://plot.ly"
       },
       "data": [
        {
         "alignmentgroup": "True",
         "hovertemplate": "Track=%{x}<br>Track Popularity=%{y}<extra></extra>",
         "legendgroup": "",
         "marker": {
          "color": "#636efa",
          "pattern": {
           "shape": ""
          }
         },
         "name": "",
         "offsetgroup": "",
         "orientation": "v",
         "showlegend": false,
         "textposition": "auto",
         "type": "bar",
         "x": [
          "Nxde",
          "Rush hour (feat. j-hope of bts)",
          "Iraaday",
          "Reason",
          "Mileya ni",
          "Peaches (feat. anne-marie)",
          "Game over",
          "Shadow",
          "Meethi meethi",
          "Nagumo",
          "Tod gayi",
          "Mehabooba",
          "Dhol bajaa",
          "Bande (from \"vikram vedha\")",
          "Samjhawan - lofi flip"
         ],
         "xaxis": "x",
         "y": [
          85,
          79,
          65,
          64,
          62,
          61,
          61,
          61,
          60,
          60,
          60,
          60,
          60,
          60,
          60
         ],
         "yaxis": "y"
        }
       ],
       "layout": {
        "barmode": "relative",
        "legend": {
         "tracegroupgap": 0
        },
        "template": {
         "data": {
          "bar": [
           {
            "error_x": {
             "color": "#2a3f5f"
            },
            "error_y": {
             "color": "#2a3f5f"
            },
            "marker": {
             "line": {
              "color": "#E5ECF6",
              "width": 0.5
             },
             "pattern": {
              "fillmode": "overlay",
              "size": 10,
              "solidity": 0.2
             }
            },
            "type": "bar"
           }
          ],
          "barpolar": [
           {
            "marker": {
             "line": {
              "color": "#E5ECF6",
              "width": 0.5
             },
             "pattern": {
              "fillmode": "overlay",
              "size": 10,
              "solidity": 0.2
             }
            },
            "type": "barpolar"
           }
          ],
          "carpet": [
           {
            "aaxis": {
             "endlinecolor": "#2a3f5f",
             "gridcolor": "white",
             "linecolor": "white",
             "minorgridcolor": "white",
             "startlinecolor": "#2a3f5f"
            },
            "baxis": {
             "endlinecolor": "#2a3f5f",
             "gridcolor": "white",
             "linecolor": "white",
             "minorgridcolor": "white",
             "startlinecolor": "#2a3f5f"
            },
            "type": "carpet"
           }
          ],
          "choropleth": [
           {
            "colorbar": {
             "outlinewidth": 0,
             "ticks": ""
            },
            "type": "choropleth"
           }
          ],
          "contour": [
           {
            "colorbar": {
             "outlinewidth": 0,
             "ticks": ""
            },
            "colorscale": [
             [
              0,
              "#0d0887"
             ],
             [
              0.1111111111111111,
              "#46039f"
             ],
             [
              0.2222222222222222,
              "#7201a8"
             ],
             [
              0.3333333333333333,
              "#9c179e"
             ],
             [
              0.4444444444444444,
              "#bd3786"
             ],
             [
              0.5555555555555556,
              "#d8576b"
             ],
             [
              0.6666666666666666,
              "#ed7953"
             ],
             [
              0.7777777777777778,
              "#fb9f3a"
             ],
             [
              0.8888888888888888,
              "#fdca26"
             ],
             [
              1,
              "#f0f921"
             ]
            ],
            "type": "contour"
           }
          ],
          "contourcarpet": [
           {
            "colorbar": {
             "outlinewidth": 0,
             "ticks": ""
            },
            "type": "contourcarpet"
           }
          ],
          "heatmap": [
           {
            "colorbar": {
             "outlinewidth": 0,
             "ticks": ""
            },
            "colorscale": [
             [
              0,
              "#0d0887"
             ],
             [
              0.1111111111111111,
              "#46039f"
             ],
             [
              0.2222222222222222,
              "#7201a8"
             ],
             [
              0.3333333333333333,
              "#9c179e"
             ],
             [
              0.4444444444444444,
              "#bd3786"
             ],
             [
              0.5555555555555556,
              "#d8576b"
             ],
             [
              0.6666666666666666,
              "#ed7953"
             ],
             [
              0.7777777777777778,
              "#fb9f3a"
             ],
             [
              0.8888888888888888,
              "#fdca26"
             ],
             [
              1,
              "#f0f921"
             ]
            ],
            "type": "heatmap"
           }
          ],
          "heatmapgl": [
           {
            "colorbar": {
             "outlinewidth": 0,
             "ticks": ""
            },
            "colorscale": [
             [
              0,
              "#0d0887"
             ],
             [
              0.1111111111111111,
              "#46039f"
             ],
             [
              0.2222222222222222,
              "#7201a8"
             ],
             [
              0.3333333333333333,
              "#9c179e"
             ],
             [
              0.4444444444444444,
              "#bd3786"
             ],
             [
              0.5555555555555556,
              "#d8576b"
             ],
             [
              0.6666666666666666,
              "#ed7953"
             ],
             [
              0.7777777777777778,
              "#fb9f3a"
             ],
             [
              0.8888888888888888,
              "#fdca26"
             ],
             [
              1,
              "#f0f921"
             ]
            ],
            "type": "heatmapgl"
           }
          ],
          "histogram": [
           {
            "marker": {
             "pattern": {
              "fillmode": "overlay",
              "size": 10,
              "solidity": 0.2
             }
            },
            "type": "histogram"
           }
          ],
          "histogram2d": [
           {
            "colorbar": {
             "outlinewidth": 0,
             "ticks": ""
            },
            "colorscale": [
             [
              0,
              "#0d0887"
             ],
             [
              0.1111111111111111,
              "#46039f"
             ],
             [
              0.2222222222222222,
              "#7201a8"
             ],
             [
              0.3333333333333333,
              "#9c179e"
             ],
             [
              0.4444444444444444,
              "#bd3786"
             ],
             [
              0.5555555555555556,
              "#d8576b"
             ],
             [
              0.6666666666666666,
              "#ed7953"
             ],
             [
              0.7777777777777778,
              "#fb9f3a"
             ],
             [
              0.8888888888888888,
              "#fdca26"
             ],
             [
              1,
              "#f0f921"
             ]
            ],
            "type": "histogram2d"
           }
          ],
          "histogram2dcontour": [
           {
            "colorbar": {
             "outlinewidth": 0,
             "ticks": ""
            },
            "colorscale": [
             [
              0,
              "#0d0887"
             ],
             [
              0.1111111111111111,
              "#46039f"
             ],
             [
              0.2222222222222222,
              "#7201a8"
             ],
             [
              0.3333333333333333,
              "#9c179e"
             ],
             [
              0.4444444444444444,
              "#bd3786"
             ],
             [
              0.5555555555555556,
              "#d8576b"
             ],
             [
              0.6666666666666666,
              "#ed7953"
             ],
             [
              0.7777777777777778,
              "#fb9f3a"
             ],
             [
              0.8888888888888888,
              "#fdca26"
             ],
             [
              1,
              "#f0f921"
             ]
            ],
            "type": "histogram2dcontour"
           }
          ],
          "mesh3d": [
           {
            "colorbar": {
             "outlinewidth": 0,
             "ticks": ""
            },
            "type": "mesh3d"
           }
          ],
          "parcoords": [
           {
            "line": {
             "colorbar": {
              "outlinewidth": 0,
              "ticks": ""
             }
            },
            "type": "parcoords"
           }
          ],
          "pie": [
           {
            "automargin": true,
            "type": "pie"
           }
          ],
          "scatter": [
           {
            "fillpattern": {
             "fillmode": "overlay",
             "size": 10,
             "solidity": 0.2
            },
            "type": "scatter"
           }
          ],
          "scatter3d": [
           {
            "line": {
             "colorbar": {
              "outlinewidth": 0,
              "ticks": ""
             }
            },
            "marker": {
             "colorbar": {
              "outlinewidth": 0,
              "ticks": ""
             }
            },
            "type": "scatter3d"
           }
          ],
          "scattercarpet": [
           {
            "marker": {
             "colorbar": {
              "outlinewidth": 0,
              "ticks": ""
             }
            },
            "type": "scattercarpet"
           }
          ],
          "scattergeo": [
           {
            "marker": {
             "colorbar": {
              "outlinewidth": 0,
              "ticks": ""
             }
            },
            "type": "scattergeo"
           }
          ],
          "scattergl": [
           {
            "marker": {
             "colorbar": {
              "outlinewidth": 0,
              "ticks": ""
             }
            },
            "type": "scattergl"
           }
          ],
          "scattermapbox": [
           {
            "marker": {
             "colorbar": {
              "outlinewidth": 0,
              "ticks": ""
             }
            },
            "type": "scattermapbox"
           }
          ],
          "scatterpolar": [
           {
            "marker": {
             "colorbar": {
              "outlinewidth": 0,
              "ticks": ""
             }
            },
            "type": "scatterpolar"
           }
          ],
          "scatterpolargl": [
           {
            "marker": {
             "colorbar": {
              "outlinewidth": 0,
              "ticks": ""
             }
            },
            "type": "scatterpolargl"
           }
          ],
          "scatterternary": [
           {
            "marker": {
             "colorbar": {
              "outlinewidth": 0,
              "ticks": ""
             }
            },
            "type": "scatterternary"
           }
          ],
          "surface": [
           {
            "colorbar": {
             "outlinewidth": 0,
             "ticks": ""
            },
            "colorscale": [
             [
              0,
              "#0d0887"
             ],
             [
              0.1111111111111111,
              "#46039f"
             ],
             [
              0.2222222222222222,
              "#7201a8"
             ],
             [
              0.3333333333333333,
              "#9c179e"
             ],
             [
              0.4444444444444444,
              "#bd3786"
             ],
             [
              0.5555555555555556,
              "#d8576b"
             ],
             [
              0.6666666666666666,
              "#ed7953"
             ],
             [
              0.7777777777777778,
              "#fb9f3a"
             ],
             [
              0.8888888888888888,
              "#fdca26"
             ],
             [
              1,
              "#f0f921"
             ]
            ],
            "type": "surface"
           }
          ],
          "table": [
           {
            "cells": {
             "fill": {
              "color": "#EBF0F8"
             },
             "line": {
              "color": "white"
             }
            },
            "header": {
             "fill": {
              "color": "#C8D4E3"
             },
             "line": {
              "color": "white"
             }
            },
            "type": "table"
           }
          ]
         },
         "layout": {
          "annotationdefaults": {
           "arrowcolor": "#2a3f5f",
           "arrowhead": 0,
           "arrowwidth": 1
          },
          "autotypenumbers": "strict",
          "coloraxis": {
           "colorbar": {
            "outlinewidth": 0,
            "ticks": ""
           }
          },
          "colorscale": {
           "diverging": [
            [
             0,
             "#8e0152"
            ],
            [
             0.1,
             "#c51b7d"
            ],
            [
             0.2,
             "#de77ae"
            ],
            [
             0.3,
             "#f1b6da"
            ],
            [
             0.4,
             "#fde0ef"
            ],
            [
             0.5,
             "#f7f7f7"
            ],
            [
             0.6,
             "#e6f5d0"
            ],
            [
             0.7,
             "#b8e186"
            ],
            [
             0.8,
             "#7fbc41"
            ],
            [
             0.9,
             "#4d9221"
            ],
            [
             1,
             "#276419"
            ]
           ],
           "sequential": [
            [
             0,
             "#0d0887"
            ],
            [
             0.1111111111111111,
             "#46039f"
            ],
            [
             0.2222222222222222,
             "#7201a8"
            ],
            [
             0.3333333333333333,
             "#9c179e"
            ],
            [
             0.4444444444444444,
             "#bd3786"
            ],
            [
             0.5555555555555556,
             "#d8576b"
            ],
            [
             0.6666666666666666,
             "#ed7953"
            ],
            [
             0.7777777777777778,
             "#fb9f3a"
            ],
            [
             0.8888888888888888,
             "#fdca26"
            ],
            [
             1,
             "#f0f921"
            ]
           ],
           "sequentialminus": [
            [
             0,
             "#0d0887"
            ],
            [
             0.1111111111111111,
             "#46039f"
            ],
            [
             0.2222222222222222,
             "#7201a8"
            ],
            [
             0.3333333333333333,
             "#9c179e"
            ],
            [
             0.4444444444444444,
             "#bd3786"
            ],
            [
             0.5555555555555556,
             "#d8576b"
            ],
            [
             0.6666666666666666,
             "#ed7953"
            ],
            [
             0.7777777777777778,
             "#fb9f3a"
            ],
            [
             0.8888888888888888,
             "#fdca26"
            ],
            [
             1,
             "#f0f921"
            ]
           ]
          },
          "colorway": [
           "#636efa",
           "#EF553B",
           "#00cc96",
           "#ab63fa",
           "#FFA15A",
           "#19d3f3",
           "#FF6692",
           "#B6E880",
           "#FF97FF",
           "#FECB52"
          ],
          "font": {
           "color": "#2a3f5f"
          },
          "geo": {
           "bgcolor": "white",
           "lakecolor": "white",
           "landcolor": "#E5ECF6",
           "showlakes": true,
           "showland": true,
           "subunitcolor": "white"
          },
          "hoverlabel": {
           "align": "left"
          },
          "hovermode": "closest",
          "mapbox": {
           "style": "light"
          },
          "paper_bgcolor": "white",
          "plot_bgcolor": "#E5ECF6",
          "polar": {
           "angularaxis": {
            "gridcolor": "white",
            "linecolor": "white",
            "ticks": ""
           },
           "bgcolor": "#E5ECF6",
           "radialaxis": {
            "gridcolor": "white",
            "linecolor": "white",
            "ticks": ""
           }
          },
          "scene": {
           "xaxis": {
            "backgroundcolor": "#E5ECF6",
            "gridcolor": "white",
            "gridwidth": 2,
            "linecolor": "white",
            "showbackground": true,
            "ticks": "",
            "zerolinecolor": "white"
           },
           "yaxis": {
            "backgroundcolor": "#E5ECF6",
            "gridcolor": "white",
            "gridwidth": 2,
            "linecolor": "white",
            "showbackground": true,
            "ticks": "",
            "zerolinecolor": "white"
           },
           "zaxis": {
            "backgroundcolor": "#E5ECF6",
            "gridcolor": "white",
            "gridwidth": 2,
            "linecolor": "white",
            "showbackground": true,
            "ticks": "",
            "zerolinecolor": "white"
           }
          },
          "shapedefaults": {
           "line": {
            "color": "#2a3f5f"
           }
          },
          "ternary": {
           "aaxis": {
            "gridcolor": "white",
            "linecolor": "white",
            "ticks": ""
           },
           "baxis": {
            "gridcolor": "white",
            "linecolor": "white",
            "ticks": ""
           },
           "bgcolor": "#E5ECF6",
           "caxis": {
            "gridcolor": "white",
            "linecolor": "white",
            "ticks": ""
           }
          },
          "title": {
           "x": 0.05
          },
          "xaxis": {
           "automargin": true,
           "gridcolor": "white",
           "linecolor": "white",
           "ticks": "",
           "title": {
            "standoff": 15
           },
           "zerolinecolor": "white",
           "zerolinewidth": 2
          },
          "yaxis": {
           "automargin": true,
           "gridcolor": "white",
           "linecolor": "white",
           "ticks": "",
           "title": {
            "standoff": 15
           },
           "zerolinecolor": "white",
           "zerolinewidth": 2
          }
         }
        },
        "title": {
         "text": "Top 10 most popular song"
        },
        "xaxis": {
         "anchor": "y",
         "domain": [
          0,
          1
         ],
         "title": {
          "text": "Track"
         }
        },
        "yaxis": {
         "anchor": "x",
         "domain": [
          0,
          1
         ],
         "title": {
          "text": "Track Popularity"
         }
        }
       }
      },
      "text/html": [
       "<div>                            <div id=\"70e8cd4e-0b07-4881-abc3-794d1acb9c7a\" class=\"plotly-graph-div\" style=\"height:525px; width:100%;\"></div>            <script type=\"text/javascript\">                require([\"plotly\"], function(Plotly) {                    window.PLOTLYENV=window.PLOTLYENV || {};                                    if (document.getElementById(\"70e8cd4e-0b07-4881-abc3-794d1acb9c7a\")) {                    Plotly.newPlot(                        \"70e8cd4e-0b07-4881-abc3-794d1acb9c7a\",                        [{\"alignmentgroup\":\"True\",\"hovertemplate\":\"Track=%{x}<br>Track Popularity=%{y}<extra></extra>\",\"legendgroup\":\"\",\"marker\":{\"color\":\"#636efa\",\"pattern\":{\"shape\":\"\"}},\"name\":\"\",\"offsetgroup\":\"\",\"orientation\":\"v\",\"showlegend\":false,\"textposition\":\"auto\",\"x\":[\"Nxde\",\"Rush hour (feat. j-hope of bts)\",\"Iraaday\",\"Reason\",\"Mileya ni\",\"Peaches (feat. anne-marie)\",\"Game over\",\"Shadow\",\"Meethi meethi\",\"Nagumo\",\"Tod gayi\",\"Mehabooba\",\"Dhol bajaa\",\"Bande (from \\\"vikram vedha\\\")\",\"Samjhawan - lofi flip\"],\"xaxis\":\"x\",\"y\":[85,79,65,64,62,61,61,61,60,60,60,60,60,60,60],\"yaxis\":\"y\",\"type\":\"bar\"}],                        {\"template\":{\"data\":{\"histogram2dcontour\":[{\"type\":\"histogram2dcontour\",\"colorbar\":{\"outlinewidth\":0,\"ticks\":\"\"},\"colorscale\":[[0.0,\"#0d0887\"],[0.1111111111111111,\"#46039f\"],[0.2222222222222222,\"#7201a8\"],[0.3333333333333333,\"#9c179e\"],[0.4444444444444444,\"#bd3786\"],[0.5555555555555556,\"#d8576b\"],[0.6666666666666666,\"#ed7953\"],[0.7777777777777778,\"#fb9f3a\"],[0.8888888888888888,\"#fdca26\"],[1.0,\"#f0f921\"]]}],\"choropleth\":[{\"type\":\"choropleth\",\"colorbar\":{\"outlinewidth\":0,\"ticks\":\"\"}}],\"histogram2d\":[{\"type\":\"histogram2d\",\"colorbar\":{\"outlinewidth\":0,\"ticks\":\"\"},\"colorscale\":[[0.0,\"#0d0887\"],[0.1111111111111111,\"#46039f\"],[0.2222222222222222,\"#7201a8\"],[0.3333333333333333,\"#9c179e\"],[0.4444444444444444,\"#bd3786\"],[0.5555555555555556,\"#d8576b\"],[0.6666666666666666,\"#ed7953\"],[0.7777777777777778,\"#fb9f3a\"],[0.8888888888888888,\"#fdca26\"],[1.0,\"#f0f921\"]]}],\"heatmap\":[{\"type\":\"heatmap\",\"colorbar\":{\"outlinewidth\":0,\"ticks\":\"\"},\"colorscale\":[[0.0,\"#0d0887\"],[0.1111111111111111,\"#46039f\"],[0.2222222222222222,\"#7201a8\"],[0.3333333333333333,\"#9c179e\"],[0.4444444444444444,\"#bd3786\"],[0.5555555555555556,\"#d8576b\"],[0.6666666666666666,\"#ed7953\"],[0.7777777777777778,\"#fb9f3a\"],[0.8888888888888888,\"#fdca26\"],[1.0,\"#f0f921\"]]}],\"heatmapgl\":[{\"type\":\"heatmapgl\",\"colorbar\":{\"outlinewidth\":0,\"ticks\":\"\"},\"colorscale\":[[0.0,\"#0d0887\"],[0.1111111111111111,\"#46039f\"],[0.2222222222222222,\"#7201a8\"],[0.3333333333333333,\"#9c179e\"],[0.4444444444444444,\"#bd3786\"],[0.5555555555555556,\"#d8576b\"],[0.6666666666666666,\"#ed7953\"],[0.7777777777777778,\"#fb9f3a\"],[0.8888888888888888,\"#fdca26\"],[1.0,\"#f0f921\"]]}],\"contourcarpet\":[{\"type\":\"contourcarpet\",\"colorbar\":{\"outlinewidth\":0,\"ticks\":\"\"}}],\"contour\":[{\"type\":\"contour\",\"colorbar\":{\"outlinewidth\":0,\"ticks\":\"\"},\"colorscale\":[[0.0,\"#0d0887\"],[0.1111111111111111,\"#46039f\"],[0.2222222222222222,\"#7201a8\"],[0.3333333333333333,\"#9c179e\"],[0.4444444444444444,\"#bd3786\"],[0.5555555555555556,\"#d8576b\"],[0.6666666666666666,\"#ed7953\"],[0.7777777777777778,\"#fb9f3a\"],[0.8888888888888888,\"#fdca26\"],[1.0,\"#f0f921\"]]}],\"surface\":[{\"type\":\"surface\",\"colorbar\":{\"outlinewidth\":0,\"ticks\":\"\"},\"colorscale\":[[0.0,\"#0d0887\"],[0.1111111111111111,\"#46039f\"],[0.2222222222222222,\"#7201a8\"],[0.3333333333333333,\"#9c179e\"],[0.4444444444444444,\"#bd3786\"],[0.5555555555555556,\"#d8576b\"],[0.6666666666666666,\"#ed7953\"],[0.7777777777777778,\"#fb9f3a\"],[0.8888888888888888,\"#fdca26\"],[1.0,\"#f0f921\"]]}],\"mesh3d\":[{\"type\":\"mesh3d\",\"colorbar\":{\"outlinewidth\":0,\"ticks\":\"\"}}],\"scatter\":[{\"fillpattern\":{\"fillmode\":\"overlay\",\"size\":10,\"solidity\":0.2},\"type\":\"scatter\"}],\"parcoords\":[{\"type\":\"parcoords\",\"line\":{\"colorbar\":{\"outlinewidth\":0,\"ticks\":\"\"}}}],\"scatterpolargl\":[{\"type\":\"scatterpolargl\",\"marker\":{\"colorbar\":{\"outlinewidth\":0,\"ticks\":\"\"}}}],\"bar\":[{\"error_x\":{\"color\":\"#2a3f5f\"},\"error_y\":{\"color\":\"#2a3f5f\"},\"marker\":{\"line\":{\"color\":\"#E5ECF6\",\"width\":0.5},\"pattern\":{\"fillmode\":\"overlay\",\"size\":10,\"solidity\":0.2}},\"type\":\"bar\"}],\"scattergeo\":[{\"type\":\"scattergeo\",\"marker\":{\"colorbar\":{\"outlinewidth\":0,\"ticks\":\"\"}}}],\"scatterpolar\":[{\"type\":\"scatterpolar\",\"marker\":{\"colorbar\":{\"outlinewidth\":0,\"ticks\":\"\"}}}],\"histogram\":[{\"marker\":{\"pattern\":{\"fillmode\":\"overlay\",\"size\":10,\"solidity\":0.2}},\"type\":\"histogram\"}],\"scattergl\":[{\"type\":\"scattergl\",\"marker\":{\"colorbar\":{\"outlinewidth\":0,\"ticks\":\"\"}}}],\"scatter3d\":[{\"type\":\"scatter3d\",\"line\":{\"colorbar\":{\"outlinewidth\":0,\"ticks\":\"\"}},\"marker\":{\"colorbar\":{\"outlinewidth\":0,\"ticks\":\"\"}}}],\"scattermapbox\":[{\"type\":\"scattermapbox\",\"marker\":{\"colorbar\":{\"outlinewidth\":0,\"ticks\":\"\"}}}],\"scatterternary\":[{\"type\":\"scatterternary\",\"marker\":{\"colorbar\":{\"outlinewidth\":0,\"ticks\":\"\"}}}],\"scattercarpet\":[{\"type\":\"scattercarpet\",\"marker\":{\"colorbar\":{\"outlinewidth\":0,\"ticks\":\"\"}}}],\"carpet\":[{\"aaxis\":{\"endlinecolor\":\"#2a3f5f\",\"gridcolor\":\"white\",\"linecolor\":\"white\",\"minorgridcolor\":\"white\",\"startlinecolor\":\"#2a3f5f\"},\"baxis\":{\"endlinecolor\":\"#2a3f5f\",\"gridcolor\":\"white\",\"linecolor\":\"white\",\"minorgridcolor\":\"white\",\"startlinecolor\":\"#2a3f5f\"},\"type\":\"carpet\"}],\"table\":[{\"cells\":{\"fill\":{\"color\":\"#EBF0F8\"},\"line\":{\"color\":\"white\"}},\"header\":{\"fill\":{\"color\":\"#C8D4E3\"},\"line\":{\"color\":\"white\"}},\"type\":\"table\"}],\"barpolar\":[{\"marker\":{\"line\":{\"color\":\"#E5ECF6\",\"width\":0.5},\"pattern\":{\"fillmode\":\"overlay\",\"size\":10,\"solidity\":0.2}},\"type\":\"barpolar\"}],\"pie\":[{\"automargin\":true,\"type\":\"pie\"}]},\"layout\":{\"autotypenumbers\":\"strict\",\"colorway\":[\"#636efa\",\"#EF553B\",\"#00cc96\",\"#ab63fa\",\"#FFA15A\",\"#19d3f3\",\"#FF6692\",\"#B6E880\",\"#FF97FF\",\"#FECB52\"],\"font\":{\"color\":\"#2a3f5f\"},\"hovermode\":\"closest\",\"hoverlabel\":{\"align\":\"left\"},\"paper_bgcolor\":\"white\",\"plot_bgcolor\":\"#E5ECF6\",\"polar\":{\"bgcolor\":\"#E5ECF6\",\"angularaxis\":{\"gridcolor\":\"white\",\"linecolor\":\"white\",\"ticks\":\"\"},\"radialaxis\":{\"gridcolor\":\"white\",\"linecolor\":\"white\",\"ticks\":\"\"}},\"ternary\":{\"bgcolor\":\"#E5ECF6\",\"aaxis\":{\"gridcolor\":\"white\",\"linecolor\":\"white\",\"ticks\":\"\"},\"baxis\":{\"gridcolor\":\"white\",\"linecolor\":\"white\",\"ticks\":\"\"},\"caxis\":{\"gridcolor\":\"white\",\"linecolor\":\"white\",\"ticks\":\"\"}},\"coloraxis\":{\"colorbar\":{\"outlinewidth\":0,\"ticks\":\"\"}},\"colorscale\":{\"sequential\":[[0.0,\"#0d0887\"],[0.1111111111111111,\"#46039f\"],[0.2222222222222222,\"#7201a8\"],[0.3333333333333333,\"#9c179e\"],[0.4444444444444444,\"#bd3786\"],[0.5555555555555556,\"#d8576b\"],[0.6666666666666666,\"#ed7953\"],[0.7777777777777778,\"#fb9f3a\"],[0.8888888888888888,\"#fdca26\"],[1.0,\"#f0f921\"]],\"sequentialminus\":[[0.0,\"#0d0887\"],[0.1111111111111111,\"#46039f\"],[0.2222222222222222,\"#7201a8\"],[0.3333333333333333,\"#9c179e\"],[0.4444444444444444,\"#bd3786\"],[0.5555555555555556,\"#d8576b\"],[0.6666666666666666,\"#ed7953\"],[0.7777777777777778,\"#fb9f3a\"],[0.8888888888888888,\"#fdca26\"],[1.0,\"#f0f921\"]],\"diverging\":[[0,\"#8e0152\"],[0.1,\"#c51b7d\"],[0.2,\"#de77ae\"],[0.3,\"#f1b6da\"],[0.4,\"#fde0ef\"],[0.5,\"#f7f7f7\"],[0.6,\"#e6f5d0\"],[0.7,\"#b8e186\"],[0.8,\"#7fbc41\"],[0.9,\"#4d9221\"],[1,\"#276419\"]]},\"xaxis\":{\"gridcolor\":\"white\",\"linecolor\":\"white\",\"ticks\":\"\",\"title\":{\"standoff\":15},\"zerolinecolor\":\"white\",\"automargin\":true,\"zerolinewidth\":2},\"yaxis\":{\"gridcolor\":\"white\",\"linecolor\":\"white\",\"ticks\":\"\",\"title\":{\"standoff\":15},\"zerolinecolor\":\"white\",\"automargin\":true,\"zerolinewidth\":2},\"scene\":{\"xaxis\":{\"backgroundcolor\":\"#E5ECF6\",\"gridcolor\":\"white\",\"linecolor\":\"white\",\"showbackground\":true,\"ticks\":\"\",\"zerolinecolor\":\"white\",\"gridwidth\":2},\"yaxis\":{\"backgroundcolor\":\"#E5ECF6\",\"gridcolor\":\"white\",\"linecolor\":\"white\",\"showbackground\":true,\"ticks\":\"\",\"zerolinecolor\":\"white\",\"gridwidth\":2},\"zaxis\":{\"backgroundcolor\":\"#E5ECF6\",\"gridcolor\":\"white\",\"linecolor\":\"white\",\"showbackground\":true,\"ticks\":\"\",\"zerolinecolor\":\"white\",\"gridwidth\":2}},\"shapedefaults\":{\"line\":{\"color\":\"#2a3f5f\"}},\"annotationdefaults\":{\"arrowcolor\":\"#2a3f5f\",\"arrowhead\":0,\"arrowwidth\":1},\"geo\":{\"bgcolor\":\"white\",\"landcolor\":\"#E5ECF6\",\"subunitcolor\":\"white\",\"showland\":true,\"showlakes\":true,\"lakecolor\":\"white\"},\"title\":{\"x\":0.05},\"mapbox\":{\"style\":\"light\"}}},\"xaxis\":{\"anchor\":\"y\",\"domain\":[0.0,1.0],\"title\":{\"text\":\"Track\"}},\"yaxis\":{\"anchor\":\"x\",\"domain\":[0.0,1.0],\"title\":{\"text\":\"Track Popularity\"}},\"legend\":{\"tracegroupgap\":0},\"title\":{\"text\":\"Top 10 most popular song\"},\"barmode\":\"relative\"},                        {\"responsive\": true}                    ).then(function(){\n",
       "                            \n",
       "var gd = document.getElementById('70e8cd4e-0b07-4881-abc3-794d1acb9c7a');\n",
       "var x = new MutationObserver(function (mutations, observer) {{\n",
       "        var display = window.getComputedStyle(gd).display;\n",
       "        if (!display || display === 'none') {{\n",
       "            console.log([gd, 'removed!']);\n",
       "            Plotly.purge(gd);\n",
       "            observer.disconnect();\n",
       "        }}\n",
       "}});\n",
       "\n",
       "// Listen for the removal of the full notebook cells\n",
       "var notebookContainer = gd.closest('#notebook-container');\n",
       "if (notebookContainer) {{\n",
       "    x.observe(notebookContainer, {childList: true});\n",
       "}}\n",
       "\n",
       "// Listen for the clearing of the current output cell\n",
       "var outputEl = gd.closest('.output');\n",
       "if (outputEl) {{\n",
       "    x.observe(outputEl, {childList: true});\n",
       "}}\n",
       "\n",
       "                        })                };                });            </script>        </div>"
      ]
     },
     "metadata": {},
     "output_type": "display_data"
    }
   ],
   "source": [
    "# Sorting the dataframe by Track_popularity\n",
    "df1.sort_values('Track_popularity', ascending = False, inplace = True)\n",
    "# taking the Track and track_popularity and store in a seperate dataframe called \"top\"\n",
    "top = df1[['Track', 'Track_popularity']]\n",
    "top = top.head(15)\n",
    "# Building visuals\n",
    "fig = px.bar(top, x='Track', y=\"Track_popularity\", orientation = 'v', title = \"Top 10 most popular song\",labels={\"Track\": \"Track\",\n",
    "\"Track_popularity\": \"Track Popularity\"}\n",
    ")\n",
    "fig.show()"
   ]
  },
  {
   "cell_type": "markdown",
   "id": "4084f2de",
   "metadata": {},
   "source": [
    "### What is the least popular song?"
   ]
  },
  {
   "cell_type": "code",
   "execution_count": 17,
   "id": "3f0be1d1",
   "metadata": {},
   "outputs": [],
   "source": [
    "#Sorting the dataframe by Track_popularity\n",
    "df1.sort_values('Track_popularity', ascending = True, inplace = True)\n",
    "top = df1[['Track', 'Track_popularity', 'Artist']]\n",
    "top = top.head(10)"
   ]
  },
  {
   "cell_type": "markdown",
   "id": "b1486526",
   "metadata": {},
   "source": [
    "### How many songs are there in the pop category?"
   ]
  },
  {
   "cell_type": "code",
   "execution_count": 18,
   "id": "259a610a",
   "metadata": {},
   "outputs": [
    {
     "data": {
      "application/vnd.plotly.v1+json": {
       "config": {
        "plotlyServerURL": "https://plot.ly"
       },
       "data": [
        {
         "domain": {
          "x": [
           0,
           1
          ],
          "y": [
           0,
           1
          ]
         },
         "hovertemplate": "Genres=%{label}<br>Track_id=%{value}<extra></extra>",
         "labels": [
          "['latin hip hop', 'reggaeton', 'trap latino']",
          "['dance pop', 'pop']",
          "[]",
          "['desi pop', 'filmi', 'hare krishna', 'modern bollywood']",
          "['desi pop', 'filmi', 'modern bollywood']",
          "['desi pop', 'gujarati pop', 'modern bollywood']",
          "['desi pop', 'hindi hip hop']",
          "['desi pop', 'punjabi pop']",
          "['filmi', 'tamil pop']",
          "['desi hip hop', 'desi pop', 'punjabi pop']"
         ],
         "legendgroup": "",
         "name": "",
         "showlegend": true,
         "type": "pie",
         "values": [
          26,
          5,
          3,
          1,
          1,
          1,
          1,
          1,
          1,
          1
         ]
        }
       ],
       "layout": {
        "legend": {
         "tracegroupgap": 0
        },
        "piecolorway": [
         "rgb(103,0,31)",
         "rgb(178,24,43)",
         "rgb(214,96,77)",
         "rgb(244,165,130)",
         "rgb(253,219,199)",
         "rgb(247,247,247)",
         "rgb(209,229,240)",
         "rgb(146,197,222)",
         "rgb(67,147,195)",
         "rgb(33,102,172)",
         "rgb(5,48,97)"
        ],
        "template": {
         "data": {
          "bar": [
           {
            "error_x": {
             "color": "#2a3f5f"
            },
            "error_y": {
             "color": "#2a3f5f"
            },
            "marker": {
             "line": {
              "color": "#E5ECF6",
              "width": 0.5
             },
             "pattern": {
              "fillmode": "overlay",
              "size": 10,
              "solidity": 0.2
             }
            },
            "type": "bar"
           }
          ],
          "barpolar": [
           {
            "marker": {
             "line": {
              "color": "#E5ECF6",
              "width": 0.5
             },
             "pattern": {
              "fillmode": "overlay",
              "size": 10,
              "solidity": 0.2
             }
            },
            "type": "barpolar"
           }
          ],
          "carpet": [
           {
            "aaxis": {
             "endlinecolor": "#2a3f5f",
             "gridcolor": "white",
             "linecolor": "white",
             "minorgridcolor": "white",
             "startlinecolor": "#2a3f5f"
            },
            "baxis": {
             "endlinecolor": "#2a3f5f",
             "gridcolor": "white",
             "linecolor": "white",
             "minorgridcolor": "white",
             "startlinecolor": "#2a3f5f"
            },
            "type": "carpet"
           }
          ],
          "choropleth": [
           {
            "colorbar": {
             "outlinewidth": 0,
             "ticks": ""
            },
            "type": "choropleth"
           }
          ],
          "contour": [
           {
            "colorbar": {
             "outlinewidth": 0,
             "ticks": ""
            },
            "colorscale": [
             [
              0,
              "#0d0887"
             ],
             [
              0.1111111111111111,
              "#46039f"
             ],
             [
              0.2222222222222222,
              "#7201a8"
             ],
             [
              0.3333333333333333,
              "#9c179e"
             ],
             [
              0.4444444444444444,
              "#bd3786"
             ],
             [
              0.5555555555555556,
              "#d8576b"
             ],
             [
              0.6666666666666666,
              "#ed7953"
             ],
             [
              0.7777777777777778,
              "#fb9f3a"
             ],
             [
              0.8888888888888888,
              "#fdca26"
             ],
             [
              1,
              "#f0f921"
             ]
            ],
            "type": "contour"
           }
          ],
          "contourcarpet": [
           {
            "colorbar": {
             "outlinewidth": 0,
             "ticks": ""
            },
            "type": "contourcarpet"
           }
          ],
          "heatmap": [
           {
            "colorbar": {
             "outlinewidth": 0,
             "ticks": ""
            },
            "colorscale": [
             [
              0,
              "#0d0887"
             ],
             [
              0.1111111111111111,
              "#46039f"
             ],
             [
              0.2222222222222222,
              "#7201a8"
             ],
             [
              0.3333333333333333,
              "#9c179e"
             ],
             [
              0.4444444444444444,
              "#bd3786"
             ],
             [
              0.5555555555555556,
              "#d8576b"
             ],
             [
              0.6666666666666666,
              "#ed7953"
             ],
             [
              0.7777777777777778,
              "#fb9f3a"
             ],
             [
              0.8888888888888888,
              "#fdca26"
             ],
             [
              1,
              "#f0f921"
             ]
            ],
            "type": "heatmap"
           }
          ],
          "heatmapgl": [
           {
            "colorbar": {
             "outlinewidth": 0,
             "ticks": ""
            },
            "colorscale": [
             [
              0,
              "#0d0887"
             ],
             [
              0.1111111111111111,
              "#46039f"
             ],
             [
              0.2222222222222222,
              "#7201a8"
             ],
             [
              0.3333333333333333,
              "#9c179e"
             ],
             [
              0.4444444444444444,
              "#bd3786"
             ],
             [
              0.5555555555555556,
              "#d8576b"
             ],
             [
              0.6666666666666666,
              "#ed7953"
             ],
             [
              0.7777777777777778,
              "#fb9f3a"
             ],
             [
              0.8888888888888888,
              "#fdca26"
             ],
             [
              1,
              "#f0f921"
             ]
            ],
            "type": "heatmapgl"
           }
          ],
          "histogram": [
           {
            "marker": {
             "pattern": {
              "fillmode": "overlay",
              "size": 10,
              "solidity": 0.2
             }
            },
            "type": "histogram"
           }
          ],
          "histogram2d": [
           {
            "colorbar": {
             "outlinewidth": 0,
             "ticks": ""
            },
            "colorscale": [
             [
              0,
              "#0d0887"
             ],
             [
              0.1111111111111111,
              "#46039f"
             ],
             [
              0.2222222222222222,
              "#7201a8"
             ],
             [
              0.3333333333333333,
              "#9c179e"
             ],
             [
              0.4444444444444444,
              "#bd3786"
             ],
             [
              0.5555555555555556,
              "#d8576b"
             ],
             [
              0.6666666666666666,
              "#ed7953"
             ],
             [
              0.7777777777777778,
              "#fb9f3a"
             ],
             [
              0.8888888888888888,
              "#fdca26"
             ],
             [
              1,
              "#f0f921"
             ]
            ],
            "type": "histogram2d"
           }
          ],
          "histogram2dcontour": [
           {
            "colorbar": {
             "outlinewidth": 0,
             "ticks": ""
            },
            "colorscale": [
             [
              0,
              "#0d0887"
             ],
             [
              0.1111111111111111,
              "#46039f"
             ],
             [
              0.2222222222222222,
              "#7201a8"
             ],
             [
              0.3333333333333333,
              "#9c179e"
             ],
             [
              0.4444444444444444,
              "#bd3786"
             ],
             [
              0.5555555555555556,
              "#d8576b"
             ],
             [
              0.6666666666666666,
              "#ed7953"
             ],
             [
              0.7777777777777778,
              "#fb9f3a"
             ],
             [
              0.8888888888888888,
              "#fdca26"
             ],
             [
              1,
              "#f0f921"
             ]
            ],
            "type": "histogram2dcontour"
           }
          ],
          "mesh3d": [
           {
            "colorbar": {
             "outlinewidth": 0,
             "ticks": ""
            },
            "type": "mesh3d"
           }
          ],
          "parcoords": [
           {
            "line": {
             "colorbar": {
              "outlinewidth": 0,
              "ticks": ""
             }
            },
            "type": "parcoords"
           }
          ],
          "pie": [
           {
            "automargin": true,
            "type": "pie"
           }
          ],
          "scatter": [
           {
            "fillpattern": {
             "fillmode": "overlay",
             "size": 10,
             "solidity": 0.2
            },
            "type": "scatter"
           }
          ],
          "scatter3d": [
           {
            "line": {
             "colorbar": {
              "outlinewidth": 0,
              "ticks": ""
             }
            },
            "marker": {
             "colorbar": {
              "outlinewidth": 0,
              "ticks": ""
             }
            },
            "type": "scatter3d"
           }
          ],
          "scattercarpet": [
           {
            "marker": {
             "colorbar": {
              "outlinewidth": 0,
              "ticks": ""
             }
            },
            "type": "scattercarpet"
           }
          ],
          "scattergeo": [
           {
            "marker": {
             "colorbar": {
              "outlinewidth": 0,
              "ticks": ""
             }
            },
            "type": "scattergeo"
           }
          ],
          "scattergl": [
           {
            "marker": {
             "colorbar": {
              "outlinewidth": 0,
              "ticks": ""
             }
            },
            "type": "scattergl"
           }
          ],
          "scattermapbox": [
           {
            "marker": {
             "colorbar": {
              "outlinewidth": 0,
              "ticks": ""
             }
            },
            "type": "scattermapbox"
           }
          ],
          "scatterpolar": [
           {
            "marker": {
             "colorbar": {
              "outlinewidth": 0,
              "ticks": ""
             }
            },
            "type": "scatterpolar"
           }
          ],
          "scatterpolargl": [
           {
            "marker": {
             "colorbar": {
              "outlinewidth": 0,
              "ticks": ""
             }
            },
            "type": "scatterpolargl"
           }
          ],
          "scatterternary": [
           {
            "marker": {
             "colorbar": {
              "outlinewidth": 0,
              "ticks": ""
             }
            },
            "type": "scatterternary"
           }
          ],
          "surface": [
           {
            "colorbar": {
             "outlinewidth": 0,
             "ticks": ""
            },
            "colorscale": [
             [
              0,
              "#0d0887"
             ],
             [
              0.1111111111111111,
              "#46039f"
             ],
             [
              0.2222222222222222,
              "#7201a8"
             ],
             [
              0.3333333333333333,
              "#9c179e"
             ],
             [
              0.4444444444444444,
              "#bd3786"
             ],
             [
              0.5555555555555556,
              "#d8576b"
             ],
             [
              0.6666666666666666,
              "#ed7953"
             ],
             [
              0.7777777777777778,
              "#fb9f3a"
             ],
             [
              0.8888888888888888,
              "#fdca26"
             ],
             [
              1,
              "#f0f921"
             ]
            ],
            "type": "surface"
           }
          ],
          "table": [
           {
            "cells": {
             "fill": {
              "color": "#EBF0F8"
             },
             "line": {
              "color": "white"
             }
            },
            "header": {
             "fill": {
              "color": "#C8D4E3"
             },
             "line": {
              "color": "white"
             }
            },
            "type": "table"
           }
          ]
         },
         "layout": {
          "annotationdefaults": {
           "arrowcolor": "#2a3f5f",
           "arrowhead": 0,
           "arrowwidth": 1
          },
          "autotypenumbers": "strict",
          "coloraxis": {
           "colorbar": {
            "outlinewidth": 0,
            "ticks": ""
           }
          },
          "colorscale": {
           "diverging": [
            [
             0,
             "#8e0152"
            ],
            [
             0.1,
             "#c51b7d"
            ],
            [
             0.2,
             "#de77ae"
            ],
            [
             0.3,
             "#f1b6da"
            ],
            [
             0.4,
             "#fde0ef"
            ],
            [
             0.5,
             "#f7f7f7"
            ],
            [
             0.6,
             "#e6f5d0"
            ],
            [
             0.7,
             "#b8e186"
            ],
            [
             0.8,
             "#7fbc41"
            ],
            [
             0.9,
             "#4d9221"
            ],
            [
             1,
             "#276419"
            ]
           ],
           "sequential": [
            [
             0,
             "#0d0887"
            ],
            [
             0.1111111111111111,
             "#46039f"
            ],
            [
             0.2222222222222222,
             "#7201a8"
            ],
            [
             0.3333333333333333,
             "#9c179e"
            ],
            [
             0.4444444444444444,
             "#bd3786"
            ],
            [
             0.5555555555555556,
             "#d8576b"
            ],
            [
             0.6666666666666666,
             "#ed7953"
            ],
            [
             0.7777777777777778,
             "#fb9f3a"
            ],
            [
             0.8888888888888888,
             "#fdca26"
            ],
            [
             1,
             "#f0f921"
            ]
           ],
           "sequentialminus": [
            [
             0,
             "#0d0887"
            ],
            [
             0.1111111111111111,
             "#46039f"
            ],
            [
             0.2222222222222222,
             "#7201a8"
            ],
            [
             0.3333333333333333,
             "#9c179e"
            ],
            [
             0.4444444444444444,
             "#bd3786"
            ],
            [
             0.5555555555555556,
             "#d8576b"
            ],
            [
             0.6666666666666666,
             "#ed7953"
            ],
            [
             0.7777777777777778,
             "#fb9f3a"
            ],
            [
             0.8888888888888888,
             "#fdca26"
            ],
            [
             1,
             "#f0f921"
            ]
           ]
          },
          "colorway": [
           "#636efa",
           "#EF553B",
           "#00cc96",
           "#ab63fa",
           "#FFA15A",
           "#19d3f3",
           "#FF6692",
           "#B6E880",
           "#FF97FF",
           "#FECB52"
          ],
          "font": {
           "color": "#2a3f5f"
          },
          "geo": {
           "bgcolor": "white",
           "lakecolor": "white",
           "landcolor": "#E5ECF6",
           "showlakes": true,
           "showland": true,
           "subunitcolor": "white"
          },
          "hoverlabel": {
           "align": "left"
          },
          "hovermode": "closest",
          "mapbox": {
           "style": "light"
          },
          "paper_bgcolor": "white",
          "plot_bgcolor": "#E5ECF6",
          "polar": {
           "angularaxis": {
            "gridcolor": "white",
            "linecolor": "white",
            "ticks": ""
           },
           "bgcolor": "#E5ECF6",
           "radialaxis": {
            "gridcolor": "white",
            "linecolor": "white",
            "ticks": ""
           }
          },
          "scene": {
           "xaxis": {
            "backgroundcolor": "#E5ECF6",
            "gridcolor": "white",
            "gridwidth": 2,
            "linecolor": "white",
            "showbackground": true,
            "ticks": "",
            "zerolinecolor": "white"
           },
           "yaxis": {
            "backgroundcolor": "#E5ECF6",
            "gridcolor": "white",
            "gridwidth": 2,
            "linecolor": "white",
            "showbackground": true,
            "ticks": "",
            "zerolinecolor": "white"
           },
           "zaxis": {
            "backgroundcolor": "#E5ECF6",
            "gridcolor": "white",
            "gridwidth": 2,
            "linecolor": "white",
            "showbackground": true,
            "ticks": "",
            "zerolinecolor": "white"
           }
          },
          "shapedefaults": {
           "line": {
            "color": "#2a3f5f"
           }
          },
          "ternary": {
           "aaxis": {
            "gridcolor": "white",
            "linecolor": "white",
            "ticks": ""
           },
           "baxis": {
            "gridcolor": "white",
            "linecolor": "white",
            "ticks": ""
           },
           "bgcolor": "#E5ECF6",
           "caxis": {
            "gridcolor": "white",
            "linecolor": "white",
            "ticks": ""
           }
          },
          "title": {
           "x": 0.05
          },
          "xaxis": {
           "automargin": true,
           "gridcolor": "white",
           "linecolor": "white",
           "ticks": "",
           "title": {
            "standoff": 15
           },
           "zerolinecolor": "white",
           "zerolinewidth": 2
          },
          "yaxis": {
           "automargin": true,
           "gridcolor": "white",
           "linecolor": "white",
           "ticks": "",
           "title": {
            "standoff": 15
           },
           "zerolinecolor": "white",
           "zerolinewidth": 2
          }
         }
        },
        "title": {
         "text": "Top Genres by total songs"
        }
       }
      },
      "text/html": [
       "<div>                            <div id=\"805f4ee0-a0df-444b-8dcf-7cebb77c6c04\" class=\"plotly-graph-div\" style=\"height:525px; width:100%;\"></div>            <script type=\"text/javascript\">                require([\"plotly\"], function(Plotly) {                    window.PLOTLYENV=window.PLOTLYENV || {};                                    if (document.getElementById(\"805f4ee0-a0df-444b-8dcf-7cebb77c6c04\")) {                    Plotly.newPlot(                        \"805f4ee0-a0df-444b-8dcf-7cebb77c6c04\",                        [{\"domain\":{\"x\":[0.0,1.0],\"y\":[0.0,1.0]},\"hovertemplate\":\"Genres=%{label}<br>Track_id=%{value}<extra></extra>\",\"labels\":[\"['latin hip hop', 'reggaeton', 'trap latino']\",\"['dance pop', 'pop']\",\"[]\",\"['desi pop', 'filmi', 'hare krishna', 'modern bollywood']\",\"['desi pop', 'filmi', 'modern bollywood']\",\"['desi pop', 'gujarati pop', 'modern bollywood']\",\"['desi pop', 'hindi hip hop']\",\"['desi pop', 'punjabi pop']\",\"['filmi', 'tamil pop']\",\"['desi hip hop', 'desi pop', 'punjabi pop']\"],\"legendgroup\":\"\",\"name\":\"\",\"showlegend\":true,\"values\":[26,5,3,1,1,1,1,1,1,1],\"type\":\"pie\"}],                        {\"template\":{\"data\":{\"histogram2dcontour\":[{\"type\":\"histogram2dcontour\",\"colorbar\":{\"outlinewidth\":0,\"ticks\":\"\"},\"colorscale\":[[0.0,\"#0d0887\"],[0.1111111111111111,\"#46039f\"],[0.2222222222222222,\"#7201a8\"],[0.3333333333333333,\"#9c179e\"],[0.4444444444444444,\"#bd3786\"],[0.5555555555555556,\"#d8576b\"],[0.6666666666666666,\"#ed7953\"],[0.7777777777777778,\"#fb9f3a\"],[0.8888888888888888,\"#fdca26\"],[1.0,\"#f0f921\"]]}],\"choropleth\":[{\"type\":\"choropleth\",\"colorbar\":{\"outlinewidth\":0,\"ticks\":\"\"}}],\"histogram2d\":[{\"type\":\"histogram2d\",\"colorbar\":{\"outlinewidth\":0,\"ticks\":\"\"},\"colorscale\":[[0.0,\"#0d0887\"],[0.1111111111111111,\"#46039f\"],[0.2222222222222222,\"#7201a8\"],[0.3333333333333333,\"#9c179e\"],[0.4444444444444444,\"#bd3786\"],[0.5555555555555556,\"#d8576b\"],[0.6666666666666666,\"#ed7953\"],[0.7777777777777778,\"#fb9f3a\"],[0.8888888888888888,\"#fdca26\"],[1.0,\"#f0f921\"]]}],\"heatmap\":[{\"type\":\"heatmap\",\"colorbar\":{\"outlinewidth\":0,\"ticks\":\"\"},\"colorscale\":[[0.0,\"#0d0887\"],[0.1111111111111111,\"#46039f\"],[0.2222222222222222,\"#7201a8\"],[0.3333333333333333,\"#9c179e\"],[0.4444444444444444,\"#bd3786\"],[0.5555555555555556,\"#d8576b\"],[0.6666666666666666,\"#ed7953\"],[0.7777777777777778,\"#fb9f3a\"],[0.8888888888888888,\"#fdca26\"],[1.0,\"#f0f921\"]]}],\"heatmapgl\":[{\"type\":\"heatmapgl\",\"colorbar\":{\"outlinewidth\":0,\"ticks\":\"\"},\"colorscale\":[[0.0,\"#0d0887\"],[0.1111111111111111,\"#46039f\"],[0.2222222222222222,\"#7201a8\"],[0.3333333333333333,\"#9c179e\"],[0.4444444444444444,\"#bd3786\"],[0.5555555555555556,\"#d8576b\"],[0.6666666666666666,\"#ed7953\"],[0.7777777777777778,\"#fb9f3a\"],[0.8888888888888888,\"#fdca26\"],[1.0,\"#f0f921\"]]}],\"contourcarpet\":[{\"type\":\"contourcarpet\",\"colorbar\":{\"outlinewidth\":0,\"ticks\":\"\"}}],\"contour\":[{\"type\":\"contour\",\"colorbar\":{\"outlinewidth\":0,\"ticks\":\"\"},\"colorscale\":[[0.0,\"#0d0887\"],[0.1111111111111111,\"#46039f\"],[0.2222222222222222,\"#7201a8\"],[0.3333333333333333,\"#9c179e\"],[0.4444444444444444,\"#bd3786\"],[0.5555555555555556,\"#d8576b\"],[0.6666666666666666,\"#ed7953\"],[0.7777777777777778,\"#fb9f3a\"],[0.8888888888888888,\"#fdca26\"],[1.0,\"#f0f921\"]]}],\"surface\":[{\"type\":\"surface\",\"colorbar\":{\"outlinewidth\":0,\"ticks\":\"\"},\"colorscale\":[[0.0,\"#0d0887\"],[0.1111111111111111,\"#46039f\"],[0.2222222222222222,\"#7201a8\"],[0.3333333333333333,\"#9c179e\"],[0.4444444444444444,\"#bd3786\"],[0.5555555555555556,\"#d8576b\"],[0.6666666666666666,\"#ed7953\"],[0.7777777777777778,\"#fb9f3a\"],[0.8888888888888888,\"#fdca26\"],[1.0,\"#f0f921\"]]}],\"mesh3d\":[{\"type\":\"mesh3d\",\"colorbar\":{\"outlinewidth\":0,\"ticks\":\"\"}}],\"scatter\":[{\"fillpattern\":{\"fillmode\":\"overlay\",\"size\":10,\"solidity\":0.2},\"type\":\"scatter\"}],\"parcoords\":[{\"type\":\"parcoords\",\"line\":{\"colorbar\":{\"outlinewidth\":0,\"ticks\":\"\"}}}],\"scatterpolargl\":[{\"type\":\"scatterpolargl\",\"marker\":{\"colorbar\":{\"outlinewidth\":0,\"ticks\":\"\"}}}],\"bar\":[{\"error_x\":{\"color\":\"#2a3f5f\"},\"error_y\":{\"color\":\"#2a3f5f\"},\"marker\":{\"line\":{\"color\":\"#E5ECF6\",\"width\":0.5},\"pattern\":{\"fillmode\":\"overlay\",\"size\":10,\"solidity\":0.2}},\"type\":\"bar\"}],\"scattergeo\":[{\"type\":\"scattergeo\",\"marker\":{\"colorbar\":{\"outlinewidth\":0,\"ticks\":\"\"}}}],\"scatterpolar\":[{\"type\":\"scatterpolar\",\"marker\":{\"colorbar\":{\"outlinewidth\":0,\"ticks\":\"\"}}}],\"histogram\":[{\"marker\":{\"pattern\":{\"fillmode\":\"overlay\",\"size\":10,\"solidity\":0.2}},\"type\":\"histogram\"}],\"scattergl\":[{\"type\":\"scattergl\",\"marker\":{\"colorbar\":{\"outlinewidth\":0,\"ticks\":\"\"}}}],\"scatter3d\":[{\"type\":\"scatter3d\",\"line\":{\"colorbar\":{\"outlinewidth\":0,\"ticks\":\"\"}},\"marker\":{\"colorbar\":{\"outlinewidth\":0,\"ticks\":\"\"}}}],\"scattermapbox\":[{\"type\":\"scattermapbox\",\"marker\":{\"colorbar\":{\"outlinewidth\":0,\"ticks\":\"\"}}}],\"scatterternary\":[{\"type\":\"scatterternary\",\"marker\":{\"colorbar\":{\"outlinewidth\":0,\"ticks\":\"\"}}}],\"scattercarpet\":[{\"type\":\"scattercarpet\",\"marker\":{\"colorbar\":{\"outlinewidth\":0,\"ticks\":\"\"}}}],\"carpet\":[{\"aaxis\":{\"endlinecolor\":\"#2a3f5f\",\"gridcolor\":\"white\",\"linecolor\":\"white\",\"minorgridcolor\":\"white\",\"startlinecolor\":\"#2a3f5f\"},\"baxis\":{\"endlinecolor\":\"#2a3f5f\",\"gridcolor\":\"white\",\"linecolor\":\"white\",\"minorgridcolor\":\"white\",\"startlinecolor\":\"#2a3f5f\"},\"type\":\"carpet\"}],\"table\":[{\"cells\":{\"fill\":{\"color\":\"#EBF0F8\"},\"line\":{\"color\":\"white\"}},\"header\":{\"fill\":{\"color\":\"#C8D4E3\"},\"line\":{\"color\":\"white\"}},\"type\":\"table\"}],\"barpolar\":[{\"marker\":{\"line\":{\"color\":\"#E5ECF6\",\"width\":0.5},\"pattern\":{\"fillmode\":\"overlay\",\"size\":10,\"solidity\":0.2}},\"type\":\"barpolar\"}],\"pie\":[{\"automargin\":true,\"type\":\"pie\"}]},\"layout\":{\"autotypenumbers\":\"strict\",\"colorway\":[\"#636efa\",\"#EF553B\",\"#00cc96\",\"#ab63fa\",\"#FFA15A\",\"#19d3f3\",\"#FF6692\",\"#B6E880\",\"#FF97FF\",\"#FECB52\"],\"font\":{\"color\":\"#2a3f5f\"},\"hovermode\":\"closest\",\"hoverlabel\":{\"align\":\"left\"},\"paper_bgcolor\":\"white\",\"plot_bgcolor\":\"#E5ECF6\",\"polar\":{\"bgcolor\":\"#E5ECF6\",\"angularaxis\":{\"gridcolor\":\"white\",\"linecolor\":\"white\",\"ticks\":\"\"},\"radialaxis\":{\"gridcolor\":\"white\",\"linecolor\":\"white\",\"ticks\":\"\"}},\"ternary\":{\"bgcolor\":\"#E5ECF6\",\"aaxis\":{\"gridcolor\":\"white\",\"linecolor\":\"white\",\"ticks\":\"\"},\"baxis\":{\"gridcolor\":\"white\",\"linecolor\":\"white\",\"ticks\":\"\"},\"caxis\":{\"gridcolor\":\"white\",\"linecolor\":\"white\",\"ticks\":\"\"}},\"coloraxis\":{\"colorbar\":{\"outlinewidth\":0,\"ticks\":\"\"}},\"colorscale\":{\"sequential\":[[0.0,\"#0d0887\"],[0.1111111111111111,\"#46039f\"],[0.2222222222222222,\"#7201a8\"],[0.3333333333333333,\"#9c179e\"],[0.4444444444444444,\"#bd3786\"],[0.5555555555555556,\"#d8576b\"],[0.6666666666666666,\"#ed7953\"],[0.7777777777777778,\"#fb9f3a\"],[0.8888888888888888,\"#fdca26\"],[1.0,\"#f0f921\"]],\"sequentialminus\":[[0.0,\"#0d0887\"],[0.1111111111111111,\"#46039f\"],[0.2222222222222222,\"#7201a8\"],[0.3333333333333333,\"#9c179e\"],[0.4444444444444444,\"#bd3786\"],[0.5555555555555556,\"#d8576b\"],[0.6666666666666666,\"#ed7953\"],[0.7777777777777778,\"#fb9f3a\"],[0.8888888888888888,\"#fdca26\"],[1.0,\"#f0f921\"]],\"diverging\":[[0,\"#8e0152\"],[0.1,\"#c51b7d\"],[0.2,\"#de77ae\"],[0.3,\"#f1b6da\"],[0.4,\"#fde0ef\"],[0.5,\"#f7f7f7\"],[0.6,\"#e6f5d0\"],[0.7,\"#b8e186\"],[0.8,\"#7fbc41\"],[0.9,\"#4d9221\"],[1,\"#276419\"]]},\"xaxis\":{\"gridcolor\":\"white\",\"linecolor\":\"white\",\"ticks\":\"\",\"title\":{\"standoff\":15},\"zerolinecolor\":\"white\",\"automargin\":true,\"zerolinewidth\":2},\"yaxis\":{\"gridcolor\":\"white\",\"linecolor\":\"white\",\"ticks\":\"\",\"title\":{\"standoff\":15},\"zerolinecolor\":\"white\",\"automargin\":true,\"zerolinewidth\":2},\"scene\":{\"xaxis\":{\"backgroundcolor\":\"#E5ECF6\",\"gridcolor\":\"white\",\"linecolor\":\"white\",\"showbackground\":true,\"ticks\":\"\",\"zerolinecolor\":\"white\",\"gridwidth\":2},\"yaxis\":{\"backgroundcolor\":\"#E5ECF6\",\"gridcolor\":\"white\",\"linecolor\":\"white\",\"showbackground\":true,\"ticks\":\"\",\"zerolinecolor\":\"white\",\"gridwidth\":2},\"zaxis\":{\"backgroundcolor\":\"#E5ECF6\",\"gridcolor\":\"white\",\"linecolor\":\"white\",\"showbackground\":true,\"ticks\":\"\",\"zerolinecolor\":\"white\",\"gridwidth\":2}},\"shapedefaults\":{\"line\":{\"color\":\"#2a3f5f\"}},\"annotationdefaults\":{\"arrowcolor\":\"#2a3f5f\",\"arrowhead\":0,\"arrowwidth\":1},\"geo\":{\"bgcolor\":\"white\",\"landcolor\":\"#E5ECF6\",\"subunitcolor\":\"white\",\"showland\":true,\"showlakes\":true,\"lakecolor\":\"white\"},\"title\":{\"x\":0.05},\"mapbox\":{\"style\":\"light\"}}},\"legend\":{\"tracegroupgap\":0},\"title\":{\"text\":\"Top Genres by total songs\"},\"piecolorway\":[\"rgb(103,0,31)\",\"rgb(178,24,43)\",\"rgb(214,96,77)\",\"rgb(244,165,130)\",\"rgb(253,219,199)\",\"rgb(247,247,247)\",\"rgb(209,229,240)\",\"rgb(146,197,222)\",\"rgb(67,147,195)\",\"rgb(33,102,172)\",\"rgb(5,48,97)\"]},                        {\"responsive\": true}                    ).then(function(){\n",
       "                            \n",
       "var gd = document.getElementById('805f4ee0-a0df-444b-8dcf-7cebb77c6c04');\n",
       "var x = new MutationObserver(function (mutations, observer) {{\n",
       "        var display = window.getComputedStyle(gd).display;\n",
       "        if (!display || display === 'none') {{\n",
       "            console.log([gd, 'removed!']);\n",
       "            Plotly.purge(gd);\n",
       "            observer.disconnect();\n",
       "        }}\n",
       "}});\n",
       "\n",
       "// Listen for the removal of the full notebook cells\n",
       "var notebookContainer = gd.closest('#notebook-container');\n",
       "if (notebookContainer) {{\n",
       "    x.observe(notebookContainer, {childList: true});\n",
       "}}\n",
       "\n",
       "// Listen for the clearing of the current output cell\n",
       "var outputEl = gd.closest('.output');\n",
       "if (outputEl) {{\n",
       "    x.observe(outputEl, {childList: true});\n",
       "}}\n",
       "\n",
       "                        })                };                });            </script>        </div>"
      ]
     },
     "metadata": {},
     "output_type": "display_data"
    }
   ],
   "source": [
    "# Taking track, Track_id, genre and store in a new dataframe called genre\n",
    "genre = df1[['Track', 'Track_id', 'Genres']]\n",
    "genre = genre.explode('Genres')\n",
    "genre['Genres'] = genre['Genres'].str.capitalize()\n",
    "genre = genre.groupby('Genres')['Track_id'].count()\n",
    "genre = genre.to_frame().reset_index()\n",
    "genre.sort_values('Track_id', ascending = False, inplace = True)\n",
    "genre = genre.head(10)\n",
    "#Building Visuals\n",
    "fig = px.pie(genre, values= 'Track_id', names = 'Genres', title = \"Top Genres by total songs\", color_discrete_sequence=px.colors.sequential.RdBu)\n",
    "fig.show()"
   ]
  },
  {
   "cell_type": "markdown",
   "id": "488ca38d",
   "metadata": {},
   "source": [
    "### Top 15 Artists by Followers"
   ]
  },
  {
   "cell_type": "code",
   "execution_count": 19,
   "id": "c2959c5d",
   "metadata": {},
   "outputs": [
    {
     "data": {
      "application/vnd.plotly.v1+json": {
       "config": {
        "plotlyServerURL": "https://plot.ly"
       },
       "data": [
        {
         "alignmentgroup": "True",
         "hovertemplate": "Artist=%{x}<br>Total Followers=%{y}<extra></extra>",
         "legendgroup": "",
         "marker": {
          "color": "#636efa",
          "pattern": {
           "shape": ""
          }
         },
         "name": "",
         "offsetgroup": "",
         "orientation": "v",
         "showlegend": false,
         "textposition": "auto",
         "type": "bar",
         "x": [
          "Daddy yankee",
          "Bruno mars",
          "Diljit dosanjh",
          "Darshan raval",
          "Jubin nautiyal",
          "Thaman s",
          "(g)i-dle",
          "Karan aujla",
          "Crush",
          "King",
          "Jassa dhillon",
          "Paradox",
          "Leon james",
          "Hesham abdul wahab",
          "Ananya bhat"
         ],
         "xaxis": "x",
         "y": [
          785144126,
          221668305,
          13547185,
          7941553,
          6996280,
          4996921,
          4325180,
          3299470,
          1054638,
          830215,
          540693,
          165953,
          162810,
          108973,
          71184
         ],
         "yaxis": "y"
        }
       ],
       "layout": {
        "barmode": "relative",
        "legend": {
         "tracegroupgap": 0
        },
        "template": {
         "data": {
          "bar": [
           {
            "error_x": {
             "color": "#2a3f5f"
            },
            "error_y": {
             "color": "#2a3f5f"
            },
            "marker": {
             "line": {
              "color": "#E5ECF6",
              "width": 0.5
             },
             "pattern": {
              "fillmode": "overlay",
              "size": 10,
              "solidity": 0.2
             }
            },
            "type": "bar"
           }
          ],
          "barpolar": [
           {
            "marker": {
             "line": {
              "color": "#E5ECF6",
              "width": 0.5
             },
             "pattern": {
              "fillmode": "overlay",
              "size": 10,
              "solidity": 0.2
             }
            },
            "type": "barpolar"
           }
          ],
          "carpet": [
           {
            "aaxis": {
             "endlinecolor": "#2a3f5f",
             "gridcolor": "white",
             "linecolor": "white",
             "minorgridcolor": "white",
             "startlinecolor": "#2a3f5f"
            },
            "baxis": {
             "endlinecolor": "#2a3f5f",
             "gridcolor": "white",
             "linecolor": "white",
             "minorgridcolor": "white",
             "startlinecolor": "#2a3f5f"
            },
            "type": "carpet"
           }
          ],
          "choropleth": [
           {
            "colorbar": {
             "outlinewidth": 0,
             "ticks": ""
            },
            "type": "choropleth"
           }
          ],
          "contour": [
           {
            "colorbar": {
             "outlinewidth": 0,
             "ticks": ""
            },
            "colorscale": [
             [
              0,
              "#0d0887"
             ],
             [
              0.1111111111111111,
              "#46039f"
             ],
             [
              0.2222222222222222,
              "#7201a8"
             ],
             [
              0.3333333333333333,
              "#9c179e"
             ],
             [
              0.4444444444444444,
              "#bd3786"
             ],
             [
              0.5555555555555556,
              "#d8576b"
             ],
             [
              0.6666666666666666,
              "#ed7953"
             ],
             [
              0.7777777777777778,
              "#fb9f3a"
             ],
             [
              0.8888888888888888,
              "#fdca26"
             ],
             [
              1,
              "#f0f921"
             ]
            ],
            "type": "contour"
           }
          ],
          "contourcarpet": [
           {
            "colorbar": {
             "outlinewidth": 0,
             "ticks": ""
            },
            "type": "contourcarpet"
           }
          ],
          "heatmap": [
           {
            "colorbar": {
             "outlinewidth": 0,
             "ticks": ""
            },
            "colorscale": [
             [
              0,
              "#0d0887"
             ],
             [
              0.1111111111111111,
              "#46039f"
             ],
             [
              0.2222222222222222,
              "#7201a8"
             ],
             [
              0.3333333333333333,
              "#9c179e"
             ],
             [
              0.4444444444444444,
              "#bd3786"
             ],
             [
              0.5555555555555556,
              "#d8576b"
             ],
             [
              0.6666666666666666,
              "#ed7953"
             ],
             [
              0.7777777777777778,
              "#fb9f3a"
             ],
             [
              0.8888888888888888,
              "#fdca26"
             ],
             [
              1,
              "#f0f921"
             ]
            ],
            "type": "heatmap"
           }
          ],
          "heatmapgl": [
           {
            "colorbar": {
             "outlinewidth": 0,
             "ticks": ""
            },
            "colorscale": [
             [
              0,
              "#0d0887"
             ],
             [
              0.1111111111111111,
              "#46039f"
             ],
             [
              0.2222222222222222,
              "#7201a8"
             ],
             [
              0.3333333333333333,
              "#9c179e"
             ],
             [
              0.4444444444444444,
              "#bd3786"
             ],
             [
              0.5555555555555556,
              "#d8576b"
             ],
             [
              0.6666666666666666,
              "#ed7953"
             ],
             [
              0.7777777777777778,
              "#fb9f3a"
             ],
             [
              0.8888888888888888,
              "#fdca26"
             ],
             [
              1,
              "#f0f921"
             ]
            ],
            "type": "heatmapgl"
           }
          ],
          "histogram": [
           {
            "marker": {
             "pattern": {
              "fillmode": "overlay",
              "size": 10,
              "solidity": 0.2
             }
            },
            "type": "histogram"
           }
          ],
          "histogram2d": [
           {
            "colorbar": {
             "outlinewidth": 0,
             "ticks": ""
            },
            "colorscale": [
             [
              0,
              "#0d0887"
             ],
             [
              0.1111111111111111,
              "#46039f"
             ],
             [
              0.2222222222222222,
              "#7201a8"
             ],
             [
              0.3333333333333333,
              "#9c179e"
             ],
             [
              0.4444444444444444,
              "#bd3786"
             ],
             [
              0.5555555555555556,
              "#d8576b"
             ],
             [
              0.6666666666666666,
              "#ed7953"
             ],
             [
              0.7777777777777778,
              "#fb9f3a"
             ],
             [
              0.8888888888888888,
              "#fdca26"
             ],
             [
              1,
              "#f0f921"
             ]
            ],
            "type": "histogram2d"
           }
          ],
          "histogram2dcontour": [
           {
            "colorbar": {
             "outlinewidth": 0,
             "ticks": ""
            },
            "colorscale": [
             [
              0,
              "#0d0887"
             ],
             [
              0.1111111111111111,
              "#46039f"
             ],
             [
              0.2222222222222222,
              "#7201a8"
             ],
             [
              0.3333333333333333,
              "#9c179e"
             ],
             [
              0.4444444444444444,
              "#bd3786"
             ],
             [
              0.5555555555555556,
              "#d8576b"
             ],
             [
              0.6666666666666666,
              "#ed7953"
             ],
             [
              0.7777777777777778,
              "#fb9f3a"
             ],
             [
              0.8888888888888888,
              "#fdca26"
             ],
             [
              1,
              "#f0f921"
             ]
            ],
            "type": "histogram2dcontour"
           }
          ],
          "mesh3d": [
           {
            "colorbar": {
             "outlinewidth": 0,
             "ticks": ""
            },
            "type": "mesh3d"
           }
          ],
          "parcoords": [
           {
            "line": {
             "colorbar": {
              "outlinewidth": 0,
              "ticks": ""
             }
            },
            "type": "parcoords"
           }
          ],
          "pie": [
           {
            "automargin": true,
            "type": "pie"
           }
          ],
          "scatter": [
           {
            "fillpattern": {
             "fillmode": "overlay",
             "size": 10,
             "solidity": 0.2
            },
            "type": "scatter"
           }
          ],
          "scatter3d": [
           {
            "line": {
             "colorbar": {
              "outlinewidth": 0,
              "ticks": ""
             }
            },
            "marker": {
             "colorbar": {
              "outlinewidth": 0,
              "ticks": ""
             }
            },
            "type": "scatter3d"
           }
          ],
          "scattercarpet": [
           {
            "marker": {
             "colorbar": {
              "outlinewidth": 0,
              "ticks": ""
             }
            },
            "type": "scattercarpet"
           }
          ],
          "scattergeo": [
           {
            "marker": {
             "colorbar": {
              "outlinewidth": 0,
              "ticks": ""
             }
            },
            "type": "scattergeo"
           }
          ],
          "scattergl": [
           {
            "marker": {
             "colorbar": {
              "outlinewidth": 0,
              "ticks": ""
             }
            },
            "type": "scattergl"
           }
          ],
          "scattermapbox": [
           {
            "marker": {
             "colorbar": {
              "outlinewidth": 0,
              "ticks": ""
             }
            },
            "type": "scattermapbox"
           }
          ],
          "scatterpolar": [
           {
            "marker": {
             "colorbar": {
              "outlinewidth": 0,
              "ticks": ""
             }
            },
            "type": "scatterpolar"
           }
          ],
          "scatterpolargl": [
           {
            "marker": {
             "colorbar": {
              "outlinewidth": 0,
              "ticks": ""
             }
            },
            "type": "scatterpolargl"
           }
          ],
          "scatterternary": [
           {
            "marker": {
             "colorbar": {
              "outlinewidth": 0,
              "ticks": ""
             }
            },
            "type": "scatterternary"
           }
          ],
          "surface": [
           {
            "colorbar": {
             "outlinewidth": 0,
             "ticks": ""
            },
            "colorscale": [
             [
              0,
              "#0d0887"
             ],
             [
              0.1111111111111111,
              "#46039f"
             ],
             [
              0.2222222222222222,
              "#7201a8"
             ],
             [
              0.3333333333333333,
              "#9c179e"
             ],
             [
              0.4444444444444444,
              "#bd3786"
             ],
             [
              0.5555555555555556,
              "#d8576b"
             ],
             [
              0.6666666666666666,
              "#ed7953"
             ],
             [
              0.7777777777777778,
              "#fb9f3a"
             ],
             [
              0.8888888888888888,
              "#fdca26"
             ],
             [
              1,
              "#f0f921"
             ]
            ],
            "type": "surface"
           }
          ],
          "table": [
           {
            "cells": {
             "fill": {
              "color": "#EBF0F8"
             },
             "line": {
              "color": "white"
             }
            },
            "header": {
             "fill": {
              "color": "#C8D4E3"
             },
             "line": {
              "color": "white"
             }
            },
            "type": "table"
           }
          ]
         },
         "layout": {
          "annotationdefaults": {
           "arrowcolor": "#2a3f5f",
           "arrowhead": 0,
           "arrowwidth": 1
          },
          "autotypenumbers": "strict",
          "coloraxis": {
           "colorbar": {
            "outlinewidth": 0,
            "ticks": ""
           }
          },
          "colorscale": {
           "diverging": [
            [
             0,
             "#8e0152"
            ],
            [
             0.1,
             "#c51b7d"
            ],
            [
             0.2,
             "#de77ae"
            ],
            [
             0.3,
             "#f1b6da"
            ],
            [
             0.4,
             "#fde0ef"
            ],
            [
             0.5,
             "#f7f7f7"
            ],
            [
             0.6,
             "#e6f5d0"
            ],
            [
             0.7,
             "#b8e186"
            ],
            [
             0.8,
             "#7fbc41"
            ],
            [
             0.9,
             "#4d9221"
            ],
            [
             1,
             "#276419"
            ]
           ],
           "sequential": [
            [
             0,
             "#0d0887"
            ],
            [
             0.1111111111111111,
             "#46039f"
            ],
            [
             0.2222222222222222,
             "#7201a8"
            ],
            [
             0.3333333333333333,
             "#9c179e"
            ],
            [
             0.4444444444444444,
             "#bd3786"
            ],
            [
             0.5555555555555556,
             "#d8576b"
            ],
            [
             0.6666666666666666,
             "#ed7953"
            ],
            [
             0.7777777777777778,
             "#fb9f3a"
            ],
            [
             0.8888888888888888,
             "#fdca26"
            ],
            [
             1,
             "#f0f921"
            ]
           ],
           "sequentialminus": [
            [
             0,
             "#0d0887"
            ],
            [
             0.1111111111111111,
             "#46039f"
            ],
            [
             0.2222222222222222,
             "#7201a8"
            ],
            [
             0.3333333333333333,
             "#9c179e"
            ],
            [
             0.4444444444444444,
             "#bd3786"
            ],
            [
             0.5555555555555556,
             "#d8576b"
            ],
            [
             0.6666666666666666,
             "#ed7953"
            ],
            [
             0.7777777777777778,
             "#fb9f3a"
            ],
            [
             0.8888888888888888,
             "#fdca26"
            ],
            [
             1,
             "#f0f921"
            ]
           ]
          },
          "colorway": [
           "#636efa",
           "#EF553B",
           "#00cc96",
           "#ab63fa",
           "#FFA15A",
           "#19d3f3",
           "#FF6692",
           "#B6E880",
           "#FF97FF",
           "#FECB52"
          ],
          "font": {
           "color": "#2a3f5f"
          },
          "geo": {
           "bgcolor": "white",
           "lakecolor": "white",
           "landcolor": "#E5ECF6",
           "showlakes": true,
           "showland": true,
           "subunitcolor": "white"
          },
          "hoverlabel": {
           "align": "left"
          },
          "hovermode": "closest",
          "mapbox": {
           "style": "light"
          },
          "paper_bgcolor": "white",
          "plot_bgcolor": "#E5ECF6",
          "polar": {
           "angularaxis": {
            "gridcolor": "white",
            "linecolor": "white",
            "ticks": ""
           },
           "bgcolor": "#E5ECF6",
           "radialaxis": {
            "gridcolor": "white",
            "linecolor": "white",
            "ticks": ""
           }
          },
          "scene": {
           "xaxis": {
            "backgroundcolor": "#E5ECF6",
            "gridcolor": "white",
            "gridwidth": 2,
            "linecolor": "white",
            "showbackground": true,
            "ticks": "",
            "zerolinecolor": "white"
           },
           "yaxis": {
            "backgroundcolor": "#E5ECF6",
            "gridcolor": "white",
            "gridwidth": 2,
            "linecolor": "white",
            "showbackground": true,
            "ticks": "",
            "zerolinecolor": "white"
           },
           "zaxis": {
            "backgroundcolor": "#E5ECF6",
            "gridcolor": "white",
            "gridwidth": 2,
            "linecolor": "white",
            "showbackground": true,
            "ticks": "",
            "zerolinecolor": "white"
           }
          },
          "shapedefaults": {
           "line": {
            "color": "#2a3f5f"
           }
          },
          "ternary": {
           "aaxis": {
            "gridcolor": "white",
            "linecolor": "white",
            "ticks": ""
           },
           "baxis": {
            "gridcolor": "white",
            "linecolor": "white",
            "ticks": ""
           },
           "bgcolor": "#E5ECF6",
           "caxis": {
            "gridcolor": "white",
            "linecolor": "white",
            "ticks": ""
           }
          },
          "title": {
           "x": 0.05
          },
          "xaxis": {
           "automargin": true,
           "gridcolor": "white",
           "linecolor": "white",
           "ticks": "",
           "title": {
            "standoff": 15
           },
           "zerolinecolor": "white",
           "zerolinewidth": 2
          },
          "yaxis": {
           "automargin": true,
           "gridcolor": "white",
           "linecolor": "white",
           "ticks": "",
           "title": {
            "standoff": 15
           },
           "zerolinecolor": "white",
           "zerolinewidth": 2
          }
         }
        },
        "title": {
         "text": "Top 15 Artist by Followers"
        },
        "xaxis": {
         "anchor": "y",
         "domain": [
          0,
          1
         ],
         "title": {
          "text": "Artist"
         }
        },
        "yaxis": {
         "anchor": "x",
         "domain": [
          0,
          1
         ],
         "title": {
          "text": "Total Followers"
         }
        }
       }
      },
      "text/html": [
       "<div>                            <div id=\"1134fab7-df44-4be3-b9bf-14674b190feb\" class=\"plotly-graph-div\" style=\"height:525px; width:100%;\"></div>            <script type=\"text/javascript\">                require([\"plotly\"], function(Plotly) {                    window.PLOTLYENV=window.PLOTLYENV || {};                                    if (document.getElementById(\"1134fab7-df44-4be3-b9bf-14674b190feb\")) {                    Plotly.newPlot(                        \"1134fab7-df44-4be3-b9bf-14674b190feb\",                        [{\"alignmentgroup\":\"True\",\"hovertemplate\":\"Artist=%{x}<br>Total Followers=%{y}<extra></extra>\",\"legendgroup\":\"\",\"marker\":{\"color\":\"#636efa\",\"pattern\":{\"shape\":\"\"}},\"name\":\"\",\"offsetgroup\":\"\",\"orientation\":\"v\",\"showlegend\":false,\"textposition\":\"auto\",\"x\":[\"Daddy yankee\",\"Bruno mars\",\"Diljit dosanjh\",\"Darshan raval\",\"Jubin nautiyal\",\"Thaman s\",\"(g)i-dle\",\"Karan aujla\",\"Crush\",\"King\",\"Jassa dhillon\",\"Paradox\",\"Leon james\",\"Hesham abdul wahab\",\"Ananya bhat\"],\"xaxis\":\"x\",\"y\":[785144126,221668305,13547185,7941553,6996280,4996921,4325180,3299470,1054638,830215,540693,165953,162810,108973,71184],\"yaxis\":\"y\",\"type\":\"bar\"}],                        {\"template\":{\"data\":{\"histogram2dcontour\":[{\"type\":\"histogram2dcontour\",\"colorbar\":{\"outlinewidth\":0,\"ticks\":\"\"},\"colorscale\":[[0.0,\"#0d0887\"],[0.1111111111111111,\"#46039f\"],[0.2222222222222222,\"#7201a8\"],[0.3333333333333333,\"#9c179e\"],[0.4444444444444444,\"#bd3786\"],[0.5555555555555556,\"#d8576b\"],[0.6666666666666666,\"#ed7953\"],[0.7777777777777778,\"#fb9f3a\"],[0.8888888888888888,\"#fdca26\"],[1.0,\"#f0f921\"]]}],\"choropleth\":[{\"type\":\"choropleth\",\"colorbar\":{\"outlinewidth\":0,\"ticks\":\"\"}}],\"histogram2d\":[{\"type\":\"histogram2d\",\"colorbar\":{\"outlinewidth\":0,\"ticks\":\"\"},\"colorscale\":[[0.0,\"#0d0887\"],[0.1111111111111111,\"#46039f\"],[0.2222222222222222,\"#7201a8\"],[0.3333333333333333,\"#9c179e\"],[0.4444444444444444,\"#bd3786\"],[0.5555555555555556,\"#d8576b\"],[0.6666666666666666,\"#ed7953\"],[0.7777777777777778,\"#fb9f3a\"],[0.8888888888888888,\"#fdca26\"],[1.0,\"#f0f921\"]]}],\"heatmap\":[{\"type\":\"heatmap\",\"colorbar\":{\"outlinewidth\":0,\"ticks\":\"\"},\"colorscale\":[[0.0,\"#0d0887\"],[0.1111111111111111,\"#46039f\"],[0.2222222222222222,\"#7201a8\"],[0.3333333333333333,\"#9c179e\"],[0.4444444444444444,\"#bd3786\"],[0.5555555555555556,\"#d8576b\"],[0.6666666666666666,\"#ed7953\"],[0.7777777777777778,\"#fb9f3a\"],[0.8888888888888888,\"#fdca26\"],[1.0,\"#f0f921\"]]}],\"heatmapgl\":[{\"type\":\"heatmapgl\",\"colorbar\":{\"outlinewidth\":0,\"ticks\":\"\"},\"colorscale\":[[0.0,\"#0d0887\"],[0.1111111111111111,\"#46039f\"],[0.2222222222222222,\"#7201a8\"],[0.3333333333333333,\"#9c179e\"],[0.4444444444444444,\"#bd3786\"],[0.5555555555555556,\"#d8576b\"],[0.6666666666666666,\"#ed7953\"],[0.7777777777777778,\"#fb9f3a\"],[0.8888888888888888,\"#fdca26\"],[1.0,\"#f0f921\"]]}],\"contourcarpet\":[{\"type\":\"contourcarpet\",\"colorbar\":{\"outlinewidth\":0,\"ticks\":\"\"}}],\"contour\":[{\"type\":\"contour\",\"colorbar\":{\"outlinewidth\":0,\"ticks\":\"\"},\"colorscale\":[[0.0,\"#0d0887\"],[0.1111111111111111,\"#46039f\"],[0.2222222222222222,\"#7201a8\"],[0.3333333333333333,\"#9c179e\"],[0.4444444444444444,\"#bd3786\"],[0.5555555555555556,\"#d8576b\"],[0.6666666666666666,\"#ed7953\"],[0.7777777777777778,\"#fb9f3a\"],[0.8888888888888888,\"#fdca26\"],[1.0,\"#f0f921\"]]}],\"surface\":[{\"type\":\"surface\",\"colorbar\":{\"outlinewidth\":0,\"ticks\":\"\"},\"colorscale\":[[0.0,\"#0d0887\"],[0.1111111111111111,\"#46039f\"],[0.2222222222222222,\"#7201a8\"],[0.3333333333333333,\"#9c179e\"],[0.4444444444444444,\"#bd3786\"],[0.5555555555555556,\"#d8576b\"],[0.6666666666666666,\"#ed7953\"],[0.7777777777777778,\"#fb9f3a\"],[0.8888888888888888,\"#fdca26\"],[1.0,\"#f0f921\"]]}],\"mesh3d\":[{\"type\":\"mesh3d\",\"colorbar\":{\"outlinewidth\":0,\"ticks\":\"\"}}],\"scatter\":[{\"fillpattern\":{\"fillmode\":\"overlay\",\"size\":10,\"solidity\":0.2},\"type\":\"scatter\"}],\"parcoords\":[{\"type\":\"parcoords\",\"line\":{\"colorbar\":{\"outlinewidth\":0,\"ticks\":\"\"}}}],\"scatterpolargl\":[{\"type\":\"scatterpolargl\",\"marker\":{\"colorbar\":{\"outlinewidth\":0,\"ticks\":\"\"}}}],\"bar\":[{\"error_x\":{\"color\":\"#2a3f5f\"},\"error_y\":{\"color\":\"#2a3f5f\"},\"marker\":{\"line\":{\"color\":\"#E5ECF6\",\"width\":0.5},\"pattern\":{\"fillmode\":\"overlay\",\"size\":10,\"solidity\":0.2}},\"type\":\"bar\"}],\"scattergeo\":[{\"type\":\"scattergeo\",\"marker\":{\"colorbar\":{\"outlinewidth\":0,\"ticks\":\"\"}}}],\"scatterpolar\":[{\"type\":\"scatterpolar\",\"marker\":{\"colorbar\":{\"outlinewidth\":0,\"ticks\":\"\"}}}],\"histogram\":[{\"marker\":{\"pattern\":{\"fillmode\":\"overlay\",\"size\":10,\"solidity\":0.2}},\"type\":\"histogram\"}],\"scattergl\":[{\"type\":\"scattergl\",\"marker\":{\"colorbar\":{\"outlinewidth\":0,\"ticks\":\"\"}}}],\"scatter3d\":[{\"type\":\"scatter3d\",\"line\":{\"colorbar\":{\"outlinewidth\":0,\"ticks\":\"\"}},\"marker\":{\"colorbar\":{\"outlinewidth\":0,\"ticks\":\"\"}}}],\"scattermapbox\":[{\"type\":\"scattermapbox\",\"marker\":{\"colorbar\":{\"outlinewidth\":0,\"ticks\":\"\"}}}],\"scatterternary\":[{\"type\":\"scatterternary\",\"marker\":{\"colorbar\":{\"outlinewidth\":0,\"ticks\":\"\"}}}],\"scattercarpet\":[{\"type\":\"scattercarpet\",\"marker\":{\"colorbar\":{\"outlinewidth\":0,\"ticks\":\"\"}}}],\"carpet\":[{\"aaxis\":{\"endlinecolor\":\"#2a3f5f\",\"gridcolor\":\"white\",\"linecolor\":\"white\",\"minorgridcolor\":\"white\",\"startlinecolor\":\"#2a3f5f\"},\"baxis\":{\"endlinecolor\":\"#2a3f5f\",\"gridcolor\":\"white\",\"linecolor\":\"white\",\"minorgridcolor\":\"white\",\"startlinecolor\":\"#2a3f5f\"},\"type\":\"carpet\"}],\"table\":[{\"cells\":{\"fill\":{\"color\":\"#EBF0F8\"},\"line\":{\"color\":\"white\"}},\"header\":{\"fill\":{\"color\":\"#C8D4E3\"},\"line\":{\"color\":\"white\"}},\"type\":\"table\"}],\"barpolar\":[{\"marker\":{\"line\":{\"color\":\"#E5ECF6\",\"width\":0.5},\"pattern\":{\"fillmode\":\"overlay\",\"size\":10,\"solidity\":0.2}},\"type\":\"barpolar\"}],\"pie\":[{\"automargin\":true,\"type\":\"pie\"}]},\"layout\":{\"autotypenumbers\":\"strict\",\"colorway\":[\"#636efa\",\"#EF553B\",\"#00cc96\",\"#ab63fa\",\"#FFA15A\",\"#19d3f3\",\"#FF6692\",\"#B6E880\",\"#FF97FF\",\"#FECB52\"],\"font\":{\"color\":\"#2a3f5f\"},\"hovermode\":\"closest\",\"hoverlabel\":{\"align\":\"left\"},\"paper_bgcolor\":\"white\",\"plot_bgcolor\":\"#E5ECF6\",\"polar\":{\"bgcolor\":\"#E5ECF6\",\"angularaxis\":{\"gridcolor\":\"white\",\"linecolor\":\"white\",\"ticks\":\"\"},\"radialaxis\":{\"gridcolor\":\"white\",\"linecolor\":\"white\",\"ticks\":\"\"}},\"ternary\":{\"bgcolor\":\"#E5ECF6\",\"aaxis\":{\"gridcolor\":\"white\",\"linecolor\":\"white\",\"ticks\":\"\"},\"baxis\":{\"gridcolor\":\"white\",\"linecolor\":\"white\",\"ticks\":\"\"},\"caxis\":{\"gridcolor\":\"white\",\"linecolor\":\"white\",\"ticks\":\"\"}},\"coloraxis\":{\"colorbar\":{\"outlinewidth\":0,\"ticks\":\"\"}},\"colorscale\":{\"sequential\":[[0.0,\"#0d0887\"],[0.1111111111111111,\"#46039f\"],[0.2222222222222222,\"#7201a8\"],[0.3333333333333333,\"#9c179e\"],[0.4444444444444444,\"#bd3786\"],[0.5555555555555556,\"#d8576b\"],[0.6666666666666666,\"#ed7953\"],[0.7777777777777778,\"#fb9f3a\"],[0.8888888888888888,\"#fdca26\"],[1.0,\"#f0f921\"]],\"sequentialminus\":[[0.0,\"#0d0887\"],[0.1111111111111111,\"#46039f\"],[0.2222222222222222,\"#7201a8\"],[0.3333333333333333,\"#9c179e\"],[0.4444444444444444,\"#bd3786\"],[0.5555555555555556,\"#d8576b\"],[0.6666666666666666,\"#ed7953\"],[0.7777777777777778,\"#fb9f3a\"],[0.8888888888888888,\"#fdca26\"],[1.0,\"#f0f921\"]],\"diverging\":[[0,\"#8e0152\"],[0.1,\"#c51b7d\"],[0.2,\"#de77ae\"],[0.3,\"#f1b6da\"],[0.4,\"#fde0ef\"],[0.5,\"#f7f7f7\"],[0.6,\"#e6f5d0\"],[0.7,\"#b8e186\"],[0.8,\"#7fbc41\"],[0.9,\"#4d9221\"],[1,\"#276419\"]]},\"xaxis\":{\"gridcolor\":\"white\",\"linecolor\":\"white\",\"ticks\":\"\",\"title\":{\"standoff\":15},\"zerolinecolor\":\"white\",\"automargin\":true,\"zerolinewidth\":2},\"yaxis\":{\"gridcolor\":\"white\",\"linecolor\":\"white\",\"ticks\":\"\",\"title\":{\"standoff\":15},\"zerolinecolor\":\"white\",\"automargin\":true,\"zerolinewidth\":2},\"scene\":{\"xaxis\":{\"backgroundcolor\":\"#E5ECF6\",\"gridcolor\":\"white\",\"linecolor\":\"white\",\"showbackground\":true,\"ticks\":\"\",\"zerolinecolor\":\"white\",\"gridwidth\":2},\"yaxis\":{\"backgroundcolor\":\"#E5ECF6\",\"gridcolor\":\"white\",\"linecolor\":\"white\",\"showbackground\":true,\"ticks\":\"\",\"zerolinecolor\":\"white\",\"gridwidth\":2},\"zaxis\":{\"backgroundcolor\":\"#E5ECF6\",\"gridcolor\":\"white\",\"linecolor\":\"white\",\"showbackground\":true,\"ticks\":\"\",\"zerolinecolor\":\"white\",\"gridwidth\":2}},\"shapedefaults\":{\"line\":{\"color\":\"#2a3f5f\"}},\"annotationdefaults\":{\"arrowcolor\":\"#2a3f5f\",\"arrowhead\":0,\"arrowwidth\":1},\"geo\":{\"bgcolor\":\"white\",\"landcolor\":\"#E5ECF6\",\"subunitcolor\":\"white\",\"showland\":true,\"showlakes\":true,\"lakecolor\":\"white\"},\"title\":{\"x\":0.05},\"mapbox\":{\"style\":\"light\"}}},\"xaxis\":{\"anchor\":\"y\",\"domain\":[0.0,1.0],\"title\":{\"text\":\"Artist\"}},\"yaxis\":{\"anchor\":\"x\",\"domain\":[0.0,1.0],\"title\":{\"text\":\"Total Followers\"}},\"legend\":{\"tracegroupgap\":0},\"title\":{\"text\":\"Top 15 Artist by Followers\"},\"barmode\":\"relative\"},                        {\"responsive\": true}                    ).then(function(){\n",
       "                            \n",
       "var gd = document.getElementById('1134fab7-df44-4be3-b9bf-14674b190feb');\n",
       "var x = new MutationObserver(function (mutations, observer) {{\n",
       "        var display = window.getComputedStyle(gd).display;\n",
       "        if (!display || display === 'none') {{\n",
       "            console.log([gd, 'removed!']);\n",
       "            Plotly.purge(gd);\n",
       "            observer.disconnect();\n",
       "        }}\n",
       "}});\n",
       "\n",
       "// Listen for the removal of the full notebook cells\n",
       "var notebookContainer = gd.closest('#notebook-container');\n",
       "if (notebookContainer) {{\n",
       "    x.observe(notebookContainer, {childList: true});\n",
       "}}\n",
       "\n",
       "// Listen for the clearing of the current output cell\n",
       "var outputEl = gd.closest('.output');\n",
       "if (outputEl) {{\n",
       "    x.observe(outputEl, {childList: true});\n",
       "}}\n",
       "\n",
       "                        })                };                });            </script>        </div>"
      ]
     },
     "metadata": {},
     "output_type": "display_data"
    }
   ],
   "source": [
    "# Grouping the artist and finding top 15 by followers\n",
    "followers = df1[['Artist', 'Followers']].groupby('Artist').sum().sort_values('Followers', ascending = False).head(15).reset_index()\n",
    "#Building visuals\n",
    "fig = px.bar(followers, y = \"Followers\", x = 'Artist', orientation = 'v', title = \"Top 15 Artist by Followers\",labels={\"Artist\": \"Artist\",\"Followers\": \"Total Followers\"})\n",
    "fig.show()"
   ]
  },
  {
   "cell_type": "markdown",
   "id": "d0b24a7e",
   "metadata": {},
   "source": [
    "### Which song is the best to dance to?"
   ]
  },
  {
   "cell_type": "code",
   "execution_count": 20,
   "id": "f0231402",
   "metadata": {},
   "outputs": [
    {
     "data": {
      "application/vnd.plotly.v1+json": {
       "config": {
        "plotlyServerURL": "https://plot.ly"
       },
       "data": [
        {
         "alignmentgroup": "True",
         "hovertemplate": "Track=%{x}<br>Danceability=%{y}<extra></extra>",
         "legendgroup": "",
         "marker": {
          "color": "#636efa",
          "pattern": {
           "shape": ""
          }
         },
         "name": "",
         "offsetgroup": "",
         "orientation": "v",
         "showlegend": false,
         "textposition": "auto",
         "type": "bar",
         "x": [
          "Shaky shaky",
          "Game over",
          "Machucando",
          "Bombón",
          "Na ja tu",
          "X última vez",
          "Definitivamente",
          "Limbo",
          "Hula hoop",
          "Ven conmigo",
          "Shadow",
          "Sábado rebelde",
          "Vaivén",
          "Dhol bajaa",
          "Meethi meethi"
         ],
         "xaxis": "x",
         "y": [
          0.899,
          0.846,
          0.846,
          0.843,
          0.815,
          0.8119999999999999,
          0.8119999999999999,
          0.805,
          0.799,
          0.78,
          0.779,
          0.771,
          0.768,
          0.766,
          0.766
         ],
         "yaxis": "y"
        }
       ],
       "layout": {
        "barmode": "relative",
        "legend": {
         "tracegroupgap": 0
        },
        "template": {
         "data": {
          "bar": [
           {
            "error_x": {
             "color": "#2a3f5f"
            },
            "error_y": {
             "color": "#2a3f5f"
            },
            "marker": {
             "line": {
              "color": "#E5ECF6",
              "width": 0.5
             },
             "pattern": {
              "fillmode": "overlay",
              "size": 10,
              "solidity": 0.2
             }
            },
            "type": "bar"
           }
          ],
          "barpolar": [
           {
            "marker": {
             "line": {
              "color": "#E5ECF6",
              "width": 0.5
             },
             "pattern": {
              "fillmode": "overlay",
              "size": 10,
              "solidity": 0.2
             }
            },
            "type": "barpolar"
           }
          ],
          "carpet": [
           {
            "aaxis": {
             "endlinecolor": "#2a3f5f",
             "gridcolor": "white",
             "linecolor": "white",
             "minorgridcolor": "white",
             "startlinecolor": "#2a3f5f"
            },
            "baxis": {
             "endlinecolor": "#2a3f5f",
             "gridcolor": "white",
             "linecolor": "white",
             "minorgridcolor": "white",
             "startlinecolor": "#2a3f5f"
            },
            "type": "carpet"
           }
          ],
          "choropleth": [
           {
            "colorbar": {
             "outlinewidth": 0,
             "ticks": ""
            },
            "type": "choropleth"
           }
          ],
          "contour": [
           {
            "colorbar": {
             "outlinewidth": 0,
             "ticks": ""
            },
            "colorscale": [
             [
              0,
              "#0d0887"
             ],
             [
              0.1111111111111111,
              "#46039f"
             ],
             [
              0.2222222222222222,
              "#7201a8"
             ],
             [
              0.3333333333333333,
              "#9c179e"
             ],
             [
              0.4444444444444444,
              "#bd3786"
             ],
             [
              0.5555555555555556,
              "#d8576b"
             ],
             [
              0.6666666666666666,
              "#ed7953"
             ],
             [
              0.7777777777777778,
              "#fb9f3a"
             ],
             [
              0.8888888888888888,
              "#fdca26"
             ],
             [
              1,
              "#f0f921"
             ]
            ],
            "type": "contour"
           }
          ],
          "contourcarpet": [
           {
            "colorbar": {
             "outlinewidth": 0,
             "ticks": ""
            },
            "type": "contourcarpet"
           }
          ],
          "heatmap": [
           {
            "colorbar": {
             "outlinewidth": 0,
             "ticks": ""
            },
            "colorscale": [
             [
              0,
              "#0d0887"
             ],
             [
              0.1111111111111111,
              "#46039f"
             ],
             [
              0.2222222222222222,
              "#7201a8"
             ],
             [
              0.3333333333333333,
              "#9c179e"
             ],
             [
              0.4444444444444444,
              "#bd3786"
             ],
             [
              0.5555555555555556,
              "#d8576b"
             ],
             [
              0.6666666666666666,
              "#ed7953"
             ],
             [
              0.7777777777777778,
              "#fb9f3a"
             ],
             [
              0.8888888888888888,
              "#fdca26"
             ],
             [
              1,
              "#f0f921"
             ]
            ],
            "type": "heatmap"
           }
          ],
          "heatmapgl": [
           {
            "colorbar": {
             "outlinewidth": 0,
             "ticks": ""
            },
            "colorscale": [
             [
              0,
              "#0d0887"
             ],
             [
              0.1111111111111111,
              "#46039f"
             ],
             [
              0.2222222222222222,
              "#7201a8"
             ],
             [
              0.3333333333333333,
              "#9c179e"
             ],
             [
              0.4444444444444444,
              "#bd3786"
             ],
             [
              0.5555555555555556,
              "#d8576b"
             ],
             [
              0.6666666666666666,
              "#ed7953"
             ],
             [
              0.7777777777777778,
              "#fb9f3a"
             ],
             [
              0.8888888888888888,
              "#fdca26"
             ],
             [
              1,
              "#f0f921"
             ]
            ],
            "type": "heatmapgl"
           }
          ],
          "histogram": [
           {
            "marker": {
             "pattern": {
              "fillmode": "overlay",
              "size": 10,
              "solidity": 0.2
             }
            },
            "type": "histogram"
           }
          ],
          "histogram2d": [
           {
            "colorbar": {
             "outlinewidth": 0,
             "ticks": ""
            },
            "colorscale": [
             [
              0,
              "#0d0887"
             ],
             [
              0.1111111111111111,
              "#46039f"
             ],
             [
              0.2222222222222222,
              "#7201a8"
             ],
             [
              0.3333333333333333,
              "#9c179e"
             ],
             [
              0.4444444444444444,
              "#bd3786"
             ],
             [
              0.5555555555555556,
              "#d8576b"
             ],
             [
              0.6666666666666666,
              "#ed7953"
             ],
             [
              0.7777777777777778,
              "#fb9f3a"
             ],
             [
              0.8888888888888888,
              "#fdca26"
             ],
             [
              1,
              "#f0f921"
             ]
            ],
            "type": "histogram2d"
           }
          ],
          "histogram2dcontour": [
           {
            "colorbar": {
             "outlinewidth": 0,
             "ticks": ""
            },
            "colorscale": [
             [
              0,
              "#0d0887"
             ],
             [
              0.1111111111111111,
              "#46039f"
             ],
             [
              0.2222222222222222,
              "#7201a8"
             ],
             [
              0.3333333333333333,
              "#9c179e"
             ],
             [
              0.4444444444444444,
              "#bd3786"
             ],
             [
              0.5555555555555556,
              "#d8576b"
             ],
             [
              0.6666666666666666,
              "#ed7953"
             ],
             [
              0.7777777777777778,
              "#fb9f3a"
             ],
             [
              0.8888888888888888,
              "#fdca26"
             ],
             [
              1,
              "#f0f921"
             ]
            ],
            "type": "histogram2dcontour"
           }
          ],
          "mesh3d": [
           {
            "colorbar": {
             "outlinewidth": 0,
             "ticks": ""
            },
            "type": "mesh3d"
           }
          ],
          "parcoords": [
           {
            "line": {
             "colorbar": {
              "outlinewidth": 0,
              "ticks": ""
             }
            },
            "type": "parcoords"
           }
          ],
          "pie": [
           {
            "automargin": true,
            "type": "pie"
           }
          ],
          "scatter": [
           {
            "fillpattern": {
             "fillmode": "overlay",
             "size": 10,
             "solidity": 0.2
            },
            "type": "scatter"
           }
          ],
          "scatter3d": [
           {
            "line": {
             "colorbar": {
              "outlinewidth": 0,
              "ticks": ""
             }
            },
            "marker": {
             "colorbar": {
              "outlinewidth": 0,
              "ticks": ""
             }
            },
            "type": "scatter3d"
           }
          ],
          "scattercarpet": [
           {
            "marker": {
             "colorbar": {
              "outlinewidth": 0,
              "ticks": ""
             }
            },
            "type": "scattercarpet"
           }
          ],
          "scattergeo": [
           {
            "marker": {
             "colorbar": {
              "outlinewidth": 0,
              "ticks": ""
             }
            },
            "type": "scattergeo"
           }
          ],
          "scattergl": [
           {
            "marker": {
             "colorbar": {
              "outlinewidth": 0,
              "ticks": ""
             }
            },
            "type": "scattergl"
           }
          ],
          "scattermapbox": [
           {
            "marker": {
             "colorbar": {
              "outlinewidth": 0,
              "ticks": ""
             }
            },
            "type": "scattermapbox"
           }
          ],
          "scatterpolar": [
           {
            "marker": {
             "colorbar": {
              "outlinewidth": 0,
              "ticks": ""
             }
            },
            "type": "scatterpolar"
           }
          ],
          "scatterpolargl": [
           {
            "marker": {
             "colorbar": {
              "outlinewidth": 0,
              "ticks": ""
             }
            },
            "type": "scatterpolargl"
           }
          ],
          "scatterternary": [
           {
            "marker": {
             "colorbar": {
              "outlinewidth": 0,
              "ticks": ""
             }
            },
            "type": "scatterternary"
           }
          ],
          "surface": [
           {
            "colorbar": {
             "outlinewidth": 0,
             "ticks": ""
            },
            "colorscale": [
             [
              0,
              "#0d0887"
             ],
             [
              0.1111111111111111,
              "#46039f"
             ],
             [
              0.2222222222222222,
              "#7201a8"
             ],
             [
              0.3333333333333333,
              "#9c179e"
             ],
             [
              0.4444444444444444,
              "#bd3786"
             ],
             [
              0.5555555555555556,
              "#d8576b"
             ],
             [
              0.6666666666666666,
              "#ed7953"
             ],
             [
              0.7777777777777778,
              "#fb9f3a"
             ],
             [
              0.8888888888888888,
              "#fdca26"
             ],
             [
              1,
              "#f0f921"
             ]
            ],
            "type": "surface"
           }
          ],
          "table": [
           {
            "cells": {
             "fill": {
              "color": "#EBF0F8"
             },
             "line": {
              "color": "white"
             }
            },
            "header": {
             "fill": {
              "color": "#C8D4E3"
             },
             "line": {
              "color": "white"
             }
            },
            "type": "table"
           }
          ]
         },
         "layout": {
          "annotationdefaults": {
           "arrowcolor": "#2a3f5f",
           "arrowhead": 0,
           "arrowwidth": 1
          },
          "autotypenumbers": "strict",
          "coloraxis": {
           "colorbar": {
            "outlinewidth": 0,
            "ticks": ""
           }
          },
          "colorscale": {
           "diverging": [
            [
             0,
             "#8e0152"
            ],
            [
             0.1,
             "#c51b7d"
            ],
            [
             0.2,
             "#de77ae"
            ],
            [
             0.3,
             "#f1b6da"
            ],
            [
             0.4,
             "#fde0ef"
            ],
            [
             0.5,
             "#f7f7f7"
            ],
            [
             0.6,
             "#e6f5d0"
            ],
            [
             0.7,
             "#b8e186"
            ],
            [
             0.8,
             "#7fbc41"
            ],
            [
             0.9,
             "#4d9221"
            ],
            [
             1,
             "#276419"
            ]
           ],
           "sequential": [
            [
             0,
             "#0d0887"
            ],
            [
             0.1111111111111111,
             "#46039f"
            ],
            [
             0.2222222222222222,
             "#7201a8"
            ],
            [
             0.3333333333333333,
             "#9c179e"
            ],
            [
             0.4444444444444444,
             "#bd3786"
            ],
            [
             0.5555555555555556,
             "#d8576b"
            ],
            [
             0.6666666666666666,
             "#ed7953"
            ],
            [
             0.7777777777777778,
             "#fb9f3a"
            ],
            [
             0.8888888888888888,
             "#fdca26"
            ],
            [
             1,
             "#f0f921"
            ]
           ],
           "sequentialminus": [
            [
             0,
             "#0d0887"
            ],
            [
             0.1111111111111111,
             "#46039f"
            ],
            [
             0.2222222222222222,
             "#7201a8"
            ],
            [
             0.3333333333333333,
             "#9c179e"
            ],
            [
             0.4444444444444444,
             "#bd3786"
            ],
            [
             0.5555555555555556,
             "#d8576b"
            ],
            [
             0.6666666666666666,
             "#ed7953"
            ],
            [
             0.7777777777777778,
             "#fb9f3a"
            ],
            [
             0.8888888888888888,
             "#fdca26"
            ],
            [
             1,
             "#f0f921"
            ]
           ]
          },
          "colorway": [
           "#636efa",
           "#EF553B",
           "#00cc96",
           "#ab63fa",
           "#FFA15A",
           "#19d3f3",
           "#FF6692",
           "#B6E880",
           "#FF97FF",
           "#FECB52"
          ],
          "font": {
           "color": "#2a3f5f"
          },
          "geo": {
           "bgcolor": "white",
           "lakecolor": "white",
           "landcolor": "#E5ECF6",
           "showlakes": true,
           "showland": true,
           "subunitcolor": "white"
          },
          "hoverlabel": {
           "align": "left"
          },
          "hovermode": "closest",
          "mapbox": {
           "style": "light"
          },
          "paper_bgcolor": "white",
          "plot_bgcolor": "#E5ECF6",
          "polar": {
           "angularaxis": {
            "gridcolor": "white",
            "linecolor": "white",
            "ticks": ""
           },
           "bgcolor": "#E5ECF6",
           "radialaxis": {
            "gridcolor": "white",
            "linecolor": "white",
            "ticks": ""
           }
          },
          "scene": {
           "xaxis": {
            "backgroundcolor": "#E5ECF6",
            "gridcolor": "white",
            "gridwidth": 2,
            "linecolor": "white",
            "showbackground": true,
            "ticks": "",
            "zerolinecolor": "white"
           },
           "yaxis": {
            "backgroundcolor": "#E5ECF6",
            "gridcolor": "white",
            "gridwidth": 2,
            "linecolor": "white",
            "showbackground": true,
            "ticks": "",
            "zerolinecolor": "white"
           },
           "zaxis": {
            "backgroundcolor": "#E5ECF6",
            "gridcolor": "white",
            "gridwidth": 2,
            "linecolor": "white",
            "showbackground": true,
            "ticks": "",
            "zerolinecolor": "white"
           }
          },
          "shapedefaults": {
           "line": {
            "color": "#2a3f5f"
           }
          },
          "ternary": {
           "aaxis": {
            "gridcolor": "white",
            "linecolor": "white",
            "ticks": ""
           },
           "baxis": {
            "gridcolor": "white",
            "linecolor": "white",
            "ticks": ""
           },
           "bgcolor": "#E5ECF6",
           "caxis": {
            "gridcolor": "white",
            "linecolor": "white",
            "ticks": ""
           }
          },
          "title": {
           "x": 0.05
          },
          "xaxis": {
           "automargin": true,
           "gridcolor": "white",
           "linecolor": "white",
           "ticks": "",
           "title": {
            "standoff": 15
           },
           "zerolinecolor": "white",
           "zerolinewidth": 2
          },
          "yaxis": {
           "automargin": true,
           "gridcolor": "white",
           "linecolor": "white",
           "ticks": "",
           "title": {
            "standoff": 15
           },
           "zerolinecolor": "white",
           "zerolinewidth": 2
          }
         }
        },
        "title": {
         "text": "Which song is the best to dance to?"
        },
        "xaxis": {
         "anchor": "y",
         "domain": [
          0,
          1
         ],
         "title": {
          "text": "Track"
         }
        },
        "yaxis": {
         "anchor": "x",
         "domain": [
          0,
          1
         ],
         "title": {
          "text": "Danceability"
         }
        }
       }
      },
      "text/html": [
       "<div>                            <div id=\"023aec18-9f60-4560-9978-204726087777\" class=\"plotly-graph-div\" style=\"height:525px; width:100%;\"></div>            <script type=\"text/javascript\">                require([\"plotly\"], function(Plotly) {                    window.PLOTLYENV=window.PLOTLYENV || {};                                    if (document.getElementById(\"023aec18-9f60-4560-9978-204726087777\")) {                    Plotly.newPlot(                        \"023aec18-9f60-4560-9978-204726087777\",                        [{\"alignmentgroup\":\"True\",\"hovertemplate\":\"Track=%{x}<br>Danceability=%{y}<extra></extra>\",\"legendgroup\":\"\",\"marker\":{\"color\":\"#636efa\",\"pattern\":{\"shape\":\"\"}},\"name\":\"\",\"offsetgroup\":\"\",\"orientation\":\"v\",\"showlegend\":false,\"textposition\":\"auto\",\"x\":[\"Shaky shaky\",\"Game over\",\"Machucando\",\"Bomb\\u00f3n\",\"Na ja tu\",\"X \\u00faltima vez\",\"Definitivamente\",\"Limbo\",\"Hula hoop\",\"Ven conmigo\",\"Shadow\",\"S\\u00e1bado rebelde\",\"Vaiv\\u00e9n\",\"Dhol bajaa\",\"Meethi meethi\"],\"xaxis\":\"x\",\"y\":[0.899,0.846,0.846,0.843,0.815,0.8119999999999999,0.8119999999999999,0.805,0.799,0.78,0.779,0.771,0.768,0.766,0.766],\"yaxis\":\"y\",\"type\":\"bar\"}],                        {\"template\":{\"data\":{\"histogram2dcontour\":[{\"type\":\"histogram2dcontour\",\"colorbar\":{\"outlinewidth\":0,\"ticks\":\"\"},\"colorscale\":[[0.0,\"#0d0887\"],[0.1111111111111111,\"#46039f\"],[0.2222222222222222,\"#7201a8\"],[0.3333333333333333,\"#9c179e\"],[0.4444444444444444,\"#bd3786\"],[0.5555555555555556,\"#d8576b\"],[0.6666666666666666,\"#ed7953\"],[0.7777777777777778,\"#fb9f3a\"],[0.8888888888888888,\"#fdca26\"],[1.0,\"#f0f921\"]]}],\"choropleth\":[{\"type\":\"choropleth\",\"colorbar\":{\"outlinewidth\":0,\"ticks\":\"\"}}],\"histogram2d\":[{\"type\":\"histogram2d\",\"colorbar\":{\"outlinewidth\":0,\"ticks\":\"\"},\"colorscale\":[[0.0,\"#0d0887\"],[0.1111111111111111,\"#46039f\"],[0.2222222222222222,\"#7201a8\"],[0.3333333333333333,\"#9c179e\"],[0.4444444444444444,\"#bd3786\"],[0.5555555555555556,\"#d8576b\"],[0.6666666666666666,\"#ed7953\"],[0.7777777777777778,\"#fb9f3a\"],[0.8888888888888888,\"#fdca26\"],[1.0,\"#f0f921\"]]}],\"heatmap\":[{\"type\":\"heatmap\",\"colorbar\":{\"outlinewidth\":0,\"ticks\":\"\"},\"colorscale\":[[0.0,\"#0d0887\"],[0.1111111111111111,\"#46039f\"],[0.2222222222222222,\"#7201a8\"],[0.3333333333333333,\"#9c179e\"],[0.4444444444444444,\"#bd3786\"],[0.5555555555555556,\"#d8576b\"],[0.6666666666666666,\"#ed7953\"],[0.7777777777777778,\"#fb9f3a\"],[0.8888888888888888,\"#fdca26\"],[1.0,\"#f0f921\"]]}],\"heatmapgl\":[{\"type\":\"heatmapgl\",\"colorbar\":{\"outlinewidth\":0,\"ticks\":\"\"},\"colorscale\":[[0.0,\"#0d0887\"],[0.1111111111111111,\"#46039f\"],[0.2222222222222222,\"#7201a8\"],[0.3333333333333333,\"#9c179e\"],[0.4444444444444444,\"#bd3786\"],[0.5555555555555556,\"#d8576b\"],[0.6666666666666666,\"#ed7953\"],[0.7777777777777778,\"#fb9f3a\"],[0.8888888888888888,\"#fdca26\"],[1.0,\"#f0f921\"]]}],\"contourcarpet\":[{\"type\":\"contourcarpet\",\"colorbar\":{\"outlinewidth\":0,\"ticks\":\"\"}}],\"contour\":[{\"type\":\"contour\",\"colorbar\":{\"outlinewidth\":0,\"ticks\":\"\"},\"colorscale\":[[0.0,\"#0d0887\"],[0.1111111111111111,\"#46039f\"],[0.2222222222222222,\"#7201a8\"],[0.3333333333333333,\"#9c179e\"],[0.4444444444444444,\"#bd3786\"],[0.5555555555555556,\"#d8576b\"],[0.6666666666666666,\"#ed7953\"],[0.7777777777777778,\"#fb9f3a\"],[0.8888888888888888,\"#fdca26\"],[1.0,\"#f0f921\"]]}],\"surface\":[{\"type\":\"surface\",\"colorbar\":{\"outlinewidth\":0,\"ticks\":\"\"},\"colorscale\":[[0.0,\"#0d0887\"],[0.1111111111111111,\"#46039f\"],[0.2222222222222222,\"#7201a8\"],[0.3333333333333333,\"#9c179e\"],[0.4444444444444444,\"#bd3786\"],[0.5555555555555556,\"#d8576b\"],[0.6666666666666666,\"#ed7953\"],[0.7777777777777778,\"#fb9f3a\"],[0.8888888888888888,\"#fdca26\"],[1.0,\"#f0f921\"]]}],\"mesh3d\":[{\"type\":\"mesh3d\",\"colorbar\":{\"outlinewidth\":0,\"ticks\":\"\"}}],\"scatter\":[{\"fillpattern\":{\"fillmode\":\"overlay\",\"size\":10,\"solidity\":0.2},\"type\":\"scatter\"}],\"parcoords\":[{\"type\":\"parcoords\",\"line\":{\"colorbar\":{\"outlinewidth\":0,\"ticks\":\"\"}}}],\"scatterpolargl\":[{\"type\":\"scatterpolargl\",\"marker\":{\"colorbar\":{\"outlinewidth\":0,\"ticks\":\"\"}}}],\"bar\":[{\"error_x\":{\"color\":\"#2a3f5f\"},\"error_y\":{\"color\":\"#2a3f5f\"},\"marker\":{\"line\":{\"color\":\"#E5ECF6\",\"width\":0.5},\"pattern\":{\"fillmode\":\"overlay\",\"size\":10,\"solidity\":0.2}},\"type\":\"bar\"}],\"scattergeo\":[{\"type\":\"scattergeo\",\"marker\":{\"colorbar\":{\"outlinewidth\":0,\"ticks\":\"\"}}}],\"scatterpolar\":[{\"type\":\"scatterpolar\",\"marker\":{\"colorbar\":{\"outlinewidth\":0,\"ticks\":\"\"}}}],\"histogram\":[{\"marker\":{\"pattern\":{\"fillmode\":\"overlay\",\"size\":10,\"solidity\":0.2}},\"type\":\"histogram\"}],\"scattergl\":[{\"type\":\"scattergl\",\"marker\":{\"colorbar\":{\"outlinewidth\":0,\"ticks\":\"\"}}}],\"scatter3d\":[{\"type\":\"scatter3d\",\"line\":{\"colorbar\":{\"outlinewidth\":0,\"ticks\":\"\"}},\"marker\":{\"colorbar\":{\"outlinewidth\":0,\"ticks\":\"\"}}}],\"scattermapbox\":[{\"type\":\"scattermapbox\",\"marker\":{\"colorbar\":{\"outlinewidth\":0,\"ticks\":\"\"}}}],\"scatterternary\":[{\"type\":\"scatterternary\",\"marker\":{\"colorbar\":{\"outlinewidth\":0,\"ticks\":\"\"}}}],\"scattercarpet\":[{\"type\":\"scattercarpet\",\"marker\":{\"colorbar\":{\"outlinewidth\":0,\"ticks\":\"\"}}}],\"carpet\":[{\"aaxis\":{\"endlinecolor\":\"#2a3f5f\",\"gridcolor\":\"white\",\"linecolor\":\"white\",\"minorgridcolor\":\"white\",\"startlinecolor\":\"#2a3f5f\"},\"baxis\":{\"endlinecolor\":\"#2a3f5f\",\"gridcolor\":\"white\",\"linecolor\":\"white\",\"minorgridcolor\":\"white\",\"startlinecolor\":\"#2a3f5f\"},\"type\":\"carpet\"}],\"table\":[{\"cells\":{\"fill\":{\"color\":\"#EBF0F8\"},\"line\":{\"color\":\"white\"}},\"header\":{\"fill\":{\"color\":\"#C8D4E3\"},\"line\":{\"color\":\"white\"}},\"type\":\"table\"}],\"barpolar\":[{\"marker\":{\"line\":{\"color\":\"#E5ECF6\",\"width\":0.5},\"pattern\":{\"fillmode\":\"overlay\",\"size\":10,\"solidity\":0.2}},\"type\":\"barpolar\"}],\"pie\":[{\"automargin\":true,\"type\":\"pie\"}]},\"layout\":{\"autotypenumbers\":\"strict\",\"colorway\":[\"#636efa\",\"#EF553B\",\"#00cc96\",\"#ab63fa\",\"#FFA15A\",\"#19d3f3\",\"#FF6692\",\"#B6E880\",\"#FF97FF\",\"#FECB52\"],\"font\":{\"color\":\"#2a3f5f\"},\"hovermode\":\"closest\",\"hoverlabel\":{\"align\":\"left\"},\"paper_bgcolor\":\"white\",\"plot_bgcolor\":\"#E5ECF6\",\"polar\":{\"bgcolor\":\"#E5ECF6\",\"angularaxis\":{\"gridcolor\":\"white\",\"linecolor\":\"white\",\"ticks\":\"\"},\"radialaxis\":{\"gridcolor\":\"white\",\"linecolor\":\"white\",\"ticks\":\"\"}},\"ternary\":{\"bgcolor\":\"#E5ECF6\",\"aaxis\":{\"gridcolor\":\"white\",\"linecolor\":\"white\",\"ticks\":\"\"},\"baxis\":{\"gridcolor\":\"white\",\"linecolor\":\"white\",\"ticks\":\"\"},\"caxis\":{\"gridcolor\":\"white\",\"linecolor\":\"white\",\"ticks\":\"\"}},\"coloraxis\":{\"colorbar\":{\"outlinewidth\":0,\"ticks\":\"\"}},\"colorscale\":{\"sequential\":[[0.0,\"#0d0887\"],[0.1111111111111111,\"#46039f\"],[0.2222222222222222,\"#7201a8\"],[0.3333333333333333,\"#9c179e\"],[0.4444444444444444,\"#bd3786\"],[0.5555555555555556,\"#d8576b\"],[0.6666666666666666,\"#ed7953\"],[0.7777777777777778,\"#fb9f3a\"],[0.8888888888888888,\"#fdca26\"],[1.0,\"#f0f921\"]],\"sequentialminus\":[[0.0,\"#0d0887\"],[0.1111111111111111,\"#46039f\"],[0.2222222222222222,\"#7201a8\"],[0.3333333333333333,\"#9c179e\"],[0.4444444444444444,\"#bd3786\"],[0.5555555555555556,\"#d8576b\"],[0.6666666666666666,\"#ed7953\"],[0.7777777777777778,\"#fb9f3a\"],[0.8888888888888888,\"#fdca26\"],[1.0,\"#f0f921\"]],\"diverging\":[[0,\"#8e0152\"],[0.1,\"#c51b7d\"],[0.2,\"#de77ae\"],[0.3,\"#f1b6da\"],[0.4,\"#fde0ef\"],[0.5,\"#f7f7f7\"],[0.6,\"#e6f5d0\"],[0.7,\"#b8e186\"],[0.8,\"#7fbc41\"],[0.9,\"#4d9221\"],[1,\"#276419\"]]},\"xaxis\":{\"gridcolor\":\"white\",\"linecolor\":\"white\",\"ticks\":\"\",\"title\":{\"standoff\":15},\"zerolinecolor\":\"white\",\"automargin\":true,\"zerolinewidth\":2},\"yaxis\":{\"gridcolor\":\"white\",\"linecolor\":\"white\",\"ticks\":\"\",\"title\":{\"standoff\":15},\"zerolinecolor\":\"white\",\"automargin\":true,\"zerolinewidth\":2},\"scene\":{\"xaxis\":{\"backgroundcolor\":\"#E5ECF6\",\"gridcolor\":\"white\",\"linecolor\":\"white\",\"showbackground\":true,\"ticks\":\"\",\"zerolinecolor\":\"white\",\"gridwidth\":2},\"yaxis\":{\"backgroundcolor\":\"#E5ECF6\",\"gridcolor\":\"white\",\"linecolor\":\"white\",\"showbackground\":true,\"ticks\":\"\",\"zerolinecolor\":\"white\",\"gridwidth\":2},\"zaxis\":{\"backgroundcolor\":\"#E5ECF6\",\"gridcolor\":\"white\",\"linecolor\":\"white\",\"showbackground\":true,\"ticks\":\"\",\"zerolinecolor\":\"white\",\"gridwidth\":2}},\"shapedefaults\":{\"line\":{\"color\":\"#2a3f5f\"}},\"annotationdefaults\":{\"arrowcolor\":\"#2a3f5f\",\"arrowhead\":0,\"arrowwidth\":1},\"geo\":{\"bgcolor\":\"white\",\"landcolor\":\"#E5ECF6\",\"subunitcolor\":\"white\",\"showland\":true,\"showlakes\":true,\"lakecolor\":\"white\"},\"title\":{\"x\":0.05},\"mapbox\":{\"style\":\"light\"}}},\"xaxis\":{\"anchor\":\"y\",\"domain\":[0.0,1.0],\"title\":{\"text\":\"Track\"}},\"yaxis\":{\"anchor\":\"x\",\"domain\":[0.0,1.0],\"title\":{\"text\":\"Danceability\"}},\"legend\":{\"tracegroupgap\":0},\"title\":{\"text\":\"Which song is the best to dance to?\"},\"barmode\":\"relative\"},                        {\"responsive\": true}                    ).then(function(){\n",
       "                            \n",
       "var gd = document.getElementById('023aec18-9f60-4560-9978-204726087777');\n",
       "var x = new MutationObserver(function (mutations, observer) {{\n",
       "        var display = window.getComputedStyle(gd).display;\n",
       "        if (!display || display === 'none') {{\n",
       "            console.log([gd, 'removed!']);\n",
       "            Plotly.purge(gd);\n",
       "            observer.disconnect();\n",
       "        }}\n",
       "}});\n",
       "\n",
       "// Listen for the removal of the full notebook cells\n",
       "var notebookContainer = gd.closest('#notebook-container');\n",
       "if (notebookContainer) {{\n",
       "    x.observe(notebookContainer, {childList: true});\n",
       "}}\n",
       "\n",
       "// Listen for the clearing of the current output cell\n",
       "var outputEl = gd.closest('.output');\n",
       "if (outputEl) {{\n",
       "    x.observe(outputEl, {childList: true});\n",
       "}}\n",
       "\n",
       "                        })                };                });            </script>        </div>"
      ]
     },
     "metadata": {},
     "output_type": "display_data"
    }
   ],
   "source": [
    "# Finding top song for best to dance\n",
    "dance = df1[['Track', 'danceability']].groupby('Track').mean().sort_values('danceability', ascending = False).head(15).reset_index()\n",
    "# Building visuals\n",
    "fig = px.bar(dance, x = 'Track', y = \"danceability\",  orientation = 'v', title = \"Which song is the best to dance to?\",labels={\"Track\": \"Track\",\"danceability\": \"Danceability\"})\n",
    "fig.show()"
   ]
  },
  {
   "cell_type": "markdown",
   "id": "ca1263d6",
   "metadata": {},
   "source": [
    "### Identify 5 artists with more than one song in the dataset"
   ]
  },
  {
   "cell_type": "code",
   "execution_count": 33,
   "id": "3ee6b4cd",
   "metadata": {},
   "outputs": [
    {
     "data": {
      "application/vnd.plotly.v1+json": {
       "config": {
        "plotlyServerURL": "https://plot.ly"
       },
       "data": [
        {
         "branchvalues": "total",
         "domain": {
          "x": [
           0,
           1
          ],
          "y": [
           0,
           1
          ]
         },
         "hovertemplate": "labels=%{label}<br>Total Songs=%{value}<br>parent=%{parent}<br>id=%{id}<extra></extra>",
         "ids": [
          "(g)i-dle",
          "Bruno mars",
          "Daddy yankee",
          "King",
          "Thaman s"
         ],
         "labels": [
          "(g)i-dle",
          "Bruno mars",
          "Daddy yankee",
          "King",
          "Thaman s"
         ],
         "name": "",
         "parents": [
          "",
          "",
          "",
          "",
          ""
         ],
         "type": "treemap",
         "values": [
          1,
          5,
          26,
          1,
          1
         ]
        }
       ],
       "layout": {
        "height": 400,
        "legend": {
         "tracegroupgap": 0
        },
        "margin": {
         "b": 25,
         "l": 25,
         "r": 25,
         "t": 50
        },
        "template": {
         "data": {
          "bar": [
           {
            "error_x": {
             "color": "#2a3f5f"
            },
            "error_y": {
             "color": "#2a3f5f"
            },
            "marker": {
             "line": {
              "color": "#E5ECF6",
              "width": 0.5
             },
             "pattern": {
              "fillmode": "overlay",
              "size": 10,
              "solidity": 0.2
             }
            },
            "type": "bar"
           }
          ],
          "barpolar": [
           {
            "marker": {
             "line": {
              "color": "#E5ECF6",
              "width": 0.5
             },
             "pattern": {
              "fillmode": "overlay",
              "size": 10,
              "solidity": 0.2
             }
            },
            "type": "barpolar"
           }
          ],
          "carpet": [
           {
            "aaxis": {
             "endlinecolor": "#2a3f5f",
             "gridcolor": "white",
             "linecolor": "white",
             "minorgridcolor": "white",
             "startlinecolor": "#2a3f5f"
            },
            "baxis": {
             "endlinecolor": "#2a3f5f",
             "gridcolor": "white",
             "linecolor": "white",
             "minorgridcolor": "white",
             "startlinecolor": "#2a3f5f"
            },
            "type": "carpet"
           }
          ],
          "choropleth": [
           {
            "colorbar": {
             "outlinewidth": 0,
             "ticks": ""
            },
            "type": "choropleth"
           }
          ],
          "contour": [
           {
            "colorbar": {
             "outlinewidth": 0,
             "ticks": ""
            },
            "colorscale": [
             [
              0,
              "#0d0887"
             ],
             [
              0.1111111111111111,
              "#46039f"
             ],
             [
              0.2222222222222222,
              "#7201a8"
             ],
             [
              0.3333333333333333,
              "#9c179e"
             ],
             [
              0.4444444444444444,
              "#bd3786"
             ],
             [
              0.5555555555555556,
              "#d8576b"
             ],
             [
              0.6666666666666666,
              "#ed7953"
             ],
             [
              0.7777777777777778,
              "#fb9f3a"
             ],
             [
              0.8888888888888888,
              "#fdca26"
             ],
             [
              1,
              "#f0f921"
             ]
            ],
            "type": "contour"
           }
          ],
          "contourcarpet": [
           {
            "colorbar": {
             "outlinewidth": 0,
             "ticks": ""
            },
            "type": "contourcarpet"
           }
          ],
          "heatmap": [
           {
            "colorbar": {
             "outlinewidth": 0,
             "ticks": ""
            },
            "colorscale": [
             [
              0,
              "#0d0887"
             ],
             [
              0.1111111111111111,
              "#46039f"
             ],
             [
              0.2222222222222222,
              "#7201a8"
             ],
             [
              0.3333333333333333,
              "#9c179e"
             ],
             [
              0.4444444444444444,
              "#bd3786"
             ],
             [
              0.5555555555555556,
              "#d8576b"
             ],
             [
              0.6666666666666666,
              "#ed7953"
             ],
             [
              0.7777777777777778,
              "#fb9f3a"
             ],
             [
              0.8888888888888888,
              "#fdca26"
             ],
             [
              1,
              "#f0f921"
             ]
            ],
            "type": "heatmap"
           }
          ],
          "heatmapgl": [
           {
            "colorbar": {
             "outlinewidth": 0,
             "ticks": ""
            },
            "colorscale": [
             [
              0,
              "#0d0887"
             ],
             [
              0.1111111111111111,
              "#46039f"
             ],
             [
              0.2222222222222222,
              "#7201a8"
             ],
             [
              0.3333333333333333,
              "#9c179e"
             ],
             [
              0.4444444444444444,
              "#bd3786"
             ],
             [
              0.5555555555555556,
              "#d8576b"
             ],
             [
              0.6666666666666666,
              "#ed7953"
             ],
             [
              0.7777777777777778,
              "#fb9f3a"
             ],
             [
              0.8888888888888888,
              "#fdca26"
             ],
             [
              1,
              "#f0f921"
             ]
            ],
            "type": "heatmapgl"
           }
          ],
          "histogram": [
           {
            "marker": {
             "pattern": {
              "fillmode": "overlay",
              "size": 10,
              "solidity": 0.2
             }
            },
            "type": "histogram"
           }
          ],
          "histogram2d": [
           {
            "colorbar": {
             "outlinewidth": 0,
             "ticks": ""
            },
            "colorscale": [
             [
              0,
              "#0d0887"
             ],
             [
              0.1111111111111111,
              "#46039f"
             ],
             [
              0.2222222222222222,
              "#7201a8"
             ],
             [
              0.3333333333333333,
              "#9c179e"
             ],
             [
              0.4444444444444444,
              "#bd3786"
             ],
             [
              0.5555555555555556,
              "#d8576b"
             ],
             [
              0.6666666666666666,
              "#ed7953"
             ],
             [
              0.7777777777777778,
              "#fb9f3a"
             ],
             [
              0.8888888888888888,
              "#fdca26"
             ],
             [
              1,
              "#f0f921"
             ]
            ],
            "type": "histogram2d"
           }
          ],
          "histogram2dcontour": [
           {
            "colorbar": {
             "outlinewidth": 0,
             "ticks": ""
            },
            "colorscale": [
             [
              0,
              "#0d0887"
             ],
             [
              0.1111111111111111,
              "#46039f"
             ],
             [
              0.2222222222222222,
              "#7201a8"
             ],
             [
              0.3333333333333333,
              "#9c179e"
             ],
             [
              0.4444444444444444,
              "#bd3786"
             ],
             [
              0.5555555555555556,
              "#d8576b"
             ],
             [
              0.6666666666666666,
              "#ed7953"
             ],
             [
              0.7777777777777778,
              "#fb9f3a"
             ],
             [
              0.8888888888888888,
              "#fdca26"
             ],
             [
              1,
              "#f0f921"
             ]
            ],
            "type": "histogram2dcontour"
           }
          ],
          "mesh3d": [
           {
            "colorbar": {
             "outlinewidth": 0,
             "ticks": ""
            },
            "type": "mesh3d"
           }
          ],
          "parcoords": [
           {
            "line": {
             "colorbar": {
              "outlinewidth": 0,
              "ticks": ""
             }
            },
            "type": "parcoords"
           }
          ],
          "pie": [
           {
            "automargin": true,
            "type": "pie"
           }
          ],
          "scatter": [
           {
            "fillpattern": {
             "fillmode": "overlay",
             "size": 10,
             "solidity": 0.2
            },
            "type": "scatter"
           }
          ],
          "scatter3d": [
           {
            "line": {
             "colorbar": {
              "outlinewidth": 0,
              "ticks": ""
             }
            },
            "marker": {
             "colorbar": {
              "outlinewidth": 0,
              "ticks": ""
             }
            },
            "type": "scatter3d"
           }
          ],
          "scattercarpet": [
           {
            "marker": {
             "colorbar": {
              "outlinewidth": 0,
              "ticks": ""
             }
            },
            "type": "scattercarpet"
           }
          ],
          "scattergeo": [
           {
            "marker": {
             "colorbar": {
              "outlinewidth": 0,
              "ticks": ""
             }
            },
            "type": "scattergeo"
           }
          ],
          "scattergl": [
           {
            "marker": {
             "colorbar": {
              "outlinewidth": 0,
              "ticks": ""
             }
            },
            "type": "scattergl"
           }
          ],
          "scattermapbox": [
           {
            "marker": {
             "colorbar": {
              "outlinewidth": 0,
              "ticks": ""
             }
            },
            "type": "scattermapbox"
           }
          ],
          "scatterpolar": [
           {
            "marker": {
             "colorbar": {
              "outlinewidth": 0,
              "ticks": ""
             }
            },
            "type": "scatterpolar"
           }
          ],
          "scatterpolargl": [
           {
            "marker": {
             "colorbar": {
              "outlinewidth": 0,
              "ticks": ""
             }
            },
            "type": "scatterpolargl"
           }
          ],
          "scatterternary": [
           {
            "marker": {
             "colorbar": {
              "outlinewidth": 0,
              "ticks": ""
             }
            },
            "type": "scatterternary"
           }
          ],
          "surface": [
           {
            "colorbar": {
             "outlinewidth": 0,
             "ticks": ""
            },
            "colorscale": [
             [
              0,
              "#0d0887"
             ],
             [
              0.1111111111111111,
              "#46039f"
             ],
             [
              0.2222222222222222,
              "#7201a8"
             ],
             [
              0.3333333333333333,
              "#9c179e"
             ],
             [
              0.4444444444444444,
              "#bd3786"
             ],
             [
              0.5555555555555556,
              "#d8576b"
             ],
             [
              0.6666666666666666,
              "#ed7953"
             ],
             [
              0.7777777777777778,
              "#fb9f3a"
             ],
             [
              0.8888888888888888,
              "#fdca26"
             ],
             [
              1,
              "#f0f921"
             ]
            ],
            "type": "surface"
           }
          ],
          "table": [
           {
            "cells": {
             "fill": {
              "color": "#EBF0F8"
             },
             "line": {
              "color": "white"
             }
            },
            "header": {
             "fill": {
              "color": "#C8D4E3"
             },
             "line": {
              "color": "white"
             }
            },
            "type": "table"
           }
          ]
         },
         "layout": {
          "annotationdefaults": {
           "arrowcolor": "#2a3f5f",
           "arrowhead": 0,
           "arrowwidth": 1
          },
          "autotypenumbers": "strict",
          "coloraxis": {
           "colorbar": {
            "outlinewidth": 0,
            "ticks": ""
           }
          },
          "colorscale": {
           "diverging": [
            [
             0,
             "#8e0152"
            ],
            [
             0.1,
             "#c51b7d"
            ],
            [
             0.2,
             "#de77ae"
            ],
            [
             0.3,
             "#f1b6da"
            ],
            [
             0.4,
             "#fde0ef"
            ],
            [
             0.5,
             "#f7f7f7"
            ],
            [
             0.6,
             "#e6f5d0"
            ],
            [
             0.7,
             "#b8e186"
            ],
            [
             0.8,
             "#7fbc41"
            ],
            [
             0.9,
             "#4d9221"
            ],
            [
             1,
             "#276419"
            ]
           ],
           "sequential": [
            [
             0,
             "#0d0887"
            ],
            [
             0.1111111111111111,
             "#46039f"
            ],
            [
             0.2222222222222222,
             "#7201a8"
            ],
            [
             0.3333333333333333,
             "#9c179e"
            ],
            [
             0.4444444444444444,
             "#bd3786"
            ],
            [
             0.5555555555555556,
             "#d8576b"
            ],
            [
             0.6666666666666666,
             "#ed7953"
            ],
            [
             0.7777777777777778,
             "#fb9f3a"
            ],
            [
             0.8888888888888888,
             "#fdca26"
            ],
            [
             1,
             "#f0f921"
            ]
           ],
           "sequentialminus": [
            [
             0,
             "#0d0887"
            ],
            [
             0.1111111111111111,
             "#46039f"
            ],
            [
             0.2222222222222222,
             "#7201a8"
            ],
            [
             0.3333333333333333,
             "#9c179e"
            ],
            [
             0.4444444444444444,
             "#bd3786"
            ],
            [
             0.5555555555555556,
             "#d8576b"
            ],
            [
             0.6666666666666666,
             "#ed7953"
            ],
            [
             0.7777777777777778,
             "#fb9f3a"
            ],
            [
             0.8888888888888888,
             "#fdca26"
            ],
            [
             1,
             "#f0f921"
            ]
           ]
          },
          "colorway": [
           "#636efa",
           "#EF553B",
           "#00cc96",
           "#ab63fa",
           "#FFA15A",
           "#19d3f3",
           "#FF6692",
           "#B6E880",
           "#FF97FF",
           "#FECB52"
          ],
          "font": {
           "color": "#2a3f5f"
          },
          "geo": {
           "bgcolor": "white",
           "lakecolor": "white",
           "landcolor": "#E5ECF6",
           "showlakes": true,
           "showland": true,
           "subunitcolor": "white"
          },
          "hoverlabel": {
           "align": "left"
          },
          "hovermode": "closest",
          "mapbox": {
           "style": "light"
          },
          "paper_bgcolor": "white",
          "plot_bgcolor": "#E5ECF6",
          "polar": {
           "angularaxis": {
            "gridcolor": "white",
            "linecolor": "white",
            "ticks": ""
           },
           "bgcolor": "#E5ECF6",
           "radialaxis": {
            "gridcolor": "white",
            "linecolor": "white",
            "ticks": ""
           }
          },
          "scene": {
           "xaxis": {
            "backgroundcolor": "#E5ECF6",
            "gridcolor": "white",
            "gridwidth": 2,
            "linecolor": "white",
            "showbackground": true,
            "ticks": "",
            "zerolinecolor": "white"
           },
           "yaxis": {
            "backgroundcolor": "#E5ECF6",
            "gridcolor": "white",
            "gridwidth": 2,
            "linecolor": "white",
            "showbackground": true,
            "ticks": "",
            "zerolinecolor": "white"
           },
           "zaxis": {
            "backgroundcolor": "#E5ECF6",
            "gridcolor": "white",
            "gridwidth": 2,
            "linecolor": "white",
            "showbackground": true,
            "ticks": "",
            "zerolinecolor": "white"
           }
          },
          "shapedefaults": {
           "line": {
            "color": "#2a3f5f"
           }
          },
          "ternary": {
           "aaxis": {
            "gridcolor": "white",
            "linecolor": "white",
            "ticks": ""
           },
           "baxis": {
            "gridcolor": "white",
            "linecolor": "white",
            "ticks": ""
           },
           "bgcolor": "#E5ECF6",
           "caxis": {
            "gridcolor": "white",
            "linecolor": "white",
            "ticks": ""
           }
          },
          "title": {
           "x": 0.05
          },
          "xaxis": {
           "automargin": true,
           "gridcolor": "white",
           "linecolor": "white",
           "ticks": "",
           "title": {
            "standoff": 15
           },
           "zerolinecolor": "white",
           "zerolinewidth": 2
          },
          "yaxis": {
           "automargin": true,
           "gridcolor": "white",
           "linecolor": "white",
           "ticks": "",
           "title": {
            "standoff": 15
           },
           "zerolinecolor": "white",
           "zerolinewidth": 2
          }
         }
        },
        "title": {
         "text": "Top 5 artists with more than one song"
        },
        "treemapcolorway": [
         "#fae588",
         "#f79d65",
         "#f9dc5c",
         "#e8ac65",
         "#e76f51",
         "#ef233c",
         "#b7094c"
        ],
        "width": 800
       }
      },
      "text/html": [
       "<div>                            <div id=\"034864c0-0cd5-4bc4-a490-a17ae38f07d0\" class=\"plotly-graph-div\" style=\"height:400px; width:800px;\"></div>            <script type=\"text/javascript\">                require([\"plotly\"], function(Plotly) {                    window.PLOTLYENV=window.PLOTLYENV || {};                                    if (document.getElementById(\"034864c0-0cd5-4bc4-a490-a17ae38f07d0\")) {                    Plotly.newPlot(                        \"034864c0-0cd5-4bc4-a490-a17ae38f07d0\",                        [{\"branchvalues\":\"total\",\"domain\":{\"x\":[0.0,1.0],\"y\":[0.0,1.0]},\"hovertemplate\":\"labels=%{label}<br>Total Songs=%{value}<br>parent=%{parent}<br>id=%{id}<extra></extra>\",\"ids\":[\"(g)i-dle\",\"Bruno mars\",\"Daddy yankee\",\"King\",\"Thaman s\"],\"labels\":[\"(g)i-dle\",\"Bruno mars\",\"Daddy yankee\",\"King\",\"Thaman s\"],\"name\":\"\",\"parents\":[\"\",\"\",\"\",\"\",\"\"],\"values\":[1,5,26,1,1],\"type\":\"treemap\"}],                        {\"template\":{\"data\":{\"histogram2dcontour\":[{\"type\":\"histogram2dcontour\",\"colorbar\":{\"outlinewidth\":0,\"ticks\":\"\"},\"colorscale\":[[0.0,\"#0d0887\"],[0.1111111111111111,\"#46039f\"],[0.2222222222222222,\"#7201a8\"],[0.3333333333333333,\"#9c179e\"],[0.4444444444444444,\"#bd3786\"],[0.5555555555555556,\"#d8576b\"],[0.6666666666666666,\"#ed7953\"],[0.7777777777777778,\"#fb9f3a\"],[0.8888888888888888,\"#fdca26\"],[1.0,\"#f0f921\"]]}],\"choropleth\":[{\"type\":\"choropleth\",\"colorbar\":{\"outlinewidth\":0,\"ticks\":\"\"}}],\"histogram2d\":[{\"type\":\"histogram2d\",\"colorbar\":{\"outlinewidth\":0,\"ticks\":\"\"},\"colorscale\":[[0.0,\"#0d0887\"],[0.1111111111111111,\"#46039f\"],[0.2222222222222222,\"#7201a8\"],[0.3333333333333333,\"#9c179e\"],[0.4444444444444444,\"#bd3786\"],[0.5555555555555556,\"#d8576b\"],[0.6666666666666666,\"#ed7953\"],[0.7777777777777778,\"#fb9f3a\"],[0.8888888888888888,\"#fdca26\"],[1.0,\"#f0f921\"]]}],\"heatmap\":[{\"type\":\"heatmap\",\"colorbar\":{\"outlinewidth\":0,\"ticks\":\"\"},\"colorscale\":[[0.0,\"#0d0887\"],[0.1111111111111111,\"#46039f\"],[0.2222222222222222,\"#7201a8\"],[0.3333333333333333,\"#9c179e\"],[0.4444444444444444,\"#bd3786\"],[0.5555555555555556,\"#d8576b\"],[0.6666666666666666,\"#ed7953\"],[0.7777777777777778,\"#fb9f3a\"],[0.8888888888888888,\"#fdca26\"],[1.0,\"#f0f921\"]]}],\"heatmapgl\":[{\"type\":\"heatmapgl\",\"colorbar\":{\"outlinewidth\":0,\"ticks\":\"\"},\"colorscale\":[[0.0,\"#0d0887\"],[0.1111111111111111,\"#46039f\"],[0.2222222222222222,\"#7201a8\"],[0.3333333333333333,\"#9c179e\"],[0.4444444444444444,\"#bd3786\"],[0.5555555555555556,\"#d8576b\"],[0.6666666666666666,\"#ed7953\"],[0.7777777777777778,\"#fb9f3a\"],[0.8888888888888888,\"#fdca26\"],[1.0,\"#f0f921\"]]}],\"contourcarpet\":[{\"type\":\"contourcarpet\",\"colorbar\":{\"outlinewidth\":0,\"ticks\":\"\"}}],\"contour\":[{\"type\":\"contour\",\"colorbar\":{\"outlinewidth\":0,\"ticks\":\"\"},\"colorscale\":[[0.0,\"#0d0887\"],[0.1111111111111111,\"#46039f\"],[0.2222222222222222,\"#7201a8\"],[0.3333333333333333,\"#9c179e\"],[0.4444444444444444,\"#bd3786\"],[0.5555555555555556,\"#d8576b\"],[0.6666666666666666,\"#ed7953\"],[0.7777777777777778,\"#fb9f3a\"],[0.8888888888888888,\"#fdca26\"],[1.0,\"#f0f921\"]]}],\"surface\":[{\"type\":\"surface\",\"colorbar\":{\"outlinewidth\":0,\"ticks\":\"\"},\"colorscale\":[[0.0,\"#0d0887\"],[0.1111111111111111,\"#46039f\"],[0.2222222222222222,\"#7201a8\"],[0.3333333333333333,\"#9c179e\"],[0.4444444444444444,\"#bd3786\"],[0.5555555555555556,\"#d8576b\"],[0.6666666666666666,\"#ed7953\"],[0.7777777777777778,\"#fb9f3a\"],[0.8888888888888888,\"#fdca26\"],[1.0,\"#f0f921\"]]}],\"mesh3d\":[{\"type\":\"mesh3d\",\"colorbar\":{\"outlinewidth\":0,\"ticks\":\"\"}}],\"scatter\":[{\"fillpattern\":{\"fillmode\":\"overlay\",\"size\":10,\"solidity\":0.2},\"type\":\"scatter\"}],\"parcoords\":[{\"type\":\"parcoords\",\"line\":{\"colorbar\":{\"outlinewidth\":0,\"ticks\":\"\"}}}],\"scatterpolargl\":[{\"type\":\"scatterpolargl\",\"marker\":{\"colorbar\":{\"outlinewidth\":0,\"ticks\":\"\"}}}],\"bar\":[{\"error_x\":{\"color\":\"#2a3f5f\"},\"error_y\":{\"color\":\"#2a3f5f\"},\"marker\":{\"line\":{\"color\":\"#E5ECF6\",\"width\":0.5},\"pattern\":{\"fillmode\":\"overlay\",\"size\":10,\"solidity\":0.2}},\"type\":\"bar\"}],\"scattergeo\":[{\"type\":\"scattergeo\",\"marker\":{\"colorbar\":{\"outlinewidth\":0,\"ticks\":\"\"}}}],\"scatterpolar\":[{\"type\":\"scatterpolar\",\"marker\":{\"colorbar\":{\"outlinewidth\":0,\"ticks\":\"\"}}}],\"histogram\":[{\"marker\":{\"pattern\":{\"fillmode\":\"overlay\",\"size\":10,\"solidity\":0.2}},\"type\":\"histogram\"}],\"scattergl\":[{\"type\":\"scattergl\",\"marker\":{\"colorbar\":{\"outlinewidth\":0,\"ticks\":\"\"}}}],\"scatter3d\":[{\"type\":\"scatter3d\",\"line\":{\"colorbar\":{\"outlinewidth\":0,\"ticks\":\"\"}},\"marker\":{\"colorbar\":{\"outlinewidth\":0,\"ticks\":\"\"}}}],\"scattermapbox\":[{\"type\":\"scattermapbox\",\"marker\":{\"colorbar\":{\"outlinewidth\":0,\"ticks\":\"\"}}}],\"scatterternary\":[{\"type\":\"scatterternary\",\"marker\":{\"colorbar\":{\"outlinewidth\":0,\"ticks\":\"\"}}}],\"scattercarpet\":[{\"type\":\"scattercarpet\",\"marker\":{\"colorbar\":{\"outlinewidth\":0,\"ticks\":\"\"}}}],\"carpet\":[{\"aaxis\":{\"endlinecolor\":\"#2a3f5f\",\"gridcolor\":\"white\",\"linecolor\":\"white\",\"minorgridcolor\":\"white\",\"startlinecolor\":\"#2a3f5f\"},\"baxis\":{\"endlinecolor\":\"#2a3f5f\",\"gridcolor\":\"white\",\"linecolor\":\"white\",\"minorgridcolor\":\"white\",\"startlinecolor\":\"#2a3f5f\"},\"type\":\"carpet\"}],\"table\":[{\"cells\":{\"fill\":{\"color\":\"#EBF0F8\"},\"line\":{\"color\":\"white\"}},\"header\":{\"fill\":{\"color\":\"#C8D4E3\"},\"line\":{\"color\":\"white\"}},\"type\":\"table\"}],\"barpolar\":[{\"marker\":{\"line\":{\"color\":\"#E5ECF6\",\"width\":0.5},\"pattern\":{\"fillmode\":\"overlay\",\"size\":10,\"solidity\":0.2}},\"type\":\"barpolar\"}],\"pie\":[{\"automargin\":true,\"type\":\"pie\"}]},\"layout\":{\"autotypenumbers\":\"strict\",\"colorway\":[\"#636efa\",\"#EF553B\",\"#00cc96\",\"#ab63fa\",\"#FFA15A\",\"#19d3f3\",\"#FF6692\",\"#B6E880\",\"#FF97FF\",\"#FECB52\"],\"font\":{\"color\":\"#2a3f5f\"},\"hovermode\":\"closest\",\"hoverlabel\":{\"align\":\"left\"},\"paper_bgcolor\":\"white\",\"plot_bgcolor\":\"#E5ECF6\",\"polar\":{\"bgcolor\":\"#E5ECF6\",\"angularaxis\":{\"gridcolor\":\"white\",\"linecolor\":\"white\",\"ticks\":\"\"},\"radialaxis\":{\"gridcolor\":\"white\",\"linecolor\":\"white\",\"ticks\":\"\"}},\"ternary\":{\"bgcolor\":\"#E5ECF6\",\"aaxis\":{\"gridcolor\":\"white\",\"linecolor\":\"white\",\"ticks\":\"\"},\"baxis\":{\"gridcolor\":\"white\",\"linecolor\":\"white\",\"ticks\":\"\"},\"caxis\":{\"gridcolor\":\"white\",\"linecolor\":\"white\",\"ticks\":\"\"}},\"coloraxis\":{\"colorbar\":{\"outlinewidth\":0,\"ticks\":\"\"}},\"colorscale\":{\"sequential\":[[0.0,\"#0d0887\"],[0.1111111111111111,\"#46039f\"],[0.2222222222222222,\"#7201a8\"],[0.3333333333333333,\"#9c179e\"],[0.4444444444444444,\"#bd3786\"],[0.5555555555555556,\"#d8576b\"],[0.6666666666666666,\"#ed7953\"],[0.7777777777777778,\"#fb9f3a\"],[0.8888888888888888,\"#fdca26\"],[1.0,\"#f0f921\"]],\"sequentialminus\":[[0.0,\"#0d0887\"],[0.1111111111111111,\"#46039f\"],[0.2222222222222222,\"#7201a8\"],[0.3333333333333333,\"#9c179e\"],[0.4444444444444444,\"#bd3786\"],[0.5555555555555556,\"#d8576b\"],[0.6666666666666666,\"#ed7953\"],[0.7777777777777778,\"#fb9f3a\"],[0.8888888888888888,\"#fdca26\"],[1.0,\"#f0f921\"]],\"diverging\":[[0,\"#8e0152\"],[0.1,\"#c51b7d\"],[0.2,\"#de77ae\"],[0.3,\"#f1b6da\"],[0.4,\"#fde0ef\"],[0.5,\"#f7f7f7\"],[0.6,\"#e6f5d0\"],[0.7,\"#b8e186\"],[0.8,\"#7fbc41\"],[0.9,\"#4d9221\"],[1,\"#276419\"]]},\"xaxis\":{\"gridcolor\":\"white\",\"linecolor\":\"white\",\"ticks\":\"\",\"title\":{\"standoff\":15},\"zerolinecolor\":\"white\",\"automargin\":true,\"zerolinewidth\":2},\"yaxis\":{\"gridcolor\":\"white\",\"linecolor\":\"white\",\"ticks\":\"\",\"title\":{\"standoff\":15},\"zerolinecolor\":\"white\",\"automargin\":true,\"zerolinewidth\":2},\"scene\":{\"xaxis\":{\"backgroundcolor\":\"#E5ECF6\",\"gridcolor\":\"white\",\"linecolor\":\"white\",\"showbackground\":true,\"ticks\":\"\",\"zerolinecolor\":\"white\",\"gridwidth\":2},\"yaxis\":{\"backgroundcolor\":\"#E5ECF6\",\"gridcolor\":\"white\",\"linecolor\":\"white\",\"showbackground\":true,\"ticks\":\"\",\"zerolinecolor\":\"white\",\"gridwidth\":2},\"zaxis\":{\"backgroundcolor\":\"#E5ECF6\",\"gridcolor\":\"white\",\"linecolor\":\"white\",\"showbackground\":true,\"ticks\":\"\",\"zerolinecolor\":\"white\",\"gridwidth\":2}},\"shapedefaults\":{\"line\":{\"color\":\"#2a3f5f\"}},\"annotationdefaults\":{\"arrowcolor\":\"#2a3f5f\",\"arrowhead\":0,\"arrowwidth\":1},\"geo\":{\"bgcolor\":\"white\",\"landcolor\":\"#E5ECF6\",\"subunitcolor\":\"white\",\"showland\":true,\"showlakes\":true,\"lakecolor\":\"white\"},\"title\":{\"x\":0.05},\"mapbox\":{\"style\":\"light\"}}},\"legend\":{\"tracegroupgap\":0},\"title\":{\"text\":\"Top 5 artists with more than one song\"},\"height\":400,\"width\":800,\"margin\":{\"t\":50,\"l\":25,\"r\":25,\"b\":25},\"treemapcolorway\":[\"#fae588\",\"#f79d65\",\"#f9dc5c\",\"#e8ac65\",\"#e76f51\",\"#ef233c\",\"#b7094c\"]},                        {\"responsive\": true}                    ).then(function(){\n",
       "                            \n",
       "var gd = document.getElementById('034864c0-0cd5-4bc4-a490-a17ae38f07d0');\n",
       "var x = new MutationObserver(function (mutations, observer) {{\n",
       "        var display = window.getComputedStyle(gd).display;\n",
       "        if (!display || display === 'none') {{\n",
       "            console.log([gd, 'removed!']);\n",
       "            Plotly.purge(gd);\n",
       "            observer.disconnect();\n",
       "        }}\n",
       "}});\n",
       "\n",
       "// Listen for the removal of the full notebook cells\n",
       "var notebookContainer = gd.closest('#notebook-container');\n",
       "if (notebookContainer) {{\n",
       "    x.observe(notebookContainer, {childList: true});\n",
       "}}\n",
       "\n",
       "// Listen for the clearing of the current output cell\n",
       "var outputEl = gd.closest('.output');\n",
       "if (outputEl) {{\n",
       "    x.observe(outputEl, {childList: true});\n",
       "}}\n",
       "\n",
       "                        })                };                });            </script>        </div>"
      ]
     },
     "metadata": {},
     "output_type": "display_data"
    }
   ],
   "source": [
    "# Finding top 5 artists with more than one song\n",
    "number = df1[['Artist', 'Track_id']].groupby('Artist').count().sort_values('Track_id', ascending = False).head(5).reset_index()\n",
    "number.rename(columns = {'Track_id':'Total Songs'}, inplace = True)\n",
    "colors=['#fae588','#f79d65','#f9dc5c','#e8ac65','#e76f51','#ef233c','#b7094c'] #color palette\n",
    "# Building Visuals\n",
    "fig = px.treemap(number, path=['Artist'],values='Total Songs', title = \"Top 5 artists with more than one song\", width=800, height=400)\n",
    "fig.update_layout(treemapcolorway = colors, margin = dict (t=50, l=25, r=25, b=25) )\n",
    "fig.show()"
   ]
  },
  {
   "cell_type": "markdown",
   "id": "0fa1052e",
   "metadata": {},
   "source": [
    "### Correlation Matrix for Track Features"
   ]
  },
  {
   "cell_type": "code",
   "execution_count": 30,
   "id": "987c199d",
   "metadata": {},
   "outputs": [
    {
     "data": {
      "application/vnd.plotly.v1+json": {
       "config": {
        "plotlyServerURL": "https://plot.ly"
       },
       "data": [
        {
         "text": [
          [
           1,
           0.3588255527434406,
           0.6054268568700631,
           0.17840797509512266,
           0.22044229239864008,
           -0.4478238929807802,
           -0.7153379935220603,
           -0.17843974089029666,
           0.2378446503674377,
           -0.06307443326484775
          ],
          [
           0.3588255527434406,
           1,
           0.8370090099214587,
           -0.13305534050117945,
           0.03304412226011028,
           -0.3972156822075208,
           -0.16974872238522434,
           0.24473840056715357,
           0.6784555985406008,
           0.18910359321739653
          ],
          [
           0.6054268568700631,
           0.8370090099214587,
           1,
           -0.1223337765440441,
           0.22956644516524882,
           -0.3312802709497951,
           -0.40992646314148806,
           0.08074878853145687,
           0.481781841171427,
           0.20755323124721778
          ],
          [
           0.17840797509512266,
           -0.13305534050117945,
           -0.1223337765440441,
           1,
           -0.1229070231348306,
           -0.0259476472202666,
           -0.146621636476617,
           -0.20730417658378633,
           -0.08668788743074343,
           -0.23953770300385652
          ],
          [
           0.22044229239864008,
           0.03304412226011028,
           0.22956644516524882,
           -0.1229070231348306,
           1,
           -0.13737647760292446,
           -0.0403003325168632,
           0.05857598190342465,
           -0.0021147336169475882,
           -0.04798470459240189
          ],
          [
           -0.4478238929807802,
           -0.3972156822075208,
           -0.3312802709497951,
           -0.0259476472202666,
           -0.13737647760292446,
           1,
           0.5732177852196079,
           -0.07805291070071976,
           -0.5488791648668135,
           -0.03646064179113318
          ],
          [
           -0.7153379935220603,
           -0.16974872238522434,
           -0.40992646314148806,
           -0.146621636476617,
           -0.0403003325168632,
           0.5732177852196079,
           1,
           0.04713580730751369,
           -0.1611948740666273,
           -0.03293472931835462
          ],
          [
           -0.17843974089029666,
           0.24473840056715357,
           0.08074878853145687,
           -0.20730417658378633,
           0.05857598190342465,
           -0.07805291070071976,
           0.04713580730751369,
           1,
           0.28855033010634157,
           0.12731840612090214
          ],
          [
           0.2378446503674377,
           0.6784555985406008,
           0.481781841171427,
           -0.08668788743074343,
           -0.0021147336169475882,
           -0.5488791648668135,
           -0.1611948740666273,
           0.28855033010634157,
           1,
           0.23929018973227403
          ],
          [
           -0.06307443326484775,
           0.18910359321739653,
           0.20755323124721778,
           -0.23953770300385652,
           -0.04798470459240189,
           -0.03646064179113318,
           -0.03293472931835462,
           0.12731840612090214,
           0.23929018973227403,
           1
          ]
         ],
         "texttemplate": "%{text:.2f}",
         "type": "heatmap",
         "x": [
          "danceability",
          "energy",
          "loudness",
          "mode",
          "speechiness",
          "acousticness",
          "instrumentalness",
          "liveness",
          "valence",
          "tempo"
         ],
         "y": [
          "danceability",
          "energy",
          "loudness",
          "mode",
          "speechiness",
          "acousticness",
          "instrumentalness",
          "liveness",
          "valence",
          "tempo"
         ],
         "z": [
          [
           1,
           0.3588255527434406,
           0.6054268568700631,
           0.17840797509512266,
           0.22044229239864008,
           -0.4478238929807802,
           -0.7153379935220603,
           -0.17843974089029666,
           0.2378446503674377,
           -0.06307443326484775
          ],
          [
           0.3588255527434406,
           1,
           0.8370090099214587,
           -0.13305534050117945,
           0.03304412226011028,
           -0.3972156822075208,
           -0.16974872238522434,
           0.24473840056715357,
           0.6784555985406008,
           0.18910359321739653
          ],
          [
           0.6054268568700631,
           0.8370090099214587,
           1,
           -0.1223337765440441,
           0.22956644516524882,
           -0.3312802709497951,
           -0.40992646314148806,
           0.08074878853145687,
           0.481781841171427,
           0.20755323124721778
          ],
          [
           0.17840797509512266,
           -0.13305534050117945,
           -0.1223337765440441,
           1,
           -0.1229070231348306,
           -0.0259476472202666,
           -0.146621636476617,
           -0.20730417658378633,
           -0.08668788743074343,
           -0.23953770300385652
          ],
          [
           0.22044229239864008,
           0.03304412226011028,
           0.22956644516524882,
           -0.1229070231348306,
           1,
           -0.13737647760292446,
           -0.0403003325168632,
           0.05857598190342465,
           -0.0021147336169475882,
           -0.04798470459240189
          ],
          [
           -0.4478238929807802,
           -0.3972156822075208,
           -0.3312802709497951,
           -0.0259476472202666,
           -0.13737647760292446,
           1,
           0.5732177852196079,
           -0.07805291070071976,
           -0.5488791648668135,
           -0.03646064179113318
          ],
          [
           -0.7153379935220603,
           -0.16974872238522434,
           -0.40992646314148806,
           -0.146621636476617,
           -0.0403003325168632,
           0.5732177852196079,
           1,
           0.04713580730751369,
           -0.1611948740666273,
           -0.03293472931835462
          ],
          [
           -0.17843974089029666,
           0.24473840056715357,
           0.08074878853145687,
           -0.20730417658378633,
           0.05857598190342465,
           -0.07805291070071976,
           0.04713580730751369,
           1,
           0.28855033010634157,
           0.12731840612090214
          ],
          [
           0.2378446503674377,
           0.6784555985406008,
           0.481781841171427,
           -0.08668788743074343,
           -0.0021147336169475882,
           -0.5488791648668135,
           -0.1611948740666273,
           0.28855033010634157,
           1,
           0.23929018973227403
          ],
          [
           -0.06307443326484775,
           0.18910359321739653,
           0.20755323124721778,
           -0.23953770300385652,
           -0.04798470459240189,
           -0.03646064179113318,
           -0.03293472931835462,
           0.12731840612090214,
           0.23929018973227403,
           1
          ]
         ]
        }
       ],
       "layout": {
        "coloraxis": {
         "colorscale": [
          [
           0,
           "#0d0887"
          ],
          [
           0.1111111111111111,
           "#46039f"
          ],
          [
           0.2222222222222222,
           "#7201a8"
          ],
          [
           0.3333333333333333,
           "#9c179e"
          ],
          [
           0.4444444444444444,
           "#bd3786"
          ],
          [
           0.5555555555555556,
           "#d8576b"
          ],
          [
           0.6666666666666666,
           "#ed7953"
          ],
          [
           0.7777777777777778,
           "#fb9f3a"
          ],
          [
           0.8888888888888888,
           "#fdca26"
          ],
          [
           1,
           "#f0f921"
          ]
         ]
        },
        "height": 800,
        "template": {
         "data": {
          "bar": [
           {
            "error_x": {
             "color": "#2a3f5f"
            },
            "error_y": {
             "color": "#2a3f5f"
            },
            "marker": {
             "line": {
              "color": "#E5ECF6",
              "width": 0.5
             },
             "pattern": {
              "fillmode": "overlay",
              "size": 10,
              "solidity": 0.2
             }
            },
            "type": "bar"
           }
          ],
          "barpolar": [
           {
            "marker": {
             "line": {
              "color": "#E5ECF6",
              "width": 0.5
             },
             "pattern": {
              "fillmode": "overlay",
              "size": 10,
              "solidity": 0.2
             }
            },
            "type": "barpolar"
           }
          ],
          "carpet": [
           {
            "aaxis": {
             "endlinecolor": "#2a3f5f",
             "gridcolor": "white",
             "linecolor": "white",
             "minorgridcolor": "white",
             "startlinecolor": "#2a3f5f"
            },
            "baxis": {
             "endlinecolor": "#2a3f5f",
             "gridcolor": "white",
             "linecolor": "white",
             "minorgridcolor": "white",
             "startlinecolor": "#2a3f5f"
            },
            "type": "carpet"
           }
          ],
          "choropleth": [
           {
            "colorbar": {
             "outlinewidth": 0,
             "ticks": ""
            },
            "type": "choropleth"
           }
          ],
          "contour": [
           {
            "colorbar": {
             "outlinewidth": 0,
             "ticks": ""
            },
            "colorscale": [
             [
              0,
              "#0d0887"
             ],
             [
              0.1111111111111111,
              "#46039f"
             ],
             [
              0.2222222222222222,
              "#7201a8"
             ],
             [
              0.3333333333333333,
              "#9c179e"
             ],
             [
              0.4444444444444444,
              "#bd3786"
             ],
             [
              0.5555555555555556,
              "#d8576b"
             ],
             [
              0.6666666666666666,
              "#ed7953"
             ],
             [
              0.7777777777777778,
              "#fb9f3a"
             ],
             [
              0.8888888888888888,
              "#fdca26"
             ],
             [
              1,
              "#f0f921"
             ]
            ],
            "type": "contour"
           }
          ],
          "contourcarpet": [
           {
            "colorbar": {
             "outlinewidth": 0,
             "ticks": ""
            },
            "type": "contourcarpet"
           }
          ],
          "heatmap": [
           {
            "colorbar": {
             "outlinewidth": 0,
             "ticks": ""
            },
            "colorscale": [
             [
              0,
              "#0d0887"
             ],
             [
              0.1111111111111111,
              "#46039f"
             ],
             [
              0.2222222222222222,
              "#7201a8"
             ],
             [
              0.3333333333333333,
              "#9c179e"
             ],
             [
              0.4444444444444444,
              "#bd3786"
             ],
             [
              0.5555555555555556,
              "#d8576b"
             ],
             [
              0.6666666666666666,
              "#ed7953"
             ],
             [
              0.7777777777777778,
              "#fb9f3a"
             ],
             [
              0.8888888888888888,
              "#fdca26"
             ],
             [
              1,
              "#f0f921"
             ]
            ],
            "type": "heatmap"
           }
          ],
          "heatmapgl": [
           {
            "colorbar": {
             "outlinewidth": 0,
             "ticks": ""
            },
            "colorscale": [
             [
              0,
              "#0d0887"
             ],
             [
              0.1111111111111111,
              "#46039f"
             ],
             [
              0.2222222222222222,
              "#7201a8"
             ],
             [
              0.3333333333333333,
              "#9c179e"
             ],
             [
              0.4444444444444444,
              "#bd3786"
             ],
             [
              0.5555555555555556,
              "#d8576b"
             ],
             [
              0.6666666666666666,
              "#ed7953"
             ],
             [
              0.7777777777777778,
              "#fb9f3a"
             ],
             [
              0.8888888888888888,
              "#fdca26"
             ],
             [
              1,
              "#f0f921"
             ]
            ],
            "type": "heatmapgl"
           }
          ],
          "histogram": [
           {
            "marker": {
             "pattern": {
              "fillmode": "overlay",
              "size": 10,
              "solidity": 0.2
             }
            },
            "type": "histogram"
           }
          ],
          "histogram2d": [
           {
            "colorbar": {
             "outlinewidth": 0,
             "ticks": ""
            },
            "colorscale": [
             [
              0,
              "#0d0887"
             ],
             [
              0.1111111111111111,
              "#46039f"
             ],
             [
              0.2222222222222222,
              "#7201a8"
             ],
             [
              0.3333333333333333,
              "#9c179e"
             ],
             [
              0.4444444444444444,
              "#bd3786"
             ],
             [
              0.5555555555555556,
              "#d8576b"
             ],
             [
              0.6666666666666666,
              "#ed7953"
             ],
             [
              0.7777777777777778,
              "#fb9f3a"
             ],
             [
              0.8888888888888888,
              "#fdca26"
             ],
             [
              1,
              "#f0f921"
             ]
            ],
            "type": "histogram2d"
           }
          ],
          "histogram2dcontour": [
           {
            "colorbar": {
             "outlinewidth": 0,
             "ticks": ""
            },
            "colorscale": [
             [
              0,
              "#0d0887"
             ],
             [
              0.1111111111111111,
              "#46039f"
             ],
             [
              0.2222222222222222,
              "#7201a8"
             ],
             [
              0.3333333333333333,
              "#9c179e"
             ],
             [
              0.4444444444444444,
              "#bd3786"
             ],
             [
              0.5555555555555556,
              "#d8576b"
             ],
             [
              0.6666666666666666,
              "#ed7953"
             ],
             [
              0.7777777777777778,
              "#fb9f3a"
             ],
             [
              0.8888888888888888,
              "#fdca26"
             ],
             [
              1,
              "#f0f921"
             ]
            ],
            "type": "histogram2dcontour"
           }
          ],
          "mesh3d": [
           {
            "colorbar": {
             "outlinewidth": 0,
             "ticks": ""
            },
            "type": "mesh3d"
           }
          ],
          "parcoords": [
           {
            "line": {
             "colorbar": {
              "outlinewidth": 0,
              "ticks": ""
             }
            },
            "type": "parcoords"
           }
          ],
          "pie": [
           {
            "automargin": true,
            "type": "pie"
           }
          ],
          "scatter": [
           {
            "fillpattern": {
             "fillmode": "overlay",
             "size": 10,
             "solidity": 0.2
            },
            "type": "scatter"
           }
          ],
          "scatter3d": [
           {
            "line": {
             "colorbar": {
              "outlinewidth": 0,
              "ticks": ""
             }
            },
            "marker": {
             "colorbar": {
              "outlinewidth": 0,
              "ticks": ""
             }
            },
            "type": "scatter3d"
           }
          ],
          "scattercarpet": [
           {
            "marker": {
             "colorbar": {
              "outlinewidth": 0,
              "ticks": ""
             }
            },
            "type": "scattercarpet"
           }
          ],
          "scattergeo": [
           {
            "marker": {
             "colorbar": {
              "outlinewidth": 0,
              "ticks": ""
             }
            },
            "type": "scattergeo"
           }
          ],
          "scattergl": [
           {
            "marker": {
             "colorbar": {
              "outlinewidth": 0,
              "ticks": ""
             }
            },
            "type": "scattergl"
           }
          ],
          "scattermapbox": [
           {
            "marker": {
             "colorbar": {
              "outlinewidth": 0,
              "ticks": ""
             }
            },
            "type": "scattermapbox"
           }
          ],
          "scatterpolar": [
           {
            "marker": {
             "colorbar": {
              "outlinewidth": 0,
              "ticks": ""
             }
            },
            "type": "scatterpolar"
           }
          ],
          "scatterpolargl": [
           {
            "marker": {
             "colorbar": {
              "outlinewidth": 0,
              "ticks": ""
             }
            },
            "type": "scatterpolargl"
           }
          ],
          "scatterternary": [
           {
            "marker": {
             "colorbar": {
              "outlinewidth": 0,
              "ticks": ""
             }
            },
            "type": "scatterternary"
           }
          ],
          "surface": [
           {
            "colorbar": {
             "outlinewidth": 0,
             "ticks": ""
            },
            "colorscale": [
             [
              0,
              "#0d0887"
             ],
             [
              0.1111111111111111,
              "#46039f"
             ],
             [
              0.2222222222222222,
              "#7201a8"
             ],
             [
              0.3333333333333333,
              "#9c179e"
             ],
             [
              0.4444444444444444,
              "#bd3786"
             ],
             [
              0.5555555555555556,
              "#d8576b"
             ],
             [
              0.6666666666666666,
              "#ed7953"
             ],
             [
              0.7777777777777778,
              "#fb9f3a"
             ],
             [
              0.8888888888888888,
              "#fdca26"
             ],
             [
              1,
              "#f0f921"
             ]
            ],
            "type": "surface"
           }
          ],
          "table": [
           {
            "cells": {
             "fill": {
              "color": "#EBF0F8"
             },
             "line": {
              "color": "white"
             }
            },
            "header": {
             "fill": {
              "color": "#C8D4E3"
             },
             "line": {
              "color": "white"
             }
            },
            "type": "table"
           }
          ]
         },
         "layout": {
          "annotationdefaults": {
           "arrowcolor": "#2a3f5f",
           "arrowhead": 0,
           "arrowwidth": 1
          },
          "autotypenumbers": "strict",
          "coloraxis": {
           "colorbar": {
            "outlinewidth": 0,
            "ticks": ""
           }
          },
          "colorscale": {
           "diverging": [
            [
             0,
             "#8e0152"
            ],
            [
             0.1,
             "#c51b7d"
            ],
            [
             0.2,
             "#de77ae"
            ],
            [
             0.3,
             "#f1b6da"
            ],
            [
             0.4,
             "#fde0ef"
            ],
            [
             0.5,
             "#f7f7f7"
            ],
            [
             0.6,
             "#e6f5d0"
            ],
            [
             0.7,
             "#b8e186"
            ],
            [
             0.8,
             "#7fbc41"
            ],
            [
             0.9,
             "#4d9221"
            ],
            [
             1,
             "#276419"
            ]
           ],
           "sequential": [
            [
             0,
             "#0d0887"
            ],
            [
             0.1111111111111111,
             "#46039f"
            ],
            [
             0.2222222222222222,
             "#7201a8"
            ],
            [
             0.3333333333333333,
             "#9c179e"
            ],
            [
             0.4444444444444444,
             "#bd3786"
            ],
            [
             0.5555555555555556,
             "#d8576b"
            ],
            [
             0.6666666666666666,
             "#ed7953"
            ],
            [
             0.7777777777777778,
             "#fb9f3a"
            ],
            [
             0.8888888888888888,
             "#fdca26"
            ],
            [
             1,
             "#f0f921"
            ]
           ],
           "sequentialminus": [
            [
             0,
             "#0d0887"
            ],
            [
             0.1111111111111111,
             "#46039f"
            ],
            [
             0.2222222222222222,
             "#7201a8"
            ],
            [
             0.3333333333333333,
             "#9c179e"
            ],
            [
             0.4444444444444444,
             "#bd3786"
            ],
            [
             0.5555555555555556,
             "#d8576b"
            ],
            [
             0.6666666666666666,
             "#ed7953"
            ],
            [
             0.7777777777777778,
             "#fb9f3a"
            ],
            [
             0.8888888888888888,
             "#fdca26"
            ],
            [
             1,
             "#f0f921"
            ]
           ]
          },
          "colorway": [
           "#636efa",
           "#EF553B",
           "#00cc96",
           "#ab63fa",
           "#FFA15A",
           "#19d3f3",
           "#FF6692",
           "#B6E880",
           "#FF97FF",
           "#FECB52"
          ],
          "font": {
           "color": "#2a3f5f"
          },
          "geo": {
           "bgcolor": "white",
           "lakecolor": "white",
           "landcolor": "#E5ECF6",
           "showlakes": true,
           "showland": true,
           "subunitcolor": "white"
          },
          "hoverlabel": {
           "align": "left"
          },
          "hovermode": "closest",
          "mapbox": {
           "style": "light"
          },
          "paper_bgcolor": "white",
          "plot_bgcolor": "#E5ECF6",
          "polar": {
           "angularaxis": {
            "gridcolor": "white",
            "linecolor": "white",
            "ticks": ""
           },
           "bgcolor": "#E5ECF6",
           "radialaxis": {
            "gridcolor": "white",
            "linecolor": "white",
            "ticks": ""
           }
          },
          "scene": {
           "xaxis": {
            "backgroundcolor": "#E5ECF6",
            "gridcolor": "white",
            "gridwidth": 2,
            "linecolor": "white",
            "showbackground": true,
            "ticks": "",
            "zerolinecolor": "white"
           },
           "yaxis": {
            "backgroundcolor": "#E5ECF6",
            "gridcolor": "white",
            "gridwidth": 2,
            "linecolor": "white",
            "showbackground": true,
            "ticks": "",
            "zerolinecolor": "white"
           },
           "zaxis": {
            "backgroundcolor": "#E5ECF6",
            "gridcolor": "white",
            "gridwidth": 2,
            "linecolor": "white",
            "showbackground": true,
            "ticks": "",
            "zerolinecolor": "white"
           }
          },
          "shapedefaults": {
           "line": {
            "color": "#2a3f5f"
           }
          },
          "ternary": {
           "aaxis": {
            "gridcolor": "white",
            "linecolor": "white",
            "ticks": ""
           },
           "baxis": {
            "gridcolor": "white",
            "linecolor": "white",
            "ticks": ""
           },
           "bgcolor": "#E5ECF6",
           "caxis": {
            "gridcolor": "white",
            "linecolor": "white",
            "ticks": ""
           }
          },
          "title": {
           "x": 0.05
          },
          "xaxis": {
           "automargin": true,
           "gridcolor": "white",
           "linecolor": "white",
           "ticks": "",
           "title": {
            "standoff": 15
           },
           "zerolinecolor": "white",
           "zerolinewidth": 2
          },
          "yaxis": {
           "automargin": true,
           "gridcolor": "white",
           "linecolor": "white",
           "ticks": "",
           "title": {
            "standoff": 15
           },
           "zerolinecolor": "white",
           "zerolinewidth": 2
          }
         }
        },
        "title": {
         "text": "Correlation Matrix for Track Features"
        },
        "width": 800
       }
      },
      "text/html": [
       "<div>                            <div id=\"2d19896b-4707-4647-924d-0e630dc78e4b\" class=\"plotly-graph-div\" style=\"height:800px; width:800px;\"></div>            <script type=\"text/javascript\">                require([\"plotly\"], function(Plotly) {                    window.PLOTLYENV=window.PLOTLYENV || {};                                    if (document.getElementById(\"2d19896b-4707-4647-924d-0e630dc78e4b\")) {                    Plotly.newPlot(                        \"2d19896b-4707-4647-924d-0e630dc78e4b\",                        [{\"text\":[[1.0,0.3588255527434406,0.6054268568700631,0.17840797509512266,0.22044229239864008,-0.4478238929807802,-0.7153379935220603,-0.17843974089029666,0.2378446503674377,-0.06307443326484775],[0.3588255527434406,1.0,0.8370090099214587,-0.13305534050117945,0.03304412226011028,-0.3972156822075208,-0.16974872238522434,0.24473840056715357,0.6784555985406008,0.18910359321739653],[0.6054268568700631,0.8370090099214587,1.0,-0.1223337765440441,0.22956644516524882,-0.3312802709497951,-0.40992646314148806,0.08074878853145687,0.481781841171427,0.20755323124721778],[0.17840797509512266,-0.13305534050117945,-0.1223337765440441,1.0,-0.1229070231348306,-0.0259476472202666,-0.146621636476617,-0.20730417658378633,-0.08668788743074343,-0.23953770300385652],[0.22044229239864008,0.03304412226011028,0.22956644516524882,-0.1229070231348306,1.0,-0.13737647760292446,-0.0403003325168632,0.05857598190342465,-0.0021147336169475882,-0.04798470459240189],[-0.4478238929807802,-0.3972156822075208,-0.3312802709497951,-0.0259476472202666,-0.13737647760292446,1.0,0.5732177852196079,-0.07805291070071976,-0.5488791648668135,-0.03646064179113318],[-0.7153379935220603,-0.16974872238522434,-0.40992646314148806,-0.146621636476617,-0.0403003325168632,0.5732177852196079,1.0,0.04713580730751369,-0.1611948740666273,-0.03293472931835462],[-0.17843974089029666,0.24473840056715357,0.08074878853145687,-0.20730417658378633,0.05857598190342465,-0.07805291070071976,0.04713580730751369,1.0,0.28855033010634157,0.12731840612090214],[0.2378446503674377,0.6784555985406008,0.481781841171427,-0.08668788743074343,-0.0021147336169475882,-0.5488791648668135,-0.1611948740666273,0.28855033010634157,1.0,0.23929018973227403],[-0.06307443326484775,0.18910359321739653,0.20755323124721778,-0.23953770300385652,-0.04798470459240189,-0.03646064179113318,-0.03293472931835462,0.12731840612090214,0.23929018973227403,1.0]],\"texttemplate\":\"%{text:.2f}\",\"x\":[\"danceability\",\"energy\",\"loudness\",\"mode\",\"speechiness\",\"acousticness\",\"instrumentalness\",\"liveness\",\"valence\",\"tempo\"],\"y\":[\"danceability\",\"energy\",\"loudness\",\"mode\",\"speechiness\",\"acousticness\",\"instrumentalness\",\"liveness\",\"valence\",\"tempo\"],\"z\":[[1.0,0.3588255527434406,0.6054268568700631,0.17840797509512266,0.22044229239864008,-0.4478238929807802,-0.7153379935220603,-0.17843974089029666,0.2378446503674377,-0.06307443326484775],[0.3588255527434406,1.0,0.8370090099214587,-0.13305534050117945,0.03304412226011028,-0.3972156822075208,-0.16974872238522434,0.24473840056715357,0.6784555985406008,0.18910359321739653],[0.6054268568700631,0.8370090099214587,1.0,-0.1223337765440441,0.22956644516524882,-0.3312802709497951,-0.40992646314148806,0.08074878853145687,0.481781841171427,0.20755323124721778],[0.17840797509512266,-0.13305534050117945,-0.1223337765440441,1.0,-0.1229070231348306,-0.0259476472202666,-0.146621636476617,-0.20730417658378633,-0.08668788743074343,-0.23953770300385652],[0.22044229239864008,0.03304412226011028,0.22956644516524882,-0.1229070231348306,1.0,-0.13737647760292446,-0.0403003325168632,0.05857598190342465,-0.0021147336169475882,-0.04798470459240189],[-0.4478238929807802,-0.3972156822075208,-0.3312802709497951,-0.0259476472202666,-0.13737647760292446,1.0,0.5732177852196079,-0.07805291070071976,-0.5488791648668135,-0.03646064179113318],[-0.7153379935220603,-0.16974872238522434,-0.40992646314148806,-0.146621636476617,-0.0403003325168632,0.5732177852196079,1.0,0.04713580730751369,-0.1611948740666273,-0.03293472931835462],[-0.17843974089029666,0.24473840056715357,0.08074878853145687,-0.20730417658378633,0.05857598190342465,-0.07805291070071976,0.04713580730751369,1.0,0.28855033010634157,0.12731840612090214],[0.2378446503674377,0.6784555985406008,0.481781841171427,-0.08668788743074343,-0.0021147336169475882,-0.5488791648668135,-0.1611948740666273,0.28855033010634157,1.0,0.23929018973227403],[-0.06307443326484775,0.18910359321739653,0.20755323124721778,-0.23953770300385652,-0.04798470459240189,-0.03646064179113318,-0.03293472931835462,0.12731840612090214,0.23929018973227403,1.0]],\"type\":\"heatmap\"}],                        {\"template\":{\"data\":{\"histogram2dcontour\":[{\"type\":\"histogram2dcontour\",\"colorbar\":{\"outlinewidth\":0,\"ticks\":\"\"},\"colorscale\":[[0.0,\"#0d0887\"],[0.1111111111111111,\"#46039f\"],[0.2222222222222222,\"#7201a8\"],[0.3333333333333333,\"#9c179e\"],[0.4444444444444444,\"#bd3786\"],[0.5555555555555556,\"#d8576b\"],[0.6666666666666666,\"#ed7953\"],[0.7777777777777778,\"#fb9f3a\"],[0.8888888888888888,\"#fdca26\"],[1.0,\"#f0f921\"]]}],\"choropleth\":[{\"type\":\"choropleth\",\"colorbar\":{\"outlinewidth\":0,\"ticks\":\"\"}}],\"histogram2d\":[{\"type\":\"histogram2d\",\"colorbar\":{\"outlinewidth\":0,\"ticks\":\"\"},\"colorscale\":[[0.0,\"#0d0887\"],[0.1111111111111111,\"#46039f\"],[0.2222222222222222,\"#7201a8\"],[0.3333333333333333,\"#9c179e\"],[0.4444444444444444,\"#bd3786\"],[0.5555555555555556,\"#d8576b\"],[0.6666666666666666,\"#ed7953\"],[0.7777777777777778,\"#fb9f3a\"],[0.8888888888888888,\"#fdca26\"],[1.0,\"#f0f921\"]]}],\"heatmap\":[{\"type\":\"heatmap\",\"colorbar\":{\"outlinewidth\":0,\"ticks\":\"\"},\"colorscale\":[[0.0,\"#0d0887\"],[0.1111111111111111,\"#46039f\"],[0.2222222222222222,\"#7201a8\"],[0.3333333333333333,\"#9c179e\"],[0.4444444444444444,\"#bd3786\"],[0.5555555555555556,\"#d8576b\"],[0.6666666666666666,\"#ed7953\"],[0.7777777777777778,\"#fb9f3a\"],[0.8888888888888888,\"#fdca26\"],[1.0,\"#f0f921\"]]}],\"heatmapgl\":[{\"type\":\"heatmapgl\",\"colorbar\":{\"outlinewidth\":0,\"ticks\":\"\"},\"colorscale\":[[0.0,\"#0d0887\"],[0.1111111111111111,\"#46039f\"],[0.2222222222222222,\"#7201a8\"],[0.3333333333333333,\"#9c179e\"],[0.4444444444444444,\"#bd3786\"],[0.5555555555555556,\"#d8576b\"],[0.6666666666666666,\"#ed7953\"],[0.7777777777777778,\"#fb9f3a\"],[0.8888888888888888,\"#fdca26\"],[1.0,\"#f0f921\"]]}],\"contourcarpet\":[{\"type\":\"contourcarpet\",\"colorbar\":{\"outlinewidth\":0,\"ticks\":\"\"}}],\"contour\":[{\"type\":\"contour\",\"colorbar\":{\"outlinewidth\":0,\"ticks\":\"\"},\"colorscale\":[[0.0,\"#0d0887\"],[0.1111111111111111,\"#46039f\"],[0.2222222222222222,\"#7201a8\"],[0.3333333333333333,\"#9c179e\"],[0.4444444444444444,\"#bd3786\"],[0.5555555555555556,\"#d8576b\"],[0.6666666666666666,\"#ed7953\"],[0.7777777777777778,\"#fb9f3a\"],[0.8888888888888888,\"#fdca26\"],[1.0,\"#f0f921\"]]}],\"surface\":[{\"type\":\"surface\",\"colorbar\":{\"outlinewidth\":0,\"ticks\":\"\"},\"colorscale\":[[0.0,\"#0d0887\"],[0.1111111111111111,\"#46039f\"],[0.2222222222222222,\"#7201a8\"],[0.3333333333333333,\"#9c179e\"],[0.4444444444444444,\"#bd3786\"],[0.5555555555555556,\"#d8576b\"],[0.6666666666666666,\"#ed7953\"],[0.7777777777777778,\"#fb9f3a\"],[0.8888888888888888,\"#fdca26\"],[1.0,\"#f0f921\"]]}],\"mesh3d\":[{\"type\":\"mesh3d\",\"colorbar\":{\"outlinewidth\":0,\"ticks\":\"\"}}],\"scatter\":[{\"fillpattern\":{\"fillmode\":\"overlay\",\"size\":10,\"solidity\":0.2},\"type\":\"scatter\"}],\"parcoords\":[{\"type\":\"parcoords\",\"line\":{\"colorbar\":{\"outlinewidth\":0,\"ticks\":\"\"}}}],\"scatterpolargl\":[{\"type\":\"scatterpolargl\",\"marker\":{\"colorbar\":{\"outlinewidth\":0,\"ticks\":\"\"}}}],\"bar\":[{\"error_x\":{\"color\":\"#2a3f5f\"},\"error_y\":{\"color\":\"#2a3f5f\"},\"marker\":{\"line\":{\"color\":\"#E5ECF6\",\"width\":0.5},\"pattern\":{\"fillmode\":\"overlay\",\"size\":10,\"solidity\":0.2}},\"type\":\"bar\"}],\"scattergeo\":[{\"type\":\"scattergeo\",\"marker\":{\"colorbar\":{\"outlinewidth\":0,\"ticks\":\"\"}}}],\"scatterpolar\":[{\"type\":\"scatterpolar\",\"marker\":{\"colorbar\":{\"outlinewidth\":0,\"ticks\":\"\"}}}],\"histogram\":[{\"marker\":{\"pattern\":{\"fillmode\":\"overlay\",\"size\":10,\"solidity\":0.2}},\"type\":\"histogram\"}],\"scattergl\":[{\"type\":\"scattergl\",\"marker\":{\"colorbar\":{\"outlinewidth\":0,\"ticks\":\"\"}}}],\"scatter3d\":[{\"type\":\"scatter3d\",\"line\":{\"colorbar\":{\"outlinewidth\":0,\"ticks\":\"\"}},\"marker\":{\"colorbar\":{\"outlinewidth\":0,\"ticks\":\"\"}}}],\"scattermapbox\":[{\"type\":\"scattermapbox\",\"marker\":{\"colorbar\":{\"outlinewidth\":0,\"ticks\":\"\"}}}],\"scatterternary\":[{\"type\":\"scatterternary\",\"marker\":{\"colorbar\":{\"outlinewidth\":0,\"ticks\":\"\"}}}],\"scattercarpet\":[{\"type\":\"scattercarpet\",\"marker\":{\"colorbar\":{\"outlinewidth\":0,\"ticks\":\"\"}}}],\"carpet\":[{\"aaxis\":{\"endlinecolor\":\"#2a3f5f\",\"gridcolor\":\"white\",\"linecolor\":\"white\",\"minorgridcolor\":\"white\",\"startlinecolor\":\"#2a3f5f\"},\"baxis\":{\"endlinecolor\":\"#2a3f5f\",\"gridcolor\":\"white\",\"linecolor\":\"white\",\"minorgridcolor\":\"white\",\"startlinecolor\":\"#2a3f5f\"},\"type\":\"carpet\"}],\"table\":[{\"cells\":{\"fill\":{\"color\":\"#EBF0F8\"},\"line\":{\"color\":\"white\"}},\"header\":{\"fill\":{\"color\":\"#C8D4E3\"},\"line\":{\"color\":\"white\"}},\"type\":\"table\"}],\"barpolar\":[{\"marker\":{\"line\":{\"color\":\"#E5ECF6\",\"width\":0.5},\"pattern\":{\"fillmode\":\"overlay\",\"size\":10,\"solidity\":0.2}},\"type\":\"barpolar\"}],\"pie\":[{\"automargin\":true,\"type\":\"pie\"}]},\"layout\":{\"autotypenumbers\":\"strict\",\"colorway\":[\"#636efa\",\"#EF553B\",\"#00cc96\",\"#ab63fa\",\"#FFA15A\",\"#19d3f3\",\"#FF6692\",\"#B6E880\",\"#FF97FF\",\"#FECB52\"],\"font\":{\"color\":\"#2a3f5f\"},\"hovermode\":\"closest\",\"hoverlabel\":{\"align\":\"left\"},\"paper_bgcolor\":\"white\",\"plot_bgcolor\":\"#E5ECF6\",\"polar\":{\"bgcolor\":\"#E5ECF6\",\"angularaxis\":{\"gridcolor\":\"white\",\"linecolor\":\"white\",\"ticks\":\"\"},\"radialaxis\":{\"gridcolor\":\"white\",\"linecolor\":\"white\",\"ticks\":\"\"}},\"ternary\":{\"bgcolor\":\"#E5ECF6\",\"aaxis\":{\"gridcolor\":\"white\",\"linecolor\":\"white\",\"ticks\":\"\"},\"baxis\":{\"gridcolor\":\"white\",\"linecolor\":\"white\",\"ticks\":\"\"},\"caxis\":{\"gridcolor\":\"white\",\"linecolor\":\"white\",\"ticks\":\"\"}},\"coloraxis\":{\"colorbar\":{\"outlinewidth\":0,\"ticks\":\"\"}},\"colorscale\":{\"sequential\":[[0.0,\"#0d0887\"],[0.1111111111111111,\"#46039f\"],[0.2222222222222222,\"#7201a8\"],[0.3333333333333333,\"#9c179e\"],[0.4444444444444444,\"#bd3786\"],[0.5555555555555556,\"#d8576b\"],[0.6666666666666666,\"#ed7953\"],[0.7777777777777778,\"#fb9f3a\"],[0.8888888888888888,\"#fdca26\"],[1.0,\"#f0f921\"]],\"sequentialminus\":[[0.0,\"#0d0887\"],[0.1111111111111111,\"#46039f\"],[0.2222222222222222,\"#7201a8\"],[0.3333333333333333,\"#9c179e\"],[0.4444444444444444,\"#bd3786\"],[0.5555555555555556,\"#d8576b\"],[0.6666666666666666,\"#ed7953\"],[0.7777777777777778,\"#fb9f3a\"],[0.8888888888888888,\"#fdca26\"],[1.0,\"#f0f921\"]],\"diverging\":[[0,\"#8e0152\"],[0.1,\"#c51b7d\"],[0.2,\"#de77ae\"],[0.3,\"#f1b6da\"],[0.4,\"#fde0ef\"],[0.5,\"#f7f7f7\"],[0.6,\"#e6f5d0\"],[0.7,\"#b8e186\"],[0.8,\"#7fbc41\"],[0.9,\"#4d9221\"],[1,\"#276419\"]]},\"xaxis\":{\"gridcolor\":\"white\",\"linecolor\":\"white\",\"ticks\":\"\",\"title\":{\"standoff\":15},\"zerolinecolor\":\"white\",\"automargin\":true,\"zerolinewidth\":2},\"yaxis\":{\"gridcolor\":\"white\",\"linecolor\":\"white\",\"ticks\":\"\",\"title\":{\"standoff\":15},\"zerolinecolor\":\"white\",\"automargin\":true,\"zerolinewidth\":2},\"scene\":{\"xaxis\":{\"backgroundcolor\":\"#E5ECF6\",\"gridcolor\":\"white\",\"linecolor\":\"white\",\"showbackground\":true,\"ticks\":\"\",\"zerolinecolor\":\"white\",\"gridwidth\":2},\"yaxis\":{\"backgroundcolor\":\"#E5ECF6\",\"gridcolor\":\"white\",\"linecolor\":\"white\",\"showbackground\":true,\"ticks\":\"\",\"zerolinecolor\":\"white\",\"gridwidth\":2},\"zaxis\":{\"backgroundcolor\":\"#E5ECF6\",\"gridcolor\":\"white\",\"linecolor\":\"white\",\"showbackground\":true,\"ticks\":\"\",\"zerolinecolor\":\"white\",\"gridwidth\":2}},\"shapedefaults\":{\"line\":{\"color\":\"#2a3f5f\"}},\"annotationdefaults\":{\"arrowcolor\":\"#2a3f5f\",\"arrowhead\":0,\"arrowwidth\":1},\"geo\":{\"bgcolor\":\"white\",\"landcolor\":\"#E5ECF6\",\"subunitcolor\":\"white\",\"showland\":true,\"showlakes\":true,\"lakecolor\":\"white\"},\"title\":{\"x\":0.05},\"mapbox\":{\"style\":\"light\"}}},\"coloraxis\":{\"colorscale\":[[0.0,\"#0d0887\"],[0.1111111111111111,\"#46039f\"],[0.2222222222222222,\"#7201a8\"],[0.3333333333333333,\"#9c179e\"],[0.4444444444444444,\"#bd3786\"],[0.5555555555555556,\"#d8576b\"],[0.6666666666666666,\"#ed7953\"],[0.7777777777777778,\"#fb9f3a\"],[0.8888888888888888,\"#fdca26\"],[1.0,\"#f0f921\"]]},\"width\":800,\"height\":800,\"title\":{\"text\":\"Correlation Matrix for Track Features\"}},                        {\"responsive\": true}                    ).then(function(){\n",
       "                            \n",
       "var gd = document.getElementById('2d19896b-4707-4647-924d-0e630dc78e4b');\n",
       "var x = new MutationObserver(function (mutations, observer) {{\n",
       "        var display = window.getComputedStyle(gd).display;\n",
       "        if (!display || display === 'none') {{\n",
       "            console.log([gd, 'removed!']);\n",
       "            Plotly.purge(gd);\n",
       "            observer.disconnect();\n",
       "        }}\n",
       "}});\n",
       "\n",
       "// Listen for the removal of the full notebook cells\n",
       "var notebookContainer = gd.closest('#notebook-container');\n",
       "if (notebookContainer) {{\n",
       "    x.observe(notebookContainer, {childList: true});\n",
       "}}\n",
       "\n",
       "// Listen for the clearing of the current output cell\n",
       "var outputEl = gd.closest('.output');\n",
       "if (outputEl) {{\n",
       "    x.observe(outputEl, {childList: true});\n",
       "}}\n",
       "\n",
       "                        })                };                });            </script>        </div>"
      ]
     },
     "metadata": {},
     "output_type": "display_data"
    }
   ],
   "source": [
    "# Separating features from the dataframe\n",
    "features = df1[['danceability', 'energy','loudness', 'mode','speechiness', 'acousticness','instrumentalness', 'liveness', 'valence', 'tempo', ]]\n",
    "# Finding correlation\n",
    "df = features.corr()\n",
    "#Building Visuals\n",
    "fig = go.Figure()\n",
    "fig.add_trace(go.Heatmap(x = df.columns,y = df.index,z = np.array(df),text=df.values,texttemplate='%{text:.2f}'))\n",
    "fig.update_layout(width = 800, height = 800,title = \"Correlation Matrix for Track Features\", coloraxis1=dict(colorscale=\"Plasma\"))\n",
    "fig.show()"
   ]
  },
  {
   "cell_type": "code",
   "execution_count": null,
   "id": "74a383ec",
   "metadata": {},
   "outputs": [],
   "source": []
  }
 ],
 "metadata": {
  "kernelspec": {
   "display_name": "Python 3 (ipykernel)",
   "language": "python",
   "name": "python3"
  },
  "language_info": {
   "codemirror_mode": {
    "name": "ipython",
    "version": 3
   },
   "file_extension": ".py",
   "mimetype": "text/x-python",
   "name": "python",
   "nbconvert_exporter": "python",
   "pygments_lexer": "ipython3",
   "version": "3.9.7"
  }
 },
 "nbformat": 4,
 "nbformat_minor": 5
}
